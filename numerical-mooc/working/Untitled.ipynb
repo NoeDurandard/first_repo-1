{
 "cells": [
  {
   "cell_type": "markdown",
   "metadata": {},
   "source": [
    "import numpy"
   ]
  },
  {
   "cell_type": "code",
   "execution_count": 2,
   "metadata": {},
   "outputs": [],
   "source": [
    "import numpy"
   ]
  },
  {
   "cell_type": "code",
   "execution_count": 3,
   "metadata": {},
   "outputs": [
    {
     "name": "stdout",
     "output_type": "stream",
     "text": [
      "6.261904761904762\n"
     ]
    }
   ],
   "source": [
    "x=numpy.linspace(4,23,43)\n",
    "print(x[5])"
   ]
  },
  {
   "cell_type": "code",
   "execution_count": 6,
   "metadata": {},
   "outputs": [
    {
     "name": "stdout",
     "output_type": "stream",
     "text": [
      "[[1. 1. 1. 1. 1. 1. 1. 1. 1. 1. 1. 1. 1. 1. 1. 1. 1.]\n",
      " [1. 1. 1. 1. 1. 1. 1. 1. 1. 1. 1. 1. 1. 1. 1. 1. 1.]\n",
      " [1. 1. 1. 1. 1. 1. 1. 1. 1. 1. 1. 1. 1. 1. 1. 1. 1.]\n",
      " [1. 1. 1. 1. 1. 1. 1. 1. 1. 1. 1. 1. 1. 1. 1. 1. 1.]\n",
      " [1. 1. 1. 1. 1. 1. 1. 1. 1. 1. 1. 1. 1. 1. 1. 1. 1.]]\n",
      "[[0. 0. 0. 0. 0. 0. 0. 0. 0. 0. 0. 0. 0. 0. 0. 0. 0.]\n",
      " [0. 0. 0. 0. 0. 0. 0. 0. 0. 0. 0. 0. 0. 0. 0. 0. 0.]\n",
      " [0. 0. 0. 0. 0. 0. 0. 0. 0. 0. 0. 0. 0. 0. 0. 0. 0.]\n",
      " [0. 0. 0. 0. 0. 0. 0. 0. 0. 0. 0. 0. 0. 0. 0. 0. 0.]\n",
      " [0. 0. 0. 0. 0. 0. 0. 0. 0. 0. 0. 0. 0. 0. 0. 0. 0.]]\n"
     ]
    }
   ],
   "source": [
    "ones_array = numpy.ones( (5,17) ) \n",
    "zeros_array = numpy.zeros( ones_array.shape ) \n",
    "print(ones_array)\n",
    "print(zeros_array)"
   ]
  },
  {
   "cell_type": "code",
   "execution_count": 10,
   "metadata": {},
   "outputs": [
    {
     "name": "stdout",
     "output_type": "stream",
     "text": [
      "0.9900910096418035\n"
     ]
    }
   ],
   "source": [
    "p = 7\n",
    "r = numpy.array([11.2, 4.7, 6.6])\n",
    "a=numpy.sin(p/r)**3\n",
    "print(a[1])"
   ]
  },
  {
   "cell_type": "code",
   "execution_count": 11,
   "metadata": {},
   "outputs": [],
   "source": [
    "import math"
   ]
  },
  {
   "cell_type": "code",
   "execution_count": 14,
   "metadata": {},
   "outputs": [
    {
     "name": "stdout",
     "output_type": "stream",
     "text": [
      "2.000000000000006\n"
     ]
    }
   ],
   "source": [
    "p=math.log((1.500-1.475)/(1.600-1.500))/math.log(0.5)\n",
    "print(p)"
   ]
  },
  {
   "cell_type": "code",
   "execution_count": 13,
   "metadata": {},
   "outputs": [],
   "source": [
    "def l1_diff(u_coarse, u_fine, dt):\n",
    "    \"\"\"\n",
    "    Returns the difference in the L1-norm between the solution on\n",
    "    a coarse grid and the solution on a fine grid.\n",
    "    \n",
    "    Parameters\n",
    "    ----------\n",
    "    u_coarse : numpy.ndarray\n",
    "        Solution on the coarse grid as an array of floats.\n",
    "    u_fine : numpy.ndarray\n",
    "        Solution on the fine grid as an array of floats.\n",
    "    dt : float\n",
    "        Time-step size.\n",
    "    \n",
    "    Returns\n",
    "    -------\n",
    "    diff : float\n",
    "        The difference between the two solutions in the L1-norm\n",
    "        scaled by the time-step size.\n",
    "    \"\"\"\n",
    "    N_coarse = len(u_coarse)\n",
    "    N_fine = len(u_fine)\n",
    "    ratio = math.ceil(N_fine / N_coarse)\n",
    "    diff = dt * numpy.sum(numpy.abs(u_coarse - u_fine[::ratio]))\n",
    "    return diff"
   ]
  },
  {
   "cell_type": "code",
   "execution_count": null,
   "metadata": {},
   "outputs": [],
   "source": [
    "r = 2  # refinement ratio for the time-step size\n",
    "h = 0.01  # base grid size\n",
    "\n",
    "dt_values2 = [h, r * h, r**2 * h]\n",
    "u_values2 = [1.475,1.5,1.6]\n",
    "\n",
    "for dt in dt_values2:\n",
    "    N = int(T / dt) + 1  # number of time steps\n",
    "    # Create array to store the solution at each time step.\n",
    "    u = numpy.empty((N, 4))\n",
    "    # Set initial conditions.\n",
    "    u[0] = numpy.array([v0, theta0, x0, y0])\n",
    "    # Time integration using Euler's method.\n",
    "    for n in range(N - 1):\n",
    "        u[n + 1] = euler_step(u[n], rhs_phugoid, dt, CL, CD, g, vt)\n",
    "    # Store the solution.\n",
    "    u_values2.append(u)\n",
    "\n",
    "# Calculate f2 - f1.\n",
    "f2_f1 = l1_diff(u_values2[1][:, 2], u_values2[0][:, 2], dt_values2[1])\n",
    "# Calculate f3 - f2.\n",
    "f3_f2 = l1_diff(u_values2[2][:, 2], u_values2[1][:, 2], dt_values2[2])\n",
    "# Calculate the observed order of convergence.\n",
    "p = math.log(f3_f2 / f2_f1) / math.log(r)\n",
    "print('Observed order of convergence: p = {:.3f}'.format(p))"
   ]
  }
 ],
 "metadata": {
  "kernelspec": {
   "display_name": "Python 3",
   "language": "python",
   "name": "python3"
  },
  "language_info": {
   "codemirror_mode": {
    "name": "ipython",
    "version": 3
   },
   "file_extension": ".py",
   "mimetype": "text/x-python",
   "name": "python",
   "nbconvert_exporter": "python",
   "pygments_lexer": "ipython3",
   "version": "3.7.3"
  }
 },
 "nbformat": 4,
 "nbformat_minor": 2
}
