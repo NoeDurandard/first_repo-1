{
 "cells": [
  {
   "cell_type": "markdown",
   "metadata": {},
   "source": [
    "###### Content under Creative Commons Attribution license CC-BY 4.0, code under MIT license (c)2014 L.A. Barba, G.F. Forsyth."
   ]
  },
  {
   "cell_type": "markdown",
   "metadata": {},
   "source": [
    "# Coding Assignment: Rocket"
   ]
  },
  {
   "cell_type": "markdown",
   "metadata": {},
   "source": [
    "The equations of motion for a rocket in purely vertical flight are given by\n",
    "\n",
    "$$\n",
    "\\begin{align}\n",
    "\\frac{dh}{dt} &= v\\\\\n",
    "(m_s+m_p) \\frac{dv}{dt}& = -(m_s+m_p)g + \\dot{m}_pv_e - \\frac{1}{2}\\rho v|v|AC_D\n",
    "\\end{align}\n",
    "$$\n",
    "\n",
    "$h$ is the altitude of the rocket\n",
    "\n",
    "$m_s = 50kg$ is the weight of the rocket shell\n",
    "\n",
    "$g = 9.81 \\frac{m}{s^2}$\n",
    "\n",
    "$\\rho = 1.091 \\frac{kg}{m^3}$ is the average air density (assumed constant throughout flight)\n",
    "\n",
    "$A = \\pi r^2$ is the maximum cross sectional area of the rocket, where $r = 0.5 m$\n",
    "\n",
    "$v_e = 325 \\frac{m}{s}$ is the exhaust speed\n",
    "\n",
    "$C_D = 0.15 $ is the drag coefficient\n",
    "\n",
    "$m_{po} = 100 kg$ at time $t = 0$ is the initial weight of the rocket propellant\n",
    "\n",
    "The mass of the remaining propellant is given by:\n",
    "\n",
    "$$m_p = m_{po} - \\int^t_0 \\dot{m}_p d\\tau$$\n",
    "\n",
    "where $\\dot{m}_p$ is the time-varying burn rate given by the following figure:\n",
    "\n",
    "Propellant Burn Rate\n",
    "\n",
    "![burn rate](./figures/burn_rate.png)\n",
    "\n",
    "that is,\n",
    "\n",
    "$$\n",
    "\\begin{equation}\n",
    "    \\dot{m}_p \\left( t \\right) =\n",
    "    \\begin{cases}\n",
    "        20 & \\quad \\text{if} \\quad t < 5 \\\\\n",
    "        0 & \\quad \\text{otherwise}\n",
    "    \\end{cases}\n",
    "\\end{equation}\n",
    "$$\n",
    "\n",
    "Using Euler's method with a time-step size of $\\Delta t=0.1s$, create a Python script to calculate the altitude and velocity of the rocket from launch until crash down."
   ]
  },
  {
   "cell_type": "code",
   "execution_count": 1,
   "metadata": {},
   "outputs": [],
   "source": [
    "import math\n",
    "import numpy\n",
    "from matplotlib import pyplot\n",
    "%matplotlib inline\n",
    "# Set the font family and size to use for Matplotlib figures.\n",
    "pyplot.rcParams['font.family'] = 'serif'\n",
    "pyplot.rcParams['font.size'] = 16"
   ]
  },
  {
   "cell_type": "code",
   "execution_count": 2,
   "metadata": {},
   "outputs": [],
   "source": [
    "#problem data\n",
    "ms=50\n",
    "g=9.81\n",
    "rho=1.091\n",
    "A=numpy.pi*((0.5)**2)\n",
    "ve=325\n",
    "Cd=0.15\n",
    "dt=0.1\n",
    "\n",
    "mp0=100\n",
    "v0=0\n",
    "h0=0\n"
   ]
  },
  {
   "cell_type": "code",
   "execution_count": 3,
   "metadata": {},
   "outputs": [],
   "source": [
    "def rocket(u,ms,g,rho,A,ve,Cd,mp_rate):\n",
    "    v,mp,h=u\n",
    "    rocket=numpy.array([-g +(mp_rate*ve)/(ms+mp)-(rho*v*numpy.abs(v)*A*Cd)/(2*(ms+mp)),\n",
    "                       -mp_rate,\n",
    "                       v])\n",
    "    return rocket"
   ]
  },
  {
   "cell_type": "code",
   "execution_count": 4,
   "metadata": {},
   "outputs": [],
   "source": [
    "def euler_step(u,f,dt,*args):\n",
    "    u_new=u+dt*f(u,*args)\n",
    "    return u_new"
   ]
  },
  {
   "cell_type": "code",
   "execution_count": 5,
   "metadata": {},
   "outputs": [],
   "source": [
    "T=50.0\n",
    "dt=0.1\n",
    "N=int(T/dt)+1\n",
    "t=numpy.linspace(0,T,N)\n",
    "\n",
    "mp_rate=numpy.zeros(N)\n",
    "mask=numpy.where(numpy.logical_and(t>=0,t<5))\n",
    "mp_rate[mask]=20\n",
    "u=numpy.empty((N,3))\n",
    "u[0]=numpy.array([v0,mp0,h0])\n",
    "for n in range(N-1):\n",
    "    u[n+1]=euler_step(u[n],rocket,dt,ms,g,rho,A,ve,Cd,mp_rate[n])\n"
   ]
  },
  {
   "cell_type": "code",
   "execution_count": 6,
   "metadata": {},
   "outputs": [],
   "source": [
    "v=numpy.empty(N)\n",
    "mp=numpy.empty(N)\n",
    "h=numpy.empty(N)\n",
    "for i in range(N):\n",
    "    v[i]=u[i][0]\n",
    "    mp[i]=u[i][1]\n",
    "    h[i]=u[i][2]"
   ]
  },
  {
   "cell_type": "code",
   "execution_count": 12,
   "metadata": {},
   "outputs": [
    {
     "name": "stdout",
     "output_type": "stream",
     "text": [
      "232.1061334126179\n",
      "[5.]\n",
      "1334.1829454303067\n",
      "232.1061334126179\n",
      "[15.7]\n"
     ]
    },
    {
     "data": {
      "text/plain": [
       "(0.0, 40)"
      ]
     },
     "execution_count": 12,
     "metadata": {},
     "output_type": "execute_result"
    },
    {
     "data": {
      "image/png": "[encoded data removed]",
      "text/plain": [
       "<Figure size 432x432 with 1 Axes>"
      ]
     },
     "metadata": {
      "needs_background": "light"
     },
     "output_type": "display_data"
    }
   ],
   "source": [
    "print(v.max())\n",
    "print(numpy.where(v.max()==v)[0]*dt)\n",
    "print(h.max())\n",
    "print(v[50])\n",
    "print(numpy.where(h.max()==h)[0]*dt)\n",
    "pyplot.figure(figsize=(6,6))\n",
    "pyplot.xlabel('Temps (s)')\n",
    "pyplot.ylabel('Hauteur (m)')\n",
    "pyplot.plot(t,v, label='vitesse')\n",
    "pyplot.plot(t,h,label='hauteur')\n",
    "pyplot.grid()\n",
    "pyplot.legend()\n",
    "pyplot.ylim((0.0,1400))\n",
    "pyplot.xlim((0.0,40))"
   ]
  },
  {
   "cell_type": "code",
   "execution_count": 8,
   "metadata": {},
   "outputs": [
    {
     "name": "stdout",
     "output_type": "stream",
     "text": [
      "[20. 20. 20. 20. 20. 20. 20. 20. 20. 20. 20. 20. 20. 20. 20. 20. 20. 20.\n",
      " 20. 20. 20. 20. 20. 20. 20. 20. 20. 20. 20. 20. 20. 20. 20. 20. 20. 20.\n",
      " 20. 20. 20. 20. 20. 20. 20. 20. 20. 20. 20. 20. 20. 20.  0.  0.  0.  0.\n",
      "  0.  0.  0.  0.  0.  0.  0.  0.  0.  0.  0.  0.  0.  0.  0.  0.  0.  0.\n",
      "  0.  0.  0.  0.  0.  0.  0.  0.  0.  0.  0.  0.  0.  0.  0.  0.  0.  0.\n",
      "  0.  0.  0.  0.  0.  0.  0.  0.  0.  0.  0.  0.  0.  0.  0.  0.  0.  0.\n",
      "  0.  0.  0.  0.  0.  0.  0.  0.  0.  0.  0.  0.  0.  0.  0.  0.  0.  0.\n",
      "  0.  0.  0.  0.  0.  0.  0.  0.  0.  0.  0.  0.  0.  0.  0.  0.  0.  0.\n",
      "  0.  0.  0.  0.  0.  0.  0.  0.  0.  0.  0.  0.  0.  0.  0.  0.  0.  0.\n",
      "  0.  0.  0.  0.  0.  0.  0.  0.  0.  0.  0.  0.  0.  0.  0.  0.  0.  0.\n",
      "  0.  0.  0.  0.  0.  0.  0.  0.  0.  0.  0.  0.  0.  0.  0.  0.  0.  0.\n",
      "  0.  0.  0.  0.  0.  0.  0.  0.  0.  0.  0.  0.  0.  0.  0.  0.  0.  0.\n",
      "  0.  0.  0.  0.  0.  0.  0.  0.  0.  0.  0.  0.  0.  0.  0.  0.  0.  0.\n",
      "  0.  0.  0.  0.  0.  0.  0.  0.  0.  0.  0.  0.  0.  0.  0.  0.  0.  0.\n",
      "  0.  0.  0.  0.  0.  0.  0.  0.  0.  0.  0.  0.  0.  0.  0.  0.  0.  0.\n",
      "  0.  0.  0.  0.  0.  0.  0.  0.  0.  0.  0.  0.  0.  0.  0.  0.  0.  0.\n",
      "  0.  0.  0.  0.  0.  0.  0.  0.  0.  0.  0.  0.  0.  0.  0.  0.  0.  0.\n",
      "  0.  0.  0.  0.  0.  0.  0.  0.  0.  0.  0.  0.  0.  0.  0.  0.  0.  0.\n",
      "  0.  0.  0.  0.  0.  0.  0.  0.  0.  0.  0.  0.  0.  0.  0.  0.  0.  0.\n",
      "  0.  0.  0.  0.  0.  0.  0.  0.  0.  0.  0.  0.  0.  0.  0.  0.  0.  0.\n",
      "  0.  0.  0.  0.  0.  0.  0.  0.  0.  0.  0.  0.  0.  0.  0.  0.  0.  0.\n",
      "  0.  0.  0.  0.  0.  0.  0.  0.  0.  0.  0.  0.  0.  0.  0.  0.  0.  0.\n",
      "  0.  0.  0.  0.  0.  0.  0.  0.  0.  0.  0.  0.  0.  0.  0.  0.  0.  0.\n",
      "  0.  0.  0.  0.  0.  0.  0.  0.  0.  0.  0.  0.  0.  0.  0.  0.  0.  0.\n",
      "  0.  0.  0.  0.  0.  0.  0.  0.  0.  0.  0.  0.  0.  0.  0.  0.  0.  0.\n",
      "  0.  0.  0.  0.  0.  0.  0.  0.  0.  0.  0.  0.  0.  0.  0.  0.  0.  0.\n",
      "  0.  0.  0.  0.  0.  0.  0.  0.  0.  0.  0.  0.  0.  0.  0.  0.  0.  0.\n",
      "  0.  0.  0.  0.  0.  0.  0.  0.  0.  0.  0.  0.  0.  0.  0.]\n"
     ]
    }
   ],
   "source": [
    "#computing the mass of remaining propellant at all time\n",
    "mp=numpy.ones(N)*mp0\n",
    "for n in range(1,N):\n",
    "    mp[n]=mp[n-1]-mp_rate[n-1]*dt     \n",
    "print(mp_rate)"
   ]
  },
  {
   "cell_type": "code",
   "execution_count": 17,
   "metadata": {},
   "outputs": [
    {
     "data": {
      "text/plain": [
       "[<matplotlib.lines.Line2D at 0x7f4bf5646908>]"
      ]
     },
     "execution_count": 17,
     "metadata": {},
     "output_type": "execute_result"
    },
    {
     "data": {
      "image/png": "[encoded data removed]",
      "text/plain": [
       "<Figure size 432x288 with 1 Axes>"
      ]
     },
     "metadata": {
      "needs_background": "light"
     },
     "output_type": "display_data"
    }
   ],
   "source": [
    "#implementing the euler method for finding speed\n",
    "v=numpy.zeros(N)\n",
    "for n in range(1,N):\n",
    "    v[n]=v[n-1]+dt*(-g+mp_rate[n-1]*ve/(ms+mp[n-1])-rho*v[n-1]*numpy.sqrt(v[n-1]**2)*A*Cd/(2*(ms+mp[n-1])))\n",
    "pyplot.plot(t,v)"
   ]
  },
  {
   "cell_type": "code",
   "execution_count": 18,
   "metadata": {},
   "outputs": [
    {
     "name": "stdout",
     "output_type": "stream",
     "text": [
      "371\n",
      "[ 0.00000000e+00  0.00000000e+00  3.35233333e-01  1.01150706e+00\n",
      "  2.03468495e+00  3.41068452e+00  5.14547367e+00  7.24506708e+00\n",
      "  9.71552207e+00  1.25629343e+01  1.57934327e+01  1.94131745e+01\n",
      "  2.34283390e+01  2.78451219e+01  3.26697279e+01  3.79083639e+01\n",
      "  4.35672306e+01  4.96525143e+01  5.61703779e+01  6.31269505e+01\n",
      "  7.05283175e+01  7.83805089e+01  8.66894876e+01  9.54611366e+01\n",
      "  1.04701245e+02  1.14415495e+02  1.24609443e+02  1.35288510e+02\n",
      "  1.46457956e+02  1.58122870e+02  1.70288146e+02  1.82958465e+02\n",
      "  1.96138274e+02  2.09831762e+02  2.24042843e+02  2.38775125e+02\n",
      "  2.54031891e+02  2.69816071e+02  2.86130214e+02  3.02976463e+02\n",
      "  3.20356529e+02  3.38271657e+02  3.56722598e+02  3.75709582e+02\n",
      "  3.95232285e+02  4.15289797e+02  4.35880595e+02  4.57002505e+02\n",
      "  4.78652678e+02  5.00827555e+02  5.23522834e+02  5.46733448e+02\n",
      "  5.69153526e+02  5.90829433e+02  6.11803347e+02  6.32113749e+02\n",
      "  6.51795847e+02  6.70881937e+02  6.89401719e+02  7.07382563e+02\n",
      "  7.24849756e+02  7.41826698e+02  7.58335094e+02  7.74395110e+02\n",
      "  7.90025516e+02  8.05243809e+02  8.20066330e+02  8.34508361e+02\n",
      "  8.48584213e+02  8.62307308e+02  8.75690250e+02  8.88744891e+02\n",
      "  9.01482385e+02  9.13913246e+02  9.26047395e+02  9.37894198e+02\n",
      "  9.49462513e+02  9.60760721e+02  9.71796761e+02  9.82578158e+02\n",
      "  9.93112053e+02  1.00340523e+03  1.01346412e+03  1.02329487e+03\n",
      "  1.03290330e+03  1.04229497e+03  1.05147517e+03  1.06044896e+03\n",
      "  1.06922113e+03  1.07779630e+03  1.08617886e+03  1.09437301e+03\n",
      "  1.10238275e+03  1.11021193e+03  1.11786423e+03  1.12534317e+03\n",
      "  1.13265211e+03  1.13979429e+03  1.14677281e+03  1.15359063e+03\n",
      "  1.16025061e+03  1.16675547e+03  1.17310786e+03  1.17931027e+03\n",
      "  1.18536514e+03  1.19127479e+03  1.19704145e+03  1.20266727e+03\n",
      "  1.20815431e+03  1.21350456e+03  1.21871991e+03  1.22380220e+03\n",
      "  1.22875319e+03  1.23357458e+03  1.23826798e+03  1.24283498e+03\n",
      "  1.24727707e+03  1.25159569e+03  1.25579225e+03  1.25986806e+03\n",
      "  1.26382443e+03  1.26766258e+03  1.27138369e+03  1.27498891e+03\n",
      "  1.27847932e+03  1.28185597e+03  1.28511987e+03  1.28827197e+03\n",
      "  1.29131320e+03  1.29424445e+03  1.29706655e+03  1.29978032e+03\n",
      "  1.30238652e+03  1.30488589e+03  1.30727913e+03  1.30956691e+03\n",
      "  1.31174986e+03  1.31382859e+03  1.31580366e+03  1.31767562e+03\n",
      "  1.31944498e+03  1.32111221e+03  1.32267777e+03  1.32414208e+03\n",
      "  1.32550553e+03  1.32676849e+03  1.32793130e+03  1.32899428e+03\n",
      "  1.32995770e+03  1.33082183e+03  1.33158690e+03  1.33225312e+03\n",
      "  1.33282067e+03  1.33328970e+03  1.33366035e+03  1.33393273e+03\n",
      "  1.33410691e+03  1.33418295e+03  1.33416088e+03  1.33404071e+03\n",
      "  1.33382246e+03  1.33350617e+03  1.33309192e+03  1.33257978e+03\n",
      "  1.33196988e+03  1.33126235e+03  1.33045737e+03  1.32955513e+03\n",
      "  1.32855583e+03  1.32745971e+03  1.32626704e+03  1.32497809e+03\n",
      "  1.32359319e+03  1.32211264e+03  1.32053682e+03  1.31886608e+03\n",
      "  1.31710083e+03  1.31524149e+03  1.31328849e+03  1.31124230e+03\n",
      "  1.30910338e+03  1.30687225e+03  1.30454941e+03  1.30213541e+03\n",
      "  1.29963080e+03  1.29703615e+03  1.29435206e+03  1.29157912e+03\n",
      "  1.28871797e+03  1.28576924e+03  1.28273358e+03  1.27961167e+03\n",
      "  1.27640419e+03  1.27311183e+03  1.26973530e+03  1.26627533e+03\n",
      "  1.26273264e+03  1.25910798e+03  1.25540211e+03  1.25161579e+03\n",
      "  1.24774980e+03  1.24380492e+03  1.23978194e+03  1.23568166e+03\n",
      "  1.23150489e+03  1.22725245e+03  1.22292514e+03  1.21852381e+03\n",
      "  1.21404927e+03  1.20950237e+03  1.20488393e+03  1.20019482e+03\n",
      "  1.19543586e+03  1.19060792e+03  1.18571183e+03  1.18074846e+03\n",
      "  1.17571865e+03  1.17062325e+03  1.16546313e+03  1.16023913e+03\n",
      "  1.15495210e+03  1.14960291e+03  1.14419239e+03  1.13872139e+03\n",
      "  1.13319077e+03  1.12760136e+03  1.12195401e+03  1.11624955e+03\n",
      "  1.11048881e+03  1.10467263e+03  1.09880183e+03  1.09287723e+03\n",
      "  1.08689964e+03  1.08086988e+03  1.07478875e+03  1.06865705e+03\n",
      "  1.06247557e+03  1.05624511e+03  1.04996644e+03  1.04364034e+03\n",
      "  1.03726758e+03  1.03084891e+03  1.02438510e+03  1.01787689e+03\n",
      "  1.01132502e+03  1.00473023e+03  9.98093235e+02  9.91414757e+02\n",
      "  9.84695507e+02  9.77936187e+02  9.71137490e+02  9.64300102e+02\n",
      "  9.57424703e+02  9.50511961e+02  9.43562538e+02  9.36577089e+02\n",
      "  9.29556258e+02  9.22500683e+02  9.15410991e+02  9.08287803e+02\n",
      "  9.01131732e+02  8.93943380e+02  8.86723343e+02  8.79472207e+02\n",
      "  8.72190552e+02  8.64878946e+02  8.57537953e+02  8.50168124e+02\n",
      "  8.42770006e+02  8.35344136e+02  8.27891041e+02  8.20411244e+02\n",
      "  8.12905256e+02  8.05373582e+02  7.97816718e+02  7.90235153e+02\n",
      "  7.82629367e+02  7.74999834e+02  7.67347018e+02  7.59671376e+02\n",
      "  7.51973359e+02  7.44253408e+02  7.36511958e+02  7.28749437e+02\n",
      "  7.20966264e+02  7.13162852e+02  7.05339606e+02  6.97496924e+02\n",
      "  6.89635199e+02  6.81754815e+02  6.73856148e+02  6.65939570e+02\n",
      "  6.58005445e+02  6.50054130e+02  6.42085976e+02  6.34101328e+02\n",
      "  6.26100525e+02  6.18083897e+02  6.10051771e+02  6.02004467e+02\n",
      "  5.93942298e+02  5.85865571e+02  5.77774590e+02  5.69669649e+02\n",
      "  5.61551041e+02  5.53419049e+02  5.45273953e+02  5.37116028e+02\n",
      "  5.28945542e+02  5.20762759e+02  5.12567937e+02  5.04361330e+02\n",
      "  4.96143186e+02  4.87913748e+02  4.79673257e+02  4.71421944e+02\n",
      "  4.63160041e+02  4.54887771e+02  4.46605355e+02  4.38313009e+02\n",
      "  4.30010944e+02  4.21699368e+02  4.13378484e+02  4.05048490e+02\n",
      "  3.96709583e+02  3.88361951e+02  3.80005784e+02  3.71641264e+02\n",
      "  3.63268570e+02  3.54887879e+02  3.46499362e+02  3.38103188e+02\n",
      "  3.29699523e+02  3.21288528e+02  3.12870362e+02  3.04445180e+02\n",
      "  2.96013133e+02  2.87574370e+02  2.79129038e+02  2.70677278e+02\n",
      "  2.62219230e+02  2.53755031e+02  2.45284815e+02  2.36808712e+02\n",
      "  2.28326851e+02  2.19839358e+02  2.11346354e+02  2.02847961e+02\n",
      "  1.94344296e+02  1.85835474e+02  1.77321609e+02  1.68802810e+02\n",
      "  1.60279185e+02  1.51750840e+02  1.43217879e+02  1.34680403e+02\n",
      "  1.26138511e+02  1.17592299e+02  1.09041864e+02  1.00487297e+02\n",
      "  9.19286886e+01  8.33661290e+01  7.47997045e+01  6.62295003e+01\n",
      "  5.76555997e+01  4.90780840e+01  4.04970330e+01  3.19125247e+01\n",
      "  2.33246353e+01  1.47334394e+01  6.13901004e+00 -2.45858131e+00\n",
      "  0.00000000e+00  0.00000000e+00  0.00000000e+00  0.00000000e+00\n",
      "  0.00000000e+00  0.00000000e+00  0.00000000e+00  0.00000000e+00\n",
      "  0.00000000e+00  0.00000000e+00  0.00000000e+00  0.00000000e+00\n",
      "  0.00000000e+00  0.00000000e+00  0.00000000e+00  0.00000000e+00\n",
      "  0.00000000e+00  0.00000000e+00  0.00000000e+00  0.00000000e+00\n",
      "  0.00000000e+00  0.00000000e+00  0.00000000e+00  0.00000000e+00\n",
      "  0.00000000e+00  0.00000000e+00  0.00000000e+00  0.00000000e+00\n",
      "  0.00000000e+00  0.00000000e+00  0.00000000e+00  0.00000000e+00\n",
      "  0.00000000e+00  0.00000000e+00  0.00000000e+00  0.00000000e+00\n",
      "  0.00000000e+00  0.00000000e+00  0.00000000e+00  0.00000000e+00\n",
      "  0.00000000e+00  0.00000000e+00  0.00000000e+00  0.00000000e+00\n",
      "  0.00000000e+00  0.00000000e+00  0.00000000e+00  0.00000000e+00\n",
      "  0.00000000e+00  0.00000000e+00  0.00000000e+00  0.00000000e+00\n",
      "  0.00000000e+00  0.00000000e+00  0.00000000e+00  0.00000000e+00\n",
      "  0.00000000e+00  0.00000000e+00  0.00000000e+00  0.00000000e+00\n",
      "  0.00000000e+00  0.00000000e+00  0.00000000e+00  0.00000000e+00\n",
      "  0.00000000e+00  0.00000000e+00  0.00000000e+00  0.00000000e+00\n",
      "  0.00000000e+00  0.00000000e+00  0.00000000e+00  0.00000000e+00\n",
      "  0.00000000e+00  0.00000000e+00  0.00000000e+00  0.00000000e+00\n",
      "  0.00000000e+00  0.00000000e+00  0.00000000e+00  0.00000000e+00\n",
      "  0.00000000e+00  0.00000000e+00  0.00000000e+00  0.00000000e+00\n",
      "  0.00000000e+00  0.00000000e+00  0.00000000e+00  0.00000000e+00\n",
      "  0.00000000e+00  0.00000000e+00  0.00000000e+00  0.00000000e+00\n",
      "  0.00000000e+00  0.00000000e+00  0.00000000e+00  0.00000000e+00\n",
      "  0.00000000e+00  0.00000000e+00  0.00000000e+00  0.00000000e+00\n",
      "  0.00000000e+00  0.00000000e+00  0.00000000e+00  0.00000000e+00\n",
      "  0.00000000e+00  0.00000000e+00  0.00000000e+00  0.00000000e+00\n",
      "  0.00000000e+00  0.00000000e+00  0.00000000e+00  0.00000000e+00\n",
      "  0.00000000e+00  0.00000000e+00  0.00000000e+00  0.00000000e+00\n",
      "  0.00000000e+00  0.00000000e+00  0.00000000e+00  0.00000000e+00\n",
      "  0.00000000e+00  0.00000000e+00  0.00000000e+00  0.00000000e+00\n",
      "  0.00000000e+00  0.00000000e+00  0.00000000e+00  0.00000000e+00\n",
      "  0.00000000e+00]\n"
     ]
    }
   ],
   "source": [
    "#finding the height\n",
    "h=numpy.zeros(N)\n",
    "for n in range(1,N):\n",
    "    h[n]=v[n-1]*dt+h[n-1]\n",
    "    if h[n]<=0 and n!=1:\n",
    "        print (n)\n",
    "        break\n",
    "print(h)"
   ]
  },
  {
   "cell_type": "raw",
   "metadata": {},
   "source": [
    "## Assessment:\n",
    "\n",
    "To check your answers, you can register for [MAE 6286: Practical Numerical Methods with Python](https://openedx.seas.gwu.edu/courses/course-v1:MAE+MAE6286+2017/about).\n",
    "\n",
    "1. At time $t=3.2s$, what is the mass (in kg) of rocket propellant remaining in the rocket?\n",
    "\n",
    "2. What is the maximum speed of the rocket in $\\frac{m}{s}$?\n",
    "    At what time does this occur (in seconds)? \n",
    "    What is the altitude at this time (in meters)? \n",
    "    \n",
    "3. What is the rocket's maximum altitude during flight (in meters)? At what time (in seconds) does this occur?\n",
    "\n",
    "4. At what time (in seconds) does the rocket impact the ground? What is the velocity of the rocket (in $\\frac{m}{s}$) at time of impact?"
   ]
  },
  {
   "cell_type": "code",
   "execution_count": 19,
   "metadata": {},
   "outputs": [],
   "source": [
    "def info(t):\n",
    "    n=int(t/dt)\n",
    "    print('masse',mp[n])\n",
    "    print('vitesse', v[n])\n",
    "    print('hauteur',h[n])\n",
    "    "
   ]
  },
  {
   "cell_type": "code",
   "execution_count": 20,
   "metadata": {},
   "outputs": [
    {
     "name": "stdout",
     "output_type": "stream",
     "text": [
      "1334.1829454303067\n",
      "[ 0.   0.1 37.2 37.3 37.4 37.5 37.6 37.7 37.8 37.9 38.  38.1 38.2 38.3\n",
      " 38.4 38.5 38.6 38.7 38.8 38.9 39.  39.1 39.2 39.3 39.4 39.5 39.6 39.7\n",
      " 39.8 39.9 40.  40.1 40.2 40.3 40.4 40.5 40.6 40.7 40.8 40.9 41.  41.1\n",
      " 41.2 41.3 41.4 41.5 41.6 41.7 41.8 41.9 42.  42.1 42.2 42.3 42.4 42.5\n",
      " 42.6 42.7 42.8 42.9 43.  43.1 43.2 43.3 43.4 43.5 43.6 43.7 43.8 43.9\n",
      " 44.  44.1 44.2 44.3 44.4 44.5 44.6 44.7 44.8 44.9 45.  45.1 45.2 45.3\n",
      " 45.4 45.5 45.6 45.7 45.8 45.9 46.  46.1 46.2 46.3 46.4 46.5 46.6 46.7\n",
      " 46.8 46.9 47.  47.1 47.2 47.3 47.4 47.5 47.6 47.7 47.8 47.9 48.  48.1\n",
      " 48.2 48.3 48.4 48.5 48.6 48.7 48.8 48.9 49.  49.1 49.2 49.3 49.4 49.5\n",
      " 49.6 49.7 49.8 49.9 50. ]\n",
      "209.83176219711078\n",
      "232.1061334126179\n"
     ]
    }
   ],
   "source": [
    "\n",
    "print(h.max())\n",
    "print(numpy.where(h==0)[0]*dt)\n",
    "print(h[33])\n",
    "print(v.max())"
   ]
  },
  {
   "cell_type": "markdown",
   "metadata": {},
   "source": [
    "## Derivation of the rocket equations"
   ]
  },
  {
   "cell_type": "markdown",
   "metadata": {},
   "source": [
    "In case you are kind of confused about the rocket equations, here we show how to get to them. \n",
    "\n",
    "Newton's second law states that the acceleration of the vehicle times its mass is equal to all the forces acting on it. Therefore,\n",
    "\n",
    "\\begin{equation}\n",
    "(m_s + m_p)\\frac{d\\bf{v}}{dt}=\\sum {\\bf F}.\n",
    "\\end{equation}\n",
    "In the above formula we have assumed that the propellant inside the rocket and the rocket move at the same velocity (in other words, their relative velocity is negligible). \n",
    "\n",
    "Two of the external forces acting on the rocket are,\n",
    "\n",
    "\\begin{align}\n",
    "{\\bf F}_g&= (m_s+m_p)\\bf{g} \\quad (\\rm{Gravity}),\\\\\n",
    "{\\bf F}_d&= - \\frac{1}{2} \\rho_a \\mathbf{v} |\\mathbf{v}| A  C_D \\quad (\\rm{Drag}).\n",
    "\\end{align}\n",
    "\n",
    "We also need to consider the force resulting from the ejection of the propellant. During an interval $dt$, the engine of the rocket ejects downwards a mass of propellant given by $\\dot m_p dt$. Relative to the rocket, the speed of the ejected burning gas is assumed constant and equal to $v_e$ (the exhaust speed). The momentum variation induced on the exhaust gas by the engine during that interval is therefore, $d{\\bf p}_{gas} = \\dot m_p {\\bf v}_e dt$. Again using Newton's second law we conclude that the force applied by the rocket on the gas is,\n",
    "\n",
    "\\begin{align}\n",
    "{\\bf F}_{rocket\\rightarrow gas} = \\frac{d{\\bf p}_{gas}}{dt} = \\dot m_p {\\bf v}_e\n",
    "\\end{align}\n",
    "\n",
    "Using Newton's third law (|action| = |reaction|), the force exerted by the exhaust gas on the rocket is then,\n",
    "\n",
    "\\begin{align}\n",
    "{\\bf F}_{gas\\rightarrow rocket} = -{\\bf F}_{rocket\\rightarrow gas} = -\\dot m_p {\\bf v}_e\n",
    "\\end{align}\n",
    "\n",
    "If we collect all the forces acting on the rocket we finally have:\n",
    "\n",
    "\\begin{align}\n",
    "(m_s + m_p)\\frac{d\\bf{v}}{dt}=(m_s+m_p){\\bf g}- \\frac{1}{2} \\rho_a \\mathbf{v} |v| A  C_D -\\dot m_p {\\bf v}_e\n",
    "\\end{align}\n",
    "\n"
   ]
  },
  {
   "cell_type": "markdown",
   "metadata": {},
   "source": [
    "---\n",
    "\n",
    "###### The cell below loads the style of the notebook."
   ]
  },
  {
   "cell_type": "code",
   "execution_count": 1,
   "metadata": {},
   "outputs": [
    {
     "data": {
      "text/html": [
       "<link href='http://fonts.googleapis.com/css?family=Alegreya+Sans:100,300,400,500,700,800,900,100italic,300italic,400italic,500italic,700italic,800italic,900italic' rel='stylesheet' type='text/css'>\n",
       "<link href='http://fonts.googleapis.com/css?family=Arvo:400,700,400italic' rel='stylesheet' type='text/css'>\n",
       "<link href='http://fonts.googleapis.com/css?family=PT+Mono' rel='stylesheet' type='text/css'>\n",
       "<link href='http://fonts.googleapis.com/css?family=Shadows+Into+Light' rel='stylesheet' type='text/css'>\n",
       "<link href='http://fonts.googleapis.com/css?family=Nixie+One' rel='stylesheet' type='text/css'>\n",
       "<link href='https://fonts.googleapis.com/css?family=Source+Code+Pro' rel='stylesheet' type='text/css'>\n",
       "<style>\n",
       "\n",
       "@font-face {\n",
       "    font-family: \"Computer Modern\";\n",
       "    src: url('http://mirrors.ctan.org/fonts/cm-unicode/fonts/otf/cmunss.otf');\n",
       "}\n",
       "\n",
       "#notebook_panel { /* main background */\n",
       "    background: rgb(245,245,245);\n",
       "}\n",
       "\n",
       "div.cell { /* set cell width */\n",
       "    width: 750px;\n",
       "}\n",
       "\n",
       "div #notebook { /* centre the content */\n",
       "    background: #fff; /* white background for content */\n",
       "    width: 1000px;\n",
       "    margin: auto;\n",
       "    padding-left: 0em;\n",
       "}\n",
       "\n",
       "#notebook li { /* More space between bullet points */\n",
       "    margin-top:0.8em;\n",
       "}\n",
       "\n",
       "/* draw border around running cells */\n",
       "div.cell.border-box-sizing.code_cell.running { \n",
       "    border: 1px solid #111;\n",
       "}\n",
       "\n",
       "/* Put a solid color box around each cell and its output, visually linking them*/\n",
       "div.cell.code_cell {\n",
       "    background-color: rgb(256,256,256); \n",
       "    border-radius: 0px; \n",
       "    padding: 0.5em;\n",
       "    margin-left:1em;\n",
       "    margin-top: 1em;\n",
       "}\n",
       "\n",
       "div.text_cell_render{\n",
       "    font-family: 'Alegreya Sans' sans-serif;\n",
       "    line-height: 140%;\n",
       "    font-size: 125%;\n",
       "    font-weight: 400;\n",
       "    width:600px;\n",
       "    margin-left:auto;\n",
       "    margin-right:auto;\n",
       "}\n",
       "\n",
       "\n",
       "/* Formatting for header cells */\n",
       ".text_cell_render h1 {\n",
       "    font-family: 'Nixie One', serif;\n",
       "    font-style:regular;\n",
       "    font-weight: 400;    \n",
       "    font-size: 45pt;\n",
       "    line-height: 100%;\n",
       "    color: rgb(0,51,102);\n",
       "    margin-bottom: 0.5em;\n",
       "    margin-top: 0.5em;\n",
       "    display: block;\n",
       "}\n",
       "\n",
       ".text_cell_render h2 {\n",
       "    font-family: 'Nixie One', serif;\n",
       "    font-weight: 400;\n",
       "    font-size: 30pt;\n",
       "    line-height: 100%;\n",
       "    color: rgb(0,51,102);\n",
       "    margin-bottom: 0.1em;\n",
       "    margin-top: 0.3em;\n",
       "    display: block;\n",
       "}\t\n",
       "\n",
       ".text_cell_render h3 {\n",
       "    font-family: 'Nixie One', serif;\n",
       "    margin-top:16px;\n",
       "    font-size: 22pt;\n",
       "    font-weight: 600;\n",
       "    margin-bottom: 3px;\n",
       "    font-style: regular;\n",
       "    color: rgb(102,102,0);\n",
       "}\n",
       "\n",
       ".text_cell_render h4 {    /*Use this for captions*/\n",
       "    font-family: 'Nixie One', serif;\n",
       "    font-size: 14pt;\n",
       "    text-align: center;\n",
       "    margin-top: 0em;\n",
       "    margin-bottom: 2em;\n",
       "    font-style: regular;\n",
       "}\n",
       "\n",
       ".text_cell_render h5 {  /*Use this for small titles*/\n",
       "    font-family: 'Nixie One', sans-serif;\n",
       "    font-weight: 400;\n",
       "    font-size: 16pt;\n",
       "    color: rgb(163,0,0);\n",
       "    font-style: italic;\n",
       "    margin-bottom: .1em;\n",
       "    margin-top: 0.8em;\n",
       "    display: block;\n",
       "}\n",
       "\n",
       ".text_cell_render h6 { /*use this for copyright note*/\n",
       "    font-family: 'PT Mono', sans-serif;\n",
       "    font-weight: 300;\n",
       "    font-size: 9pt;\n",
       "    line-height: 100%;\n",
       "    color: grey;\n",
       "    margin-bottom: 1px;\n",
       "    margin-top: 1px;\n",
       "}\n",
       "\n",
       ".CodeMirror{\n",
       "    font-family: \"Source Code Pro\";\n",
       "    font-size: 90%;\n",
       "}\n",
       "\n",
       ".alert-box {\n",
       "    padding:10px 10px 10px 36px;\n",
       "    margin:5px;\n",
       "}\n",
       "\n",
       ".success {\n",
       "    color:#666600;\n",
       "    background:rgb(240,242,229);\n",
       "}\n",
       "</style>\n",
       "\n",
       "<script>\n",
       "    MathJax.Hub.Config({\n",
       "                        TeX: {\n",
       "                            extensions: [\"AMSmath.js\"],\n",
       "                            equationNumbers: { autoNumber: \"AMS\", useLabelIds: true}\n",
       "                            },\n",
       "                        tex2jax: {\n",
       "                            inlineMath: [ ['$','$'], [\"\\\\(\",\"\\\\)\"] ],\n",
       "                            displayMath: [ ['$$','$$'], [\"\\\\[\",\"\\\\]\"] ]\n",
       "                            },\n",
       "                        displayAlign: 'center', // Change this to 'center' to center equations.\n",
       "                        \"HTML-CSS\": {\n",
       "                            styles: {'.MathJax_Display': {\"margin\": 4}}\n",
       "                            }\n",
       "                        });\n",
       "    MathJax.Hub.Queue(\n",
       "                      [\"resetEquationNumbers\", MathJax.InputJax.TeX],\n",
       "                      [\"PreProcess\", MathJax.Hub],\n",
       "                      [\"Reprocess\", MathJax.Hub]\n",
       "                     );\n",
       "</script>\n"
      ],
      "text/plain": [
       "<IPython.core.display.HTML object>"
      ]
     },
     "execution_count": 1,
     "metadata": {},
     "output_type": "execute_result"
    }
   ],
   "source": [
    "from IPython.core.display import HTML\n",
    "css_file = '../../styles/numericalmoocstyle.css'\n",
    "HTML(open(css_file, 'r').read())"
   ]
  }
 ],
 "metadata": {
  "kernelspec": {
   "display_name": "Python 3",
   "language": "python",
   "name": "python3"
  },
  "language_info": {
   "codemirror_mode": {
    "name": "ipython",
    "version": 3
   },
   "file_extension": ".py",
   "mimetype": "text/x-python",
   "name": "python",
   "nbconvert_exporter": "python",
   "pygments_lexer": "ipython3",
   "version": "3.7.3"
  }
 },
 "nbformat": 4,
 "nbformat_minor": 1
}
