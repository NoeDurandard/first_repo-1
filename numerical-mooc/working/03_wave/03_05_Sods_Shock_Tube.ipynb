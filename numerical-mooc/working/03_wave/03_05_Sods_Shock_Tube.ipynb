{
 "cells": [
  {
   "cell_type": "markdown",
   "metadata": {},
   "source": [
    "###### Content under Creative Commons Attribution license CC-BY 4.0, code under MIT license (c)2014 L.A. Barba, C.D. Cooper, G.F. Forsyth.  "
   ]
  },
  {
   "cell_type": "markdown",
   "metadata": {},
   "source": [
    "# Riding the wave"
   ]
  },
  {
   "cell_type": "markdown",
   "metadata": {},
   "source": [
    "## Sod's test problems"
   ]
  },
  {
   "cell_type": "markdown",
   "metadata": {},
   "source": [
    "Sod's test problems are standard benchmarks used to assess the accuracy of numerical solvers. The tests use a classic example of one-dimensional compressible flow: the shock-tube problem. Sod (1978) chose initial conditions and numerical discretization parameters for the shock-tube problem and used these to test several schemes, including Lax-Wendroff and MacCormack's. Since then, many others have followed Sod's example and used the same tests on new numerical methods.\n",
    "\n",
    "The shock-tube problem is so useful for testing numerical methods because it is one of the few problems that allows an exact solution of the Euler equations for compressible flow.\n",
    "\n",
    "This notebook complements the previous lessons of the course module [_\"Riding the wave: convection problems\"_](https://github.com/numerical-mooc/numerical-mooc/tree/master/lessons/03_wave) with Sod's test problems as an independent coding exercise. We'll lay out the problem for you, but leave important bits of code for you to write on your own. Good luck!"
   ]
  },
  {
   "cell_type": "markdown",
   "metadata": {},
   "source": [
    "### What's a shock tube?"
   ]
  },
  {
   "cell_type": "markdown",
   "metadata": {},
   "source": [
    "A shock tube is an idealized device that generates a one-dimensional shock wave in a compressible gas. The setting allows an analytical solution of the Euler equations, which is very useful for comparing with the numerical results to assess their accuracy. \n",
    "\n",
    "Picture a tube with two regions containing gas at different pressures, separated by an infinitely-thin, rigid diaphragm. The gas is initially at rest, and the left region is at a higher pressure than the region to the right of the diaphragm. At time $t = 0.0 s$, the diaphragm is ruptured instantaneously.  \n",
    "\n",
    "What happens?  \n",
    "\n",
    "You get a shock wave.  The gas at high pressure, no longer constrained by the diaphragm, rushes into the lower-pressure area and a one-dimensional unsteady flow is established, consisting of:\n",
    "\n",
    "* a shock wave traveling to the right\n",
    "* an expansion wave traveling to the left\n",
    "* a moving contact discontinuity\n",
    "\n",
    "The shock-tube problem is an example of a *Riemann problem* and it has an analytical solution, as we said. The situation is illustrated in Figure 1."
   ]
  },
  {
   "cell_type": "markdown",
   "metadata": {},
   "source": [
    "![shocktube](./figures/shocktube.png)\n",
    "#### Figure 1. The shock-tube problem."
   ]
  },
  {
   "cell_type": "markdown",
   "metadata": {},
   "source": [
    "### The Euler equations"
   ]
  },
  {
   "cell_type": "markdown",
   "metadata": {},
   "source": [
    "The Euler equations govern the motion of an inviscid fluid (no viscosity). They consist of the conservation laws of mass and momentum, and often we also need to work with the energy equation. \n",
    "\n",
    "Let's consider a 1D flow with velocity $u$ in the $x$-direction. The Euler equations for a fluid with density $\\rho$ and pressure $p$ are:\n",
    "\n",
    "$$\n",
    "\\begin{align}\n",
    "\\frac{\\partial \\rho}{\\partial t} + \\frac{\\partial}{\\partial x}(\\rho u) &= 0 \\\\\n",
    "\\frac{\\partial}{\\partial t}(\\rho u) + \\frac{\\partial}{\\partial x} (\\rho u^2 + p)&=0\n",
    "\\end{align}\n",
    "$$\n",
    "\n",
    "... plus the energy equation, which we can write in this form:\n",
    "\n",
    "$$\n",
    "\\begin{equation}\n",
    "\\frac{\\partial}{\\partial t}(\\rho e_T) + \\frac{\\partial}{\\partial x} (\\rho u e_T +p u)=0\n",
    "\\end{equation}\n",
    "$$\n",
    "\n",
    "where $e_T=e+u^2/2$ is the total energy per unit mass, equal to the internal energy plus the kinetic energy (per unit mass).\n",
    "\n",
    "Written in vector form, you can see that the Euler equations bear a strong resemblance to the traffic-density equation that has been the focus of this course module so far. Here is the vector representation of the Euler equation:\n",
    "\n",
    "$$\n",
    "\\begin{equation}\n",
    "\\frac{\\partial }{\\partial t} \\underline{\\mathbf{u}} + \\frac{\\partial }{\\partial x} \\underline{\\mathbf{f}} = 0\n",
    "\\end{equation}\n",
    "$$\n",
    "\n",
    "The big difference with our previous work is that the variables $\\underline{\\mathbf{u}}$ and $\\underline{\\mathbf{f}}$ are *vectors*.  If you review the [Phugoid Full Model](https://nbviewer.jupyter.org/github/numerical-mooc/numerical-mooc/blob/master/lessons/01_phugoid/01_03_PhugoidFullModel.ipynb) lesson, you will recall that we can solve for several values at once using the vector form of an equation.  In the Phugoid Module, it was an ODE—now we apply the same procedure to a PDE.  \n",
    "\n",
    "Let's take a look at what $\\underline{\\mathbf{u}}$ and $\\underline{\\mathbf{f}}$ consist of."
   ]
  },
  {
   "cell_type": "markdown",
   "metadata": {},
   "source": [
    "### The conservative form"
   ]
  },
  {
   "cell_type": "markdown",
   "metadata": {},
   "source": [
    "Many works in the early days of computational fluid dynamics in the 1960s showed that using the conservation form of the Euler equations is more accurate for situations with shock waves.  And as you already saw, the shock-tube solutions do contain shocks.\n",
    "\n",
    "The conserved variables $\\underline{\\mathbf{u}}$ for Euler's equations are\n",
    "\n",
    "$$\n",
    "\\begin{equation}\n",
    "\\underline{\\mathbf{u}} = \\left[\n",
    "\\begin{array}{c}\n",
    "\\rho \\\\\n",
    "\\rho u \\\\\n",
    "\\rho e_T \\\\ \n",
    "\\end{array}\n",
    "\\right]\n",
    "\\end{equation}\n",
    "$$\n",
    "\n",
    "where $\\rho$ is the density of the fluid, $u$ is the velocity of the fluid and $e_T = e + \\frac{u^2}{2}$ is the specific total energy; $\\underline{\\mathbf{f}}$ is the flux vector:\n",
    "\n",
    "$$\n",
    "\\begin{equation}\n",
    "\\underline{\\mathbf{f}} = \\left[\n",
    "\\begin{array}{c}\n",
    "\\rho u \\\\\n",
    "\\rho u^2 + p \\\\\n",
    "(\\rho e_T + p) u \\\\\n",
    "\\end{array}\n",
    "\\right]\n",
    "\\end{equation}\n",
    "$$\n",
    "\n",
    "where $p$ is the pressure of the fluid.\n",
    "\n",
    "If we put together the conserved variables and the flux vector into our PDE, we get the following set of equations:\n",
    "\n",
    "$$\n",
    "\\begin{equation}\n",
    "    \\frac{\\partial}{\\partial t}\n",
    "    \\left[\n",
    "        \\begin{array}{c}\n",
    "            \\rho \\\\\n",
    "            \\rho u \\\\\n",
    "            \\rho e_T \\\\\n",
    "        \\end{array}\n",
    "    \\right] +\n",
    "    \\frac{\\partial}{\\partial x}\n",
    "    \\left[\n",
    "        \\begin{array}{c}\n",
    "            \\rho u \\\\\n",
    "            \\rho u^2 + p \\\\\n",
    "            (\\rho e_T + p) u \\\\\n",
    "        \\end{array}\n",
    "    \\right] =\n",
    "    0\n",
    "\\end{equation}\n",
    "$$\n",
    "\n",
    "There's one major problem there.  We have 3 equations and 4 unknowns.  But there is a solution!  We can use an equation of state to calculate the pressure—in this case, we'll use the ideal gas law."
   ]
  },
  {
   "cell_type": "markdown",
   "metadata": {},
   "source": [
    "### Calculating the pressure"
   ]
  },
  {
   "cell_type": "markdown",
   "metadata": {},
   "source": [
    "For an ideal gas, the equation of state is\n",
    "\n",
    "$$\n",
    "e = e(\\rho, p) = \\frac{p}{(\\gamma -1) \\rho}\n",
    "$$\n",
    "\n",
    "where $\\gamma = 1.4$ is a reasonable value to model air, \n",
    "\n",
    "$$\n",
    "\\therefore p = (\\gamma -1)\\rho e\n",
    "$$ \n",
    "\n",
    "Recall from above that\n",
    "\n",
    "$$\n",
    "e_T = e+\\frac{1}{2} u^2\n",
    "$$\n",
    "\n",
    "$$\n",
    "\\therefore e = e_T - \\frac{1}{2}u^2\n",
    "$$\n",
    "\n",
    "Putting it all together, we arrive at an equation for the pressure\n",
    "\n",
    "$$\n",
    "p = (\\gamma -1)\\left(\\rho e_T - \\frac{\\rho u^2}{2}\\right)\n",
    "$$"
   ]
  },
  {
   "cell_type": "markdown",
   "metadata": {},
   "source": [
    "### Flux in terms of $\\underline{\\mathbf{u}}$"
   ]
  },
  {
   "cell_type": "markdown",
   "metadata": {},
   "source": [
    "With the traffic model, the flux was a function of traffic density.  For the Euler equations, the three equations we have are coupled and the flux *vector* is a function of $\\underline{\\mathbf{u}}$, the vector of conserved variables:\n",
    "\n",
    "$$\n",
    "\\underline{\\mathbf{f}} = f(\\underline{\\mathbf{u}})\n",
    "$$\n",
    "\n",
    "In order to get everything squared away, we need to represent $\\underline{\\mathbf{f}}$ in terms of $\\underline{\\mathbf{u}}$.\n",
    "We can introduce a little shorthand for the $\\underline{\\mathbf{u}}$ and $\\underline{\\mathbf{f}}$ vectors and define:\n",
    "\n",
    "$$\n",
    "\\underline{\\mathbf{u}} =\n",
    "\\left[\n",
    "    \\begin{array}{c}\n",
    "        u_1 \\\\\n",
    "        u_2 \\\\\n",
    "        u_3 \\\\\n",
    "    \\end{array}\n",
    "\\right] =\n",
    "\\left[\n",
    "    \\begin{array}{c}\n",
    "        \\rho \\\\\n",
    "        \\rho u \\\\\n",
    "        \\rho e_T \\\\\n",
    "    \\end{array}\n",
    "\\right]\n",
    "$$\n",
    "\n",
    "$$\n",
    "\\underline{\\mathbf{f}} =\n",
    "\\left[\n",
    "    \\begin{array}{c}\n",
    "        f_1 \\\\\n",
    "        f_2 \\\\\n",
    "        f_3 \\\\\n",
    "    \\end{array}\n",
    "\\right] =\n",
    "\\left[\n",
    "    \\begin{array}{c}\n",
    "        \\rho u \\\\\n",
    "        \\rho u^2 + p \\\\\n",
    "        (\\rho e_T + p) u \\\\\n",
    "    \\end{array}\n",
    "\\right]\n",
    "$$  \n",
    "\n",
    "With a little algebraic trickery, we can represent the pressure vector using quantities from the $\\underline{\\mathbf{u}}$ vector.\n",
    "\n",
    "$$\n",
    "p = (\\gamma -1)\\left(u_3 - \\frac{1}{2} \\frac{u^2_2}{u_1} \\right)\n",
    "$$\n",
    "\n",
    "Now that pressure can be represented in terms of $\\underline{\\mathbf{u}}$, the rest of $\\underline{\\mathbf{f}}$ isn't too difficult to resolve:"
   ]
  },
  {
   "cell_type": "markdown",
   "metadata": {},
   "source": [
    "$$\\underline{\\mathbf{f}} = \\left[ \\begin{array}{c}\n",
    "f_1 \\\\\n",
    "f_2 \\\\\n",
    "f_3 \\\\ \\end{array} \\right] =\n",
    "\\left[ \\begin{array}{c}\n",
    "u_2\\\\\n",
    "\\frac{u^2_2}{u_1} + (\\gamma -1)\\left(u_3 - \\frac{1}{2} \\frac{u^2_2}{u_1} \\right) \\\\\n",
    "\\left(u_3 + (\\gamma -1)\\left(u_3 - \\frac{1}{2} \\frac{u^2_2}{u_1}\\right) \\right) \\frac{u_2}{u_1}\\\\ \\end{array}\n",
    "\\right]$$"
   ]
  },
  {
   "cell_type": "markdown",
   "metadata": {},
   "source": [
    "## Test conditions"
   ]
  },
  {
   "cell_type": "markdown",
   "metadata": {},
   "source": [
    "The first test proposed by Sod in his 1978 paper is as follows.  \n",
    "\n",
    "In a tube spanning from $x = -10 \\text{m}$ to $x = 10 \\text{m}$ with the rigid membrane at $x = 0 \\text{m}$, we have the following initial gas states:\n",
    "\n",
    "$$\n",
    "\\underline{IC}_L =\n",
    "\\left[\n",
    "    \\begin{array}{c}\n",
    "        \\rho_L \\\\\n",
    "        u_L \\\\\n",
    "        p_L \\\\\n",
    "    \\end{array}\n",
    "\\right] =\n",
    "\\left[\n",
    "    \\begin{array}{c}\n",
    "        1.0 \\, kg/m^3 \\\\\n",
    "        0 \\, m/s \\\\\n",
    "        100 \\, kN/m^2 \\\\\n",
    "    \\end{array}\n",
    "\\right]\n",
    "$$\n",
    "\n",
    "$$\n",
    "\\underline{IC}_R =\n",
    "\\left[\n",
    "    \\begin{array}{c}\n",
    "        \\rho_R \\\\\n",
    "        u_R \\\\\n",
    "        p_R \\\\\n",
    "    \\end{array}\n",
    "\\right] =\n",
    "\\left[\n",
    "    \\begin{array}{c}\n",
    "        0.125 \\, kg/m^3 \\\\\n",
    "        0 \\, m/s \\\\\n",
    "        10 \\, kN/m^2 \\\\\n",
    "    \\end{array}\n",
    "\\right]\n",
    "$$\n",
    "\n",
    "where $\\underline{IC}_L$ are the initial density, velocity and pressure on the left side of the tube membrane and $\\underline{IC}_R$ are the initial density, velocity and pressure on the right side of the tube membrane.  \n",
    "\n",
    "The analytical solution to this test for the velocity, pressure and density, looks like the plots in Figure 2."
   ]
  },
  {
   "cell_type": "markdown",
   "metadata": {},
   "source": [
    "![shock_analytic](./figures/shock_tube_.01.png)\n",
    ". \n",
    "\n",
    "#### Figure 2. Analytical solution for Sod's first test."
   ]
  },
  {
   "cell_type": "markdown",
   "metadata": {},
   "source": [
    "### The Richtmyer method"
   ]
  },
  {
   "cell_type": "markdown",
   "metadata": {},
   "source": [
    "For this exercise, you will be using a new scheme called the Richtmyer method.  Like the MacCormack method that we learned in [lesson 2](https://nbviewer.jupyter.org/github/numerical-mooc/numerical-mooc/blob/master/lessons/03_wave/03_02_convectionSchemes.ipynb), Richtmyer is a *two-step method*, given by:\n",
    "\n",
    "$$\n",
    "\\begin{align}\n",
    "\\underline{\\mathbf{u}}^{n+\\frac{1}{2}}_{i+\\frac{1}{2}} &= \\frac{1}{2} \\left( \\underline{\\mathbf{u}}^n_{i+1} + \\underline{\\mathbf{u}}^n_i \\right) - \n",
    "\\frac{\\Delta t}{2 \\Delta x} \\left( \\underline{\\mathbf{f}}^n_{i+1} - \\underline{\\mathbf{f}}^n_i\\right) \\\\\n",
    "\\underline{\\mathbf{u}}^{n+1}_i &= \\underline{\\mathbf{u}}^n_i - \\frac{\\Delta t}{\\Delta x} \\left(\\underline{\\mathbf{f}}^{n+\\frac{1}{2}}_{i+\\frac{1}{2}} - \\underline{\\mathbf{f}}^{n+\\frac{1}{2}}_{i-\\frac{1}{2}} \\right)\n",
    "\\end{align}\n",
    "$$\n",
    "\n",
    "The flux vectors used in the second step are obtained by evaluating the flux functions on the output of the first step:\n",
    "\n",
    "$$\n",
    "\\underline{\\mathbf{f}}^{n+\\frac{1}{2}}_{i+\\frac{1}{2}} = \\underline{\\mathbf{f}}\\left(\\underline{\\mathbf{u}}^{n+\\frac{1}{2}}_{i+\\frac{1}{2}}\\right)\n",
    "$$\n",
    "\n",
    "The first step is like a *predictor* of the solution: if you look closely, you'll see that we are applying a Lax-Friedrichs scheme here. The second step is a *corrector* that applies a leapfrog update. Figure 3 gives a sketch of the stencil for Richtmyer method, where the \"intermediate time\" $n+1/2$ will require a temporary variable in your code, just like we had in the MacCormack scheme."
   ]
  },
  {
   "cell_type": "code",
   "execution_count": null,
   "metadata": {},
   "outputs": [],
   "source": []
  },
  {
   "cell_type": "markdown",
   "metadata": {},
   "source": [
    "![richtmyer](./figures/richtmyer.png)\n",
    "\n",
    "\n",
    "#### Figure 3. Stencil of Richtmyer scheme."
   ]
  },
  {
   "cell_type": "markdown",
   "metadata": {},
   "source": [
    "## Coding assignment"
   ]
  },
  {
   "cell_type": "markdown",
   "metadata": {},
   "source": [
    "Your mission, should you wish to accept it, is to calculate the pressure, density and velocity across the shock tube at time $t = 0.01 s$ using the Richtmyer method. Good luck!"
   ]
  },
  {
   "cell_type": "code",
   "execution_count": 1,
   "metadata": {},
   "outputs": [],
   "source": [
    "import numpy\n",
    "from matplotlib import pyplot, animation\n",
    "from IPython.display import HTML\n",
    "import copy\n",
    "%matplotlib inline"
   ]
  },
  {
   "cell_type": "code",
   "execution_count": 2,
   "metadata": {},
   "outputs": [],
   "source": [
    "# Set the font family and size to use for Matplotlib figures.\n",
    "pyplot.rcParams['font.family'] = 'serif'\n",
    "pyplot.rcParams['font.size'] = 16"
   ]
  },
  {
   "cell_type": "code",
   "execution_count": 3,
   "metadata": {},
   "outputs": [
    {
     "data": {
      "text/plain": [
       "[<matplotlib.lines.Line2D at 0x7fb104ac7b70>]"
      ]
     },
     "execution_count": 3,
     "metadata": {},
     "output_type": "execute_result"
    },
    {
     "data": {
      "image/png": "[encoded data removed]",
      "text/plain": [
       "<Figure size 432x288 with 1 Axes>"
      ]
     },
     "metadata": {
      "needs_background": "light"
     },
     "output_type": "display_data"
    },
    {
     "data": {
      "image/png": "[encoded data removed]",
      "text/plain": [
       "<Figure size 432x288 with 1 Axes>"
      ]
     },
     "metadata": {
      "needs_background": "light"
     },
     "output_type": "display_data"
    }
   ],
   "source": [
    "# Set parameters.\n",
    "nx = 81  # number of cells along the tube\n",
    "L = 20  # length of the tube\n",
    "dx = 0.25  # cell width\n",
    "nt = 30  # number of time steps to compute\n",
    "gamma=1.4\n",
    "\n",
    "x=numpy.linspace(-L/2,L/2,nx)\n",
    "#Initial condition left of the membrane\n",
    "ICL=[1.0, #rho density\n",
    "    0,    #u velocity\n",
    "    100]  #p pressure\n",
    "#Initial conditions right of the membrane\n",
    "ICR=[0.125,\n",
    "    0,\n",
    "    10]\n",
    "u0=[numpy.zeros(nx),numpy.zeros(nx),numpy.zeros(nx)]\n",
    "maskL=numpy.where(x<0)\n",
    "maskR=numpy.where(x>0)\n",
    "#rho\n",
    "u0[0][maskL]=ICL[0] \n",
    "u0[0][maskR]=ICR[0]\n",
    "#rho*u\n",
    "u0[1][maskL]=ICL[0]*ICL[1]\n",
    "u0[1][maskR]=ICR[0]*ICR[1]\n",
    "#rho*energy\n",
    "u0[2][maskL]=ICL[2]/((gamma-1)*ICL[0])+ICL[1]**2/2\n",
    "u0[2][maskR]=ICR[2]/((gamma-1)*ICR[0])+ICR[1]**2/2\n",
    "pyplot.figure()\n",
    "pyplot.plot(x,u0[0],x,u0[1])\n",
    "pyplot.figure()\n",
    "pyplot.plot(x,u0[2])"
   ]
  },
  {
   "cell_type": "code",
   "execution_count": 4,
   "metadata": {},
   "outputs": [],
   "source": [
    "#compute the f vector at a given time\n",
    "def f_vector(u_vector,gamma):\n",
    "    f_vector=[u_vector[1],\n",
    "             u_vector[1]**2/u_vector[0]+(gamma-1)*(u_vector[2]-u_vector[1]**2/(2*u_vector[0])),\n",
    "             (u_vector[2]+(gamma-1)*(u_vector[2]-u_vector[1]**2/(2*u_vector[0])))*u_vector[1]/u_vector[0]]\n",
    "    \n",
    "    return f_vector"
   ]
  },
  {
   "cell_type": "code",
   "execution_count": 5,
   "metadata": {},
   "outputs": [],
   "source": [
    "def richtmyer(u0, nt, dt, dx, *args):\n",
    "    u=copy.deepcopy(u0)\n",
    "    u_hist=[copy.deepcopy(u)]\n",
    "    u_inter=[numpy.empty(nx-1),numpy.empty(nx-1),numpy.empty(nx-1)]\n",
    "    for n in range(nt):\n",
    "        f=f_vector(u,gamma)\n",
    "        for i in range (len(u)):\n",
    "            u_inter[i]=(u[i][1:]+u[i][:-1])/2-dt/(2*dx)*(f[i][1:]-f[i][:-1])\n",
    "        f_vector_int=f_vector(u_inter,gamma)\n",
    "        for i in range (len(u)):\n",
    "            u[i][1:-1]=u[i][1:-1]-dt/dx*(f_vector_int[i][1:]-f_vector_int[i][:-1])\n",
    "            #u[i][0]=u0[i][0]\n",
    "            #u[i][-1]=u0[i][1]\n",
    "        u_hist.append(copy.deepcopy(u))\n",
    "    return u_hist\n",
    "    \n",
    "        "
   ]
  },
  {
   "cell_type": "code",
   "execution_count": 12,
   "metadata": {},
   "outputs": [
    {
     "name": "stdout",
     "output_type": "stream",
     "text": [
      "0.002\n",
      "[array([1.   , 1.   , 1.   , 1.   , 1.   , 1.   , 1.   , 1.   , 1.   ,\n",
      "       1.   , 1.   , 1.   , 1.   , 1.   , 1.   , 1.   , 1.   , 1.   ,\n",
      "       1.   , 1.   , 1.   , 1.   , 1.   , 1.   , 1.   , 1.   , 1.   ,\n",
      "       1.   , 1.   , 1.   , 1.   , 1.   , 1.   , 1.   , 1.   , 1.   ,\n",
      "       1.   , 1.   , 1.   ,   nan,   nan,   nan, 0.125, 0.125, 0.125,\n",
      "       0.125, 0.125, 0.125, 0.125, 0.125, 0.125, 0.125, 0.125, 0.125,\n",
      "       0.125, 0.125, 0.125, 0.125, 0.125, 0.125, 0.125, 0.125, 0.125,\n",
      "       0.125, 0.125, 0.125, 0.125, 0.125, 0.125, 0.125, 0.125, 0.125,\n",
      "       0.125, 0.125, 0.125, 0.125, 0.125, 0.125, 0.125, 0.125, 0.125]), array([ 0.,  0.,  0.,  0.,  0.,  0.,  0.,  0.,  0.,  0.,  0.,  0.,  0.,\n",
      "        0.,  0.,  0.,  0.,  0.,  0.,  0.,  0.,  0.,  0.,  0.,  0.,  0.,\n",
      "        0.,  0.,  0.,  0.,  0.,  0.,  0.,  0.,  0.,  0.,  0.,  0.,  0.,\n",
      "       nan, nan, nan,  0.,  0.,  0.,  0.,  0.,  0.,  0.,  0.,  0.,  0.,\n",
      "        0.,  0.,  0.,  0.,  0.,  0.,  0.,  0.,  0.,  0.,  0.,  0.,  0.,\n",
      "        0.,  0.,  0.,  0.,  0.,  0.,  0.,  0.,  0.,  0.,  0.,  0.,  0.,\n",
      "        0.,  0.,  0.]), array([250., 250., 250., 250., 250., 250., 250., 250., 250., 250., 250.,\n",
      "       250., 250., 250., 250., 250., 250., 250., 250., 250., 250., 250.,\n",
      "       250., 250., 250., 250., 250., 250., 250., 250., 250., 250., 250.,\n",
      "       250., 250., 250., 250., 250., 250.,  nan,  nan,  nan, 200., 200.,\n",
      "       200., 200., 200., 200., 200., 200., 200., 200., 200., 200., 200.,\n",
      "       200., 200., 200., 200., 200., 200., 200., 200., 200., 200., 200.,\n",
      "       200., 200., 200., 200., 200., 200., 200., 200., 200., 200., 200.,\n",
      "       200., 200., 200., 200.])]\n"
     ]
    },
    {
     "name": "stderr",
     "output_type": "stream",
     "text": [
      "/home/nicolas/anaconda3/lib/python3.7/site-packages/ipykernel_launcher.py:4: RuntimeWarning: invalid value encountered in true_divide\n",
      "  after removing the cwd from sys.path.\n",
      "/home/nicolas/anaconda3/lib/python3.7/site-packages/ipykernel_launcher.py:5: RuntimeWarning: invalid value encountered in true_divide\n",
      "  \"\"\"\n"
     ]
    }
   ],
   "source": [
    "dt=0.002\n",
    "nt=int(0.01/dt)+1\n",
    "print(dt)\n",
    "u_hist=richtmyer(u0,nt,dt,dx,gamma)\n",
    "print()"
   ]
  },
  {
   "cell_type": "code",
   "execution_count": 7,
   "metadata": {},
   "outputs": [
    {
     "data": {
      "image/png": "[encoded data removed]",
      "text/plain": [
       "<Figure size 432x288 with 1 Axes>"
      ]
     },
     "metadata": {
      "needs_background": "light"
     },
     "output_type": "display_data"
    }
   ],
   "source": [
    "# Plot the initial car density on the road.\n",
    "fig = pyplot.figure(figsize=(6.0, 4.0))\n",
    "pyplot.xlabel(r'$x$')\n",
    "pyplot.ylabel('density')\n",
    "pyplot.grid()\n",
    "line = pyplot.plot(x, u0[0],\n",
    "                   color='C0', linestyle='-', linewidth=2)[0]\n",
    "pyplot.xlim(-L/2, L/2)\n",
    "pyplot.tight_layout();"
   ]
  },
  {
   "cell_type": "code",
   "execution_count": 8,
   "metadata": {},
   "outputs": [],
   "source": [
    "def update_plot(n, u_hist):\n",
    "    \"\"\"\n",
    "    Update the line y-data of the Matplotlib figure.\n",
    "    \n",
    "    Parameters\n",
    "    ----------\n",
    "    n : integer\n",
    "        The time-step index.\n",
    "    rho_hist : list of numpy.ndarray objects\n",
    "        The history of the numerical solution.\n",
    "    \"\"\"\n",
    "    fig.suptitle('Time step {:0>2}'.format(n))\n",
    "    line.set_ydata(u_hist[n][0])"
   ]
  },
  {
   "cell_type": "code",
   "execution_count": 287,
   "metadata": {},
   "outputs": [
    {
     "data": {
      "text/html": [
       "<video width=\"432\" height=\"288\" controls autoplay loop>\n",
       "  <source type=\"video/mp4\" src=\"data:video/mp4;base64,AAAAHGZ0eXBNNFYgAAACAGlzb21pc28yYXZjMQAAAAhmcmVlAAAYZm1kYXQAAAKuBgX//6rcRem9\n",
       "5tlIt5Ys2CDZI+7veDI2NCAtIGNvcmUgMTUyIHIyODU0IGU5YTU5MDMgLSBILjI2NC9NUEVHLTQg\n",
       "QVZDIGNvZGVjIC0gQ29weWxlZnQgMjAwMy0yMDE3IC0gaHR0cDovL3d3dy52aWRlb2xhbi5vcmcv\n",
       "eDI2NC5odG1sIC0gb3B0aW9uczogY2FiYWM9MSByZWY9MyBkZWJsb2NrPTE6MDowIGFuYWx5c2U9\n",
       "MHgzOjB4MTEzIG1lPWhleCBzdWJtZT03IHBzeT0xIHBzeV9yZD0xLjAwOjAuMDAgbWl4ZWRfcmVm\n",
       "PTEgbWVfcmFuZ2U9MTYgY2hyb21hX21lPTEgdHJlbGxpcz0xIDh4OGRjdD0xIGNxbT0wIGRlYWR6\n",
       "b25lPTIxLDExIGZhc3RfcHNraXA9MSBjaHJvbWFfcXBfb2Zmc2V0PS0yIHRocmVhZHM9OSBsb29r\n",
       "YWhlYWRfdGhyZWFkcz0xIHNsaWNlZF90aHJlYWRzPTAgbnI9MCBkZWNpbWF0ZT0xIGludGVybGFj\n",
       "ZWQ9MCBibHVyYXlfY29tcGF0PTAgY29uc3RyYWluZWRfaW50cmE9MCBiZnJhbWVzPTMgYl9weXJh\n",
       "bWlkPTIgYl9hZGFwdD0xIGJfYmlhcz0wIGRpcmVjdD0xIHdlaWdodGI9MSBvcGVuX2dvcD0wIHdl\n",
       "aWdodHA9MiBrZXlpbnQ9MjUwIGtleWludF9taW49MTAgc2NlbmVjdXQ9NDAgaW50cmFfcmVmcmVz\n",
       "aD0wIHJjX2xvb2thaGVhZD00MCByYz1jcmYgbWJ0cmVlPTEgY3JmPTIzLjAgcWNvbXA9MC42MCBx\n",
       "cG1pbj0wIHFwbWF4PTY5IHFwc3RlcD00IGlwX3JhdGlvPTEuNDAgYXE9MToxLjAwAIAAABGwZYiE\n",
       "ABD//veBvzLLXyK6yXH5530srM885F1+3+e4/zAC6aG28WJ9lFxSl+FYKaS+oU7Kz/DeL7mo7P1j\n",
       "cQJZo7mncYrMTO2Vxd+X1e66OB/0qTN2Sh5yz+Psq1Bne8AHUy/lGkuhF63J6KByVk3GODbrTq/R\n",
       "5DbmFF6nRR/zieJTh8xZOBOdPIeET4ksWMWCwcaT6VExkORYVmFgonej2D50JyjgxkypfDASd+rr\n",
       "YntvXtzG6/8BXF2Y3MX/S8SlSw/Nen2ksa3GwzIFJRVJ4KqlBdRtlspi+hudJhFVrf92lG74so4m\n",
       "gO1PcAJiKELj3uBfPYt45iSfnSdwFHS/+CI+BvwFJ5LmI6E1vbp1iPIuvFUKQtqrKq/bC8MLCktg\n",
       "goxslVZCGQPbvCTmixdNY4qAeuM6nqJ7W0zaaLlwav4H2046UfXcy/rjDAaom1aU8ZDNtHcIoZ7M\n",
       "llNYQ3tqNwI8iqqpIEeWB5bs2eDBaaXC4yfym2tnKClBL42ldQyNqHrZ39+TMv84bwg5XiNHcGEJ\n",
       "GPnveHsQBsec5dTn6+UhVQq9DeLQB3exivJxMucpP0zZABgLWu2Vylpo+v6P/xYNmYPT+kJOOdBa\n",
       "x80bauR8Y+BalyBec1U0B1Me+ML+LDVSUHTrkMpm6km7ZWq5MoQToYJT9cfsGzpDoFqPiNWiAKny\n",
       "Nc3ykYLpBEhyosqfC6raXS3BXMZv1bDG/2YDStJ0v7P/v4W2wATeFHUQk5sW8Q3DgxvisujsdT/g\n",
       "GmL3onwkIvEOPPSfLQ7hpOkt/QUH632tW3QynIlzqw/8slvQX15Ai+phxrRzKj72wLRlaG2OaxgN\n",
       "lk9ncQ3K4G8JKsYUKQeQ1E/YLZQVd+l3+qFmyV7e9avL2/zIDqFaOI9GOzYbZYT4KkWCFHKviC//\n",
       "pfwIe/HLVDNmvkYmobUKkyD4sBR5edtU//zR/VdNw7nZTmvhd4fDZORTiYlzv4ZGIkTnikUpKHzL\n",
       "GQNhBL/ICsf3Awkjh1q3SukB0s5eYnniuhJKBHzZVgYGjUCWU5YSkMvCTIIFj+iOSZLDiIEGMZvm\n",
       "66NxVLeXOS/Lv4FiBFmTTOpQTtmY5Styz1UmeNimX5lE9V/LpKmvfrkHx1E7UNfdGrtgnV1ddThU\n",
       "DTqrPnPOluFFXoA38+2KHT4Nzcb696Ea1tbMQksRqu7/dkWznJ8dDdqy7tEsE5FUYtq0P2XsylTu\n",
       "RM/PDJ/m4PkFRgLC45GGnR9ysEbIXklsB162xbuWMJW7fcPuYb++v+L49xprBUdK3JFDrZFihBE9\n",
       "/7spg7ZSEOQPNlwHwLsZDDWy7GppBQEcMyhSNtJTProofua9n/zI2a7McFUMn2txeqz7R6rkWlCd\n",
       "2SfcLLPrtE/nkBYE1tFVPRbJO7fuzGgoL6P+bCw4EwEVxV7up/seGiIzwImfYP5LtNbP9svhEqxd\n",
       "8kMMqY6wUQpX0ZZpMv8GLve+UIe5nlnn7bNUZFXgFh7KGo1PjhlCM6KDQcS+Cpjuyt7HX5+81/8t\n",
       "mj114hCBADfVhx2h4n2SShA+Jy6H9mzDiXdpCLp5QZ6ZcZLEX6xPhS2rX0j3CgSeJvX7wngQv8UP\n",
       "HauVX8p/LZOcSydsAnEt+r7obgiIXFt+zWGi8fAFhjm/QhxcSsreOhVd6ueXQRBYXEKv7sHgqHmU\n",
       "qd18CUiqTNrg1ondis00OKUsexaAITMc0SeRSS/RpejPUZBuwHpDvlNL0WHhIGF/aP7gM+ZkdWqX\n",
       "qItCPoKkfBkO4J7v1Ycngf+7pBRz1Y7yIVTpQ5FwMPV1E3PEkmzDIV5r0RnbmK4WIruVjp6JmHXt\n",
       "w/rnEZEGXkeKKeBp55QgzxVB9qhXWJOej+ZhZTLa0IV13PQvXvS62XbjQRkStZDkdZb+Jiluetk+\n",
       "1/AEHB7Xlwh/ZCZEZicDYLRGBhmfrxejIyobzavOZgnzC3Ewkcjao2CS5OegNdwzG+DyT2CEhmMu\n",
       "vjJGcQ221az25jOwIAg8EzvsAeYJPS/STO3MT5qgkZknd1cX9Sb36+GjNrrCJwZp+ZCIaZujxrUy\n",
       "Z4yG0Mdvc46qf6FgwFSEa9Y6EgCGlM00iDGNcDuTBK3Hu/+vHE8Ge/U5j3gZT1ns20wKFPE+P22L\n",
       "qtWIl9nMcHQiITE6wJgg8PfSbkrFvmGbU/HU77/UWNMOYenkVzOe14QhUKsESac8qsK71KTZh9RX\n",
       "JbBQiA/hnmL5T9PcAlxNwmaY6LvNe+CBcAJm2AAD4ryax1J0T/zdkTgF7Hx9haT4iqT7tQOjPAi3\n",
       "zUuIGIyssG2EzkZYUPfzCPDIgDiQvQHfLLbfXi6RtHMdRX9iIHNVM7wB89ROi/kOsL8LqYCaxYu1\n",
       "/Qqf1McSTP5Kq84kF9Fm8bevRZK2bNCuMLj0y7eesBHNCu0y8XrOfuNNSyyTgyhRdH16SvzI4p5S\n",
       "6MQy03dycOP6EL8l75WzgKkJterWDE0bc4/6bf7Jwahi48V/FWkvjgUyT6/KdxoKgcdERynoJcLC\n",
       "Tnxa3diQ0QtYH1JrtwB4/PfLZvlejJc4XBSD+PkGUKyr6f1uT8qY/sNovb7le/7KZNAQcJZ+Eo6I\n",
       "GbY1AHFXBCQ33uRVadw2pGP6Te2VQKNLRAkuxi+1weLikED6IXtU2cYCernoCf4WVYnsUevHWgLK\n",
       "VLo6H7u32zSFGgXJ1KPvbvoNEJkNxp0r5fA4cLvMrcWsR4IX+Obv/6bvNA4Vk06ib2BmRi1oDpql\n",
       "ejoAL4TZHgFEj2rmJrYVFRpuPX58ZkwqyQ65z2mMN/0v5BCFkAjbbAzENkeodVH7fmm2rh5DDIse\n",
       "oX6lSF0m3ByMxhetzQMduyko59gqVL5PRVMfTDRUxw/nJ5V14Nnt/HVoeMk5fOKAOaJoFWzf7/LA\n",
       "4/DVxZFoO+d232GjssMECD77t2Y7FGTkZHlW2sehKqA8aMHyD/rU/m/5EnPgrpxx7R92XO6h+lGb\n",
       "NZCmJgBl6X+5RAhowFTegvS9DFH/g64fPRoARKsIZAbbQaBvrNPHrxhn2AuDEb3UVmnz5132rxj5\n",
       "xY/3wz+AHWaWgQSie2V/Uc2cUpPqTpA7+ol8R2c/0+MUJ5kXJh2ZhaN4DW48NUphdhbkVa5AGgPA\n",
       "yQDbhQWlaWoq1/47WINeMamo0Bda+vHKqcxv6PPaa2Nm+WxnLGIwkaj66DlEerO2yvrRoIFRsQfc\n",
       "wSwu6GHun2iaUWj+1CgmBLco05M4M/UkTj6myPKAPoi/PkJR0q/xGr5R8nUrGXCcTtrCUqwYafVD\n",
       "fZmzPG/qUkAFQxyR1kYUr7we938Pu2LYE5uNHuDUf2E2Sdd9RgqUxN2D51P5hFAGwe2qTy3eg9aX\n",
       "kpLkRz/jNf7efxTlo9gCAHt/3Mhggqack/xwg/8EItnD/hbj+q53BrFkAuX1W6l21cxYTKtUsFGo\n",
       "n4qKKsXNTEpxBL/VQAmJ4y0IZAZ/6C34cetBpILKoGvPbH07ABmpi/5KSCbA+073YpJDLZLR0O7Z\n",
       "aUVaIqcoGX1ub/96aL3bmXHtgPk/h5nnKLQ5hXRYcM2imZqwHoYi8LizkanD263HYKVbs2pwSnHR\n",
       "islxW8YJhuc2mYOjc8rY199iWSCE86n3+9RmGclH8zpY97z0GKLg9wd1v0uIknPyp7ZkbjSVhzRx\n",
       "Z+ehlSspKZBei7TxIp7m+yA7dQhxoitIBSHCvdZZyCGxTVHsyBN0LwQCKa6bJy5fFB9gZ8uge1Vx\n",
       "wJ7oeJqH1q2kBjlm4MxzPODIKdknqmNqxFQ56tYQqIYVVEyW5trmoLRV0rkR7f7cn9LU3zTbJlSL\n",
       "Ip448uUwzb6V+SxRpZFIi3JbGyTUTP39u2PfjURPbk5Oaw/oYQNV4pYzUV3GG4XpbHqa7z6d9Vcb\n",
       "ry1ApXuuNu4l8eeuyujpDcTfB6VsjRkJq5jBvKtRyNLxa78eiBh45/DSEPF8PXseRJsuFB6zoSUL\n",
       "rLcv+oqlNxxLiovAjZlx7Q2mmUvZEKTrqa0EF/6PcCViqiOc3mbj1I7cUedcD83gqd+VAjU1f/HB\n",
       "0v8NMUMoDsslqSzwhgw374TAJ9IQ9ArFbHsnRx69k3sZrg4MIVDdawr5ylOAzcMC/H5vAlElu+BW\n",
       "ws97NBgUj4TkY/gAgCpPVttCI8K+5nTHGOageWgxVeO/Z+B/9CZlcHyl5oBGmAeb4W40DpkkqW0P\n",
       "YyeJ8miBfL46F0qXWhsIJ700wEL1WPvWxTH39fNs7y32ejcwz7WEMkJNMfrx3XGFeZ2Tslcfs7Rd\n",
       "iYLu5PNt/BBRNRJQDmlqLBLcrgodBAWbCwCjLrictuOASoVbtnZirftdJ9bl3wWbjh+z0sQzUOiO\n",
       "5rliWJnTdqEE4gbePW2wyiM5ZQg5czVFM9e0sAYLVPUB9ts+RuwIbd1l+CoIyPimgNkXZ7BgDvfO\n",
       "pDrh3BJseNKkfwLHyYTr89wZruPiguBVjl8+Pe9V3WcvKXmrzyGqn06mwe3J+3+PIRrJj/6yEScC\n",
       "RMpJ4RaaJKMN/qO8upYwOQE54tf9SzdJAN5buL4hedi3af0JZu8sFCYveKUrUVhtxTlVOirP4JEv\n",
       "jxpfSTDVlqBb9IZ57GUJoOL2SO7ApLJFc6+GpEMRgfsO5zlcaVASQChEOs7VaTTJUxbxNG5pwAU0\n",
       "DLOcB6x9ZAEqHSjT1X6TQ22jcKH6Tjzw1v9wL/gRYP/GWtKiaPMDQFLlzlA2ekiXUD3x2dSQzagn\n",
       "DPBaJn2bAzM/TTvRbMjnsan+f6o92Dx2NALNKgu4LUHfNp/7YfmVFzre5p6DnY1kKvX+VdULd2lR\n",
       "5vfQJmid3QHHtT5mflr+v6KvePelihZ+jf0iYhKxdp0tOH+goU4axymK/NO9v8ioRsCJz5F4NDE+\n",
       "/XtkKwk6gA9l4dSXXq4m4HLmdZ9UYA6KsriJjRx7KTYMCg3SNs1Bu64C2RxxD6H6pK6k1B4slUby\n",
       "H8ED7s80+oFRbvoeZ57qxEQjL/pIyzXDqgkEvMl7aP2n0OZPnLH2ZhlyPI9d/rv3S5esqA2TKxkx\n",
       "Tut8bnirX2co/vHn9VtYdcpQm+dMBKmr6b7lZMkoF5TBeN4Oa99l/aCYZ2YExTw978rRyVI1Wg3z\n",
       "Q0ZMOqiXX0kaV71ueK6E5lL7b616pkKqREvJT3i+tWwTC0cNnbLvNwdhiAjbGwjsVoIfSpc9wlzW\n",
       "/tnj4eguCb4Tq/LWdRsR7P9Qu7hj6wXZUzt7DlLCtWOTgMsP9vMKK11ui6W8yCK4JZJPTMKTEXU3\n",
       "JHMNvM5iYpwc9oJ4FkouQI2xy3y2iAh897MGUlR4yZsPLbcgxhpBBWks04X7YgTx2lphhht1CWVo\n",
       "T6IJSx4mHKnBljk15IxyWrhWdhrq7Ai2uEVAWG/Kt26IqYA6dIKnbAfHu/2lZX3dSGdvRDKGu84W\n",
       "jaxUNwbjMtGTz2LN+tsbwKtBU2Ks4I/w7AZ/EtpCUWtA8gAkhydiycx95ycI0728G0etOcOdFQb0\n",
       "pAc6JAXLrf3MU62XcqJhYISMJQjRJIz9sHUix/KEKcZq1+38NQrKlxIfr6Sa2nHIkiRkhHkizKYl\n",
       "zznGSlMGTIzadpCY8HPB72AqJi+0QXyr026brFZAgvTnxFkNmxoajANBsmkxhcjJ/AMcwA3ojBRp\n",
       "kpZm4ZJF82YFrlK5Ge47ih77syuHueSNRiBVUcz8odoXgZ1qiStTpmAqf+JuABwa35N+wzEshrXl\n",
       "9A9YMv9XbGiO6z7LFb5G1MlOwuQo8zihU7/IMfz0CnikAx7hn/YEeGGhE/d4qktf1cxRHjJcJlJf\n",
       "HzAvzhiCjlL186+rwSnt10wh7RW95Bc/ixV/bw2PrdJZ2Im1h2anKqmbs0GwpY66n5P8a48Imdrn\n",
       "+Ypv0Ji0xk7JLozsPa5FJ8z84VtVLqQHTQoWqcMeTcJXz17QnqDoAGSNc+uctZftAyuym08ccVLn\n",
       "fITkSWp/KQg2vzjXbemvlzzuK42wz5ojHXu0XEZWzw6V604cWjDdSUSbvHx8x+am9ypb6vMPTRfl\n",
       "9qFBLN+FljYzPwoYHXu6u6CXAAAImQAAAY5BmiRsQ7/+qZxnssAIU+EqUBuhvZ9WABhkZIvQynMu\n",
       "dXcAoKgWepZugmtUwNX2Bem40RZllOK6ppZZsOSAjBzSqDQYs8+UCNFhIixYlWfFscscsXvLvCP/\n",
       "9dyBjzVK30KhaLXGz1BFEQhtsN9guymTvfcEaNYu2Ei/k75eDCLVEbmSNQuio3xZdrFX/F4OZjK6\n",
       "pxJDYCGZkhomcrNzzEBKj0cf57PFpvXJUkUeGb0yvl1tp6Lnsr951fVJewuqEkUFE4mHsLS3On8L\n",
       "gVbNtJIca3pmrv5szalJwpZAHPgvyIEj5PCX9TnCCQ4YU/dQMmVIkdTeag+EKFgc4Y6DbYFKOjue\n",
       "1huzHQ248SXoc1+Y92hwxM64W9Nod8Z/s91hfRmVONEZDcxyEj2iETOinM/HU02iZFn6o5K0Jn03\n",
       "dWRwZcnd4KjkdMll9Aro7J4mXJ1pvxDT8K7UAqkCPV4LC/SKxC5Mg78kAvIicuoPtyhoY20padrX\n",
       "pcKt6bpTclJUWR775148IByRhruHrsIfMAAAANpBnkJ4h38588AUqLQAP6QxK5DlkHd1ibfXgDeB\n",
       "hTjF7hO/YCWvGsl95ePTBcmzywQJWWPRexSb1PwVDHAZhYWHwLuRWRD8wTBYH5Pqt05i4JqcH+y8\n",
       "h0D+GXNtyF6n9DXrLY7+W6jdzS4zYn++tyq4ItNCrxHzg6gRYlBn7DeL5+i1bb/zHOy1TZiP6kBk\n",
       "IGZEXV8V5P//l3rFB4MKfZ6iSi7FGuhlPfs9TjAV3VwME4s2fNcO/bCvxU3JYfCQWv5On4/P0+S6\n",
       "2szD5v759gKh1ws+a4nCYbQbwQAAAG4BnmF0Q38/r9b0AL8LqKAEH+XWQQ+Tl20kKd0eqknGfcy8\n",
       "iDOBm2IrTXwCNNPyy4DjRbdE6fpYl5cXjqvlOEt/wy4i3N0zz8bhpBGiJLw/69oSX3gpXv16Q4sV\n",
       "WF0+ACFHak8qrd1JevxNnZhfGAAAAHwBnmNqQ38/r9cSo/EAIg5NgZ3yyoW4I0B80LIHazX3zZz4\n",
       "CUTMtRCNZDsq4yoIN+Qoq0f4G+ckkePla3GMc7K83vp64FklsxnRdzV9yOX0EgNCj2/aTn6jqTCI\n",
       "jIwPEbwozf/9wvQf+xnT6WKp4CRghWVbfnWYHkhAdXOXAAAAkkGaZUmoQWiZTAhv//6njlvu8AIU\n",
       "9zHADVVpq2PFZf19CD6yMb/z0nEim69PAC3zb35P3r0bvEy9JPu/+2NxXr2CHwVXa3DoEPP+wkfV\n",
       "5ehhlZQQQKnRMUtruAAP246wAbicEyHpKo3j2461719KfcviB4GjJgmNT3t+wRW4+wI1D6c695Cd\n",
       "oHyRKnovTZ5RQw0xAAADdm1vb3YAAABsbXZoZAAAAAAAAAAAAAAAAAAAA+gAAAJYAAEAAAEAAAAA\n",
       "AAAAAAAAAAABAAAAAAAAAAAAAAAAAAAAAQAAAAAAAAAAAAAAAAAAQAAAAAAAAAAAAAAAAAAAAAAA\n",
       "AAAAAAAAAAAAAAAAAAIAAAKgdHJhawAAAFx0a2hkAAAAAwAAAAAAAAAAAAAAAQAAAAAAAAJYAAAA\n",
       "AAAAAAAAAAAAAAAAAAABAAAAAAAAAAAAAAAAAAAAAQAAAAAAAAAAAAAAAAAAQAAAAAGwAAABIAAA\n",
       "AAAAJGVkdHMAAAAcZWxzdAAAAAAAAAABAAACWAAACAAAAQAAAAACGG1kaWEAAAAgbWRoZAAAAAAA\n",
       "AAAAAAAAAAAAKAAAABgAVcQAAAAAAC1oZGxyAAAAAAAAAAB2aWRlAAAAAAAAAAAAAAAAVmlkZW9I\n",
       "YW5kbGVyAAAAAcNtaW5mAAAAFHZtaGQAAAABAAAAAAAAAAAAAAAkZGluZgAAABxkcmVmAAAAAAAA\n",
       "AAEAAAAMdXJsIAAAAAEAAAGDc3RibAAAALNzdHNkAAAAAAAAAAEAAACjYXZjMQAAAAAAAAABAAAA\n",
       "AAAAAAAAAAAAAAAAAAGwASAASAAAAEgAAAAAAAAAAQAAAAAAAAAAAAAAAAAAAAAAAAAAAAAAAAAA\n",
       "AAAAAAAAABj//wAAADFhdmNDAWQAFf/hABhnZAAVrNlBsJaEAAADAAQAAAMAUDxYtlgBAAZo6+PL\n",
       "IsAAAAAcdXVpZGtoQPJfJE/FujmlG88DI/MAAAAAAAAAGHN0dHMAAAAAAAAAAQAAAAYAAAQAAAAA\n",
       "FHN0c3MAAAAAAAAAAQAAAAEAAABAY3R0cwAAAAAAAAAGAAAAAQAACAAAAAABAAAUAAAAAAEAAAgA\n",
       "AAAAAQAAAAAAAAABAAAEAAAAAAEAAAgAAAAAHHN0c2MAAAAAAAAAAQAAAAEAAAAGAAAAAQAAACxz\n",
       "dHN6AAAAAAAAAAAAAAAGAAAUZgAAAZIAAADeAAAAcgAAAIAAAACWAAAAFHN0Y28AAAAAAAAAAQAA\n",
       "ACwAAABidWR0YQAAAFptZXRhAAAAAAAAACFoZGxyAAAAAAAAAABtZGlyYXBwbAAAAAAAAAAAAAAA\n",
       "AC1pbHN0AAAAJal0b28AAAAdZGF0YQAAAAEAAAAATGF2ZjU3LjgzLjEwMA==\n",
       "\">\n",
       "  Your browser does not support the video tag.\n",
       "</video>"
      ],
      "text/plain": [
       "<IPython.core.display.HTML object>"
      ]
     },
     "execution_count": 287,
     "metadata": {},
     "output_type": "execute_result"
    }
   ],
   "source": [
    "# Create an animation of the traffic density.\n",
    "anim = animation.FuncAnimation(fig, update_plot,\n",
    "                               frames=nt, fargs=(u_hist,),\n",
    "                               interval=100)\n",
    "# Display the video.\n",
    "HTML(anim.to_html5_video())"
   ]
  },
  {
   "cell_type": "markdown",
   "metadata": {},
   "source": [
    "## Reference"
   ]
  },
  {
   "cell_type": "code",
   "execution_count": null,
   "metadata": {},
   "outputs": [],
   "source": []
  },
  {
   "cell_type": "code",
   "execution_count": null,
   "metadata": {},
   "outputs": [],
   "source": []
  },
  {
   "cell_type": "markdown",
   "metadata": {},
   "source": [
    "* Sod, Gary A. (1978), \"A survey of several finite difference methods for systems of nonlinear hyperbolic conservation laws,\" *J. Comput. Phys.*, Vol. 27, pp. 1–31 DOI: [10.1016/0021-9991(78)90023-2](http://dx.doi.org/10.1016%2F0021-9991%2878%2990023-2) // [PDF from unicamp.br](http://www.fem.unicamp.br/~phoenics/EM974/TG%20PHOENICS/BRUNO%20GALETTI%20TG%202013/a%20survey%20of%20several%20finite%20difference%20methods%20for%20systems%20of%20nonlinear%20hyperbolic%20conservation%20laws%20Sod%201978.pdf), checked Oct. 28, 2014."
   ]
  },
  {
   "cell_type": "markdown",
   "metadata": {},
   "source": [
    "---\n",
    "\n",
    "###### The cell below loads the style of the notebook."
   ]
  },
  {
   "cell_type": "code",
   "execution_count": 1,
   "metadata": {},
   "outputs": [
    {
     "data": {
      "text/html": [
       "<link href='http://fonts.googleapis.com/css?family=Alegreya+Sans:100,300,400,500,700,800,900,100italic,300italic,400italic,500italic,700italic,800italic,900italic' rel='stylesheet' type='text/css'>\n",
       "<link href='http://fonts.googleapis.com/css?family=Arvo:400,700,400italic' rel='stylesheet' type='text/css'>\n",
       "<link href='http://fonts.googleapis.com/css?family=PT+Mono' rel='stylesheet' type='text/css'>\n",
       "<link href='http://fonts.googleapis.com/css?family=Shadows+Into+Light' rel='stylesheet' type='text/css'>\n",
       "<link href='http://fonts.googleapis.com/css?family=Nixie+One' rel='stylesheet' type='text/css'>\n",
       "<link href='https://fonts.googleapis.com/css?family=Source+Code+Pro' rel='stylesheet' type='text/css'>\n",
       "<style>\n",
       "\n",
       "@font-face {\n",
       "    font-family: \"Computer Modern\";\n",
       "    src: url('http://mirrors.ctan.org/fonts/cm-unicode/fonts/otf/cmunss.otf');\n",
       "}\n",
       "\n",
       "#notebook_panel { /* main background */\n",
       "    background: rgb(245,245,245);\n",
       "}\n",
       "\n",
       "div.cell { /* set cell width */\n",
       "    width: 750px;\n",
       "}\n",
       "\n",
       "div #notebook { /* centre the content */\n",
       "    background: #fff; /* white background for content */\n",
       "    width: 1000px;\n",
       "    margin: auto;\n",
       "    padding-left: 0em;\n",
       "}\n",
       "\n",
       "#notebook li { /* More space between bullet points */\n",
       "    margin-top:0.8em;\n",
       "}\n",
       "\n",
       "/* draw border around running cells */\n",
       "div.cell.border-box-sizing.code_cell.running { \n",
       "    border: 1px solid #111;\n",
       "}\n",
       "\n",
       "/* Put a solid color box around each cell and its output, visually linking them*/\n",
       "div.cell.code_cell {\n",
       "    background-color: rgb(256,256,256); \n",
       "    border-radius: 0px; \n",
       "    padding: 0.5em;\n",
       "    margin-left:1em;\n",
       "    margin-top: 1em;\n",
       "}\n",
       "\n",
       "div.text_cell_render{\n",
       "    font-family: 'Alegreya Sans' sans-serif;\n",
       "    line-height: 140%;\n",
       "    font-size: 125%;\n",
       "    font-weight: 400;\n",
       "    width:600px;\n",
       "    margin-left:auto;\n",
       "    margin-right:auto;\n",
       "}\n",
       "\n",
       "\n",
       "/* Formatting for header cells */\n",
       ".text_cell_render h1 {\n",
       "    font-family: 'Nixie One', serif;\n",
       "    font-style:regular;\n",
       "    font-weight: 400;    \n",
       "    font-size: 45pt;\n",
       "    line-height: 100%;\n",
       "    color: rgb(0,51,102);\n",
       "    margin-bottom: 0.5em;\n",
       "    margin-top: 0.5em;\n",
       "    display: block;\n",
       "}\n",
       "\n",
       ".text_cell_render h2 {\n",
       "    font-family: 'Nixie One', serif;\n",
       "    font-weight: 400;\n",
       "    font-size: 30pt;\n",
       "    line-height: 100%;\n",
       "    color: rgb(0,51,102);\n",
       "    margin-bottom: 0.1em;\n",
       "    margin-top: 0.3em;\n",
       "    display: block;\n",
       "}\t\n",
       "\n",
       ".text_cell_render h3 {\n",
       "    font-family: 'Nixie One', serif;\n",
       "    margin-top:16px;\n",
       "    font-size: 22pt;\n",
       "    font-weight: 600;\n",
       "    margin-bottom: 3px;\n",
       "    font-style: regular;\n",
       "    color: rgb(102,102,0);\n",
       "}\n",
       "\n",
       ".text_cell_render h4 {    /*Use this for captions*/\n",
       "    font-family: 'Nixie One', serif;\n",
       "    font-size: 14pt;\n",
       "    text-align: center;\n",
       "    margin-top: 0em;\n",
       "    margin-bottom: 2em;\n",
       "    font-style: regular;\n",
       "}\n",
       "\n",
       ".text_cell_render h5 {  /*Use this for small titles*/\n",
       "    font-family: 'Nixie One', sans-serif;\n",
       "    font-weight: 400;\n",
       "    font-size: 16pt;\n",
       "    color: rgb(163,0,0);\n",
       "    font-style: italic;\n",
       "    margin-bottom: .1em;\n",
       "    margin-top: 0.8em;\n",
       "    display: block;\n",
       "}\n",
       "\n",
       ".text_cell_render h6 { /*use this for copyright note*/\n",
       "    font-family: 'PT Mono', sans-serif;\n",
       "    font-weight: 300;\n",
       "    font-size: 9pt;\n",
       "    line-height: 100%;\n",
       "    color: grey;\n",
       "    margin-bottom: 1px;\n",
       "    margin-top: 1px;\n",
       "}\n",
       "\n",
       ".CodeMirror{\n",
       "    font-family: \"Source Code Pro\";\n",
       "    font-size: 90%;\n",
       "}\n",
       "\n",
       ".alert-box {\n",
       "    padding:10px 10px 10px 36px;\n",
       "    margin:5px;\n",
       "}\n",
       "\n",
       ".success {\n",
       "    color:#666600;\n",
       "    background:rgb(240,242,229);\n",
       "}\n",
       "</style>\n",
       "\n",
       "<script>\n",
       "    MathJax.Hub.Config({\n",
       "                        TeX: {\n",
       "                            extensions: [\"AMSmath.js\"],\n",
       "                            equationNumbers: { autoNumber: \"AMS\", useLabelIds: true}\n",
       "                            },\n",
       "                        tex2jax: {\n",
       "                            inlineMath: [ ['$','$'], [\"\\\\(\",\"\\\\)\"] ],\n",
       "                            displayMath: [ ['$$','$$'], [\"\\\\[\",\"\\\\]\"] ]\n",
       "                            },\n",
       "                        displayAlign: 'center', // Change this to 'center' to center equations.\n",
       "                        \"HTML-CSS\": {\n",
       "                            styles: {'.MathJax_Display': {\"margin\": 4}}\n",
       "                            }\n",
       "                        });\n",
       "    MathJax.Hub.Queue(\n",
       "                      [\"resetEquationNumbers\", MathJax.InputJax.TeX],\n",
       "                      [\"PreProcess\", MathJax.Hub],\n",
       "                      [\"Reprocess\", MathJax.Hub]\n",
       "                     );\n",
       "</script>\n"
      ],
      "text/plain": [
       "<IPython.core.display.HTML object>"
      ]
     },
     "execution_count": 1,
     "metadata": {},
     "output_type": "execute_result"
    }
   ],
   "source": [
    "from IPython.core.display import HTML\n",
    "css_file = '../../styles/numericalmoocstyle.css'\n",
    "HTML(open(css_file, 'r').read())"
   ]
  }
 ],
 "metadata": {
  "kernelspec": {
   "display_name": "Python 3",
   "language": "python",
   "name": "python3"
  },
  "language_info": {
   "codemirror_mode": {
    "name": "ipython",
    "version": 3
   },
   "file_extension": ".py",
   "mimetype": "text/x-python",
   "name": "python",
   "nbconvert_exporter": "python",
   "pygments_lexer": "ipython3",
   "version": "3.7.3"
  }
 },
 "nbformat": 4,
 "nbformat_minor": 1
}
