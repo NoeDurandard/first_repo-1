{
 "cells": [
  {
   "cell_type": "markdown",
   "metadata": {},
   "source": [
    "###### Content under Creative Commons Attribution license CC-BY 4.0, code under MIT license (c)2014 L.A. Barba, C.D. Cooper, G.F. Forsyth."
   ]
  },
  {
   "cell_type": "markdown",
   "metadata": {},
   "source": [
    "# Riding the wave"
   ]
  },
  {
   "cell_type": "markdown",
   "metadata": {},
   "source": [
    "We've reached the third lesson of the module _Riding the wave: Convection problems_, where we explore the numerical solution of conservation laws. We learned in the [first lesson](https://nbviewer.jupyter.org/github/numerical-mooc/numerical-mooc/blob/master/lessons/03_wave/03_01_conservationLaw.ipynb) how to think about conservation laws, starting with the most intuitive case: that of conservation of mass. But there are many physical quantities that can be conserved: energy, for example. Or cars on a road.\n",
    "\n",
    "Developing a conservation law for traffic in a one-lane roadway is fun, because we can relate to the insights it gives. We've all experienced traffic slowing down to a crawl when the density of cars gets very high, and stepping on the accelerator pedal with glee when there are no cars on the road!\n",
    "\n",
    "In the previous two lessons, we developed a traffic-flow model and explored [different choices of numerical scheme](https://nbviewer.jupyter.org/github/numerical-mooc/numerical-mooc/blob/master/lessons/03_wave/03_02_convectionSchemes.ipynb).  Not everything worked as you expected, and by now you might be realizing how some restrictions come about from the numerical methods themselves, while others still are imposed by the models we use. This lesson will develop a better traffic model, and also show you some impressive SymPy kung-fu."
   ]
  },
  {
   "cell_type": "markdown",
   "metadata": {},
   "source": [
    "## Traffic flow, revisited"
   ]
  },
  {
   "cell_type": "markdown",
   "metadata": {},
   "source": [
    "### A better flux model"
   ]
  },
  {
   "cell_type": "markdown",
   "metadata": {},
   "source": [
    "Like you saw in the first lesson, cars obey a typical conservation law,\n",
    "\n",
    "$$\n",
    "\\begin{equation}\n",
    "\\frac{\\partial \\rho}{\\partial t} + \\frac{\\partial F}{\\partial x} = 0\n",
    "\\end{equation}\n",
    "$$\n",
    "\n",
    "where $F$ is the flux, $F=\\rho u$—flux equals density times velocity. From our experience on the road, we know that the traffic speed is a function of traffic density, and we proposed as a first approximation a linear relation between the two. Thus,\n",
    "\n",
    "$$\n",
    "\\begin{equation}\n",
    "F(\\rho) = \\rho \\, u_{max}\\left(1 - \\frac{\\rho}{\\rho_{max}} \\right)\n",
    "\\end{equation}\n",
    "$$\n",
    "\n",
    "This flux model meets the two requirements, based on a qualitative view of traffic flow, that:\n",
    "1. $u \\rightarrow u_{max}$ and $F\\rightarrow 0$ when $\\rho \\rightarrow 0$.\n",
    "2. $u \\rightarrow 0$ as $\\rho \\rightarrow \\rho_{max}$\n",
    "\n",
    "However, it leads to some unrealistic or at least improbable results.  For example, note that if the traffic speed is a linear function of density, the flux function will be quadratic (see Figure 1). In this case, the maximum flux will occur when $\\rho^{\\star} = \\rho_{max}/2$, corresponding to a traffic speed $u_{max}/2$.  "
   ]
  },
  {
   "cell_type": "markdown",
   "metadata": {},
   "source": [
    "![velocity_and_flux](./figures/velocity_and_flux.png)\n",
    "#### Figure 1. Traffic speed (left) and flux (right) vs. density."
   ]
  },
  {
   "cell_type": "markdown",
   "metadata": {},
   "source": [
    "A good question to ask here is:  should the maximum flux on a given stretch of road have a strict dependence on the maximum speed that the roadway allows, be it by physical restrictions or posted speed limits? In other words, do we really expect the maximum flux to increase if we allow arbitrarily high speeds? \n",
    "\n",
    "Probably not.  But there *should* be some ideal traffic speed, $u^{\\star}$, corresponding to an ideal traffic density, $\\rho^{\\star}$, resulting in the maximum traffic flux:\n",
    "\n",
    "$$\n",
    "\\begin{equation}\n",
    "F_{\\rm max} = \\rho^{\\star}u^{\\star}\n",
    "\\end{equation}\n",
    "$$\n",
    "\n",
    "Let us improve the initial flux model by taking this observation into account. One thing that we can try is to introduce a flux model that is cubic in $\\rho$ instead of quadratic:\n",
    "\n",
    "$$\n",
    "\\begin{equation}\n",
    "F(\\rho) = u_{\\rm max}\\rho (1 - A\\rho - B \\rho^2)\n",
    "\\end{equation}\n",
    "$$\n",
    "\n",
    "This new model still meets the first criterion listed above: $F\\rightarrow 0$ when $\\rho \\rightarrow 0$. Moreover, we impose the following conditions:\n",
    "\n",
    "* When $\\rho = \\rho_{\\rm max}$ traffic flux goes to zero:\n",
    "\n",
    "$$\n",
    "\\begin{equation}\n",
    "F(\\rho_{\\rm max}) = 0 = u_{\\rm max}\\, \\rho_{\\rm max}(1 - A \\rho_{\\rm max} - B \\rho_{\\rm max}^2)\n",
    "\\end{equation}\n",
    "$$\n",
    "\n",
    "* Based on eq. (3), maximum flux occurs when $\\rho = \\rho^{\\star}$ and $F'(\\rho^{\\star}) = 0$:\n",
    "\n",
    "$$\n",
    "\\begin{equation}\n",
    "F'(\\rho^{\\star}) = 0  = u_{\\rm max}(1 - 2A\\rho^{\\star} - 3B(\\rho^{\\star})^2)\n",
    "\\end{equation}\n",
    "$$\n",
    "\n",
    "* $u^{\\star}$ is obtained when $\\rho = \\rho^{\\star}$:\n",
    "\n",
    "$$\n",
    "\\begin{equation}\n",
    "u^{\\star} = u_{\\rm max}(1 - A \\rho^{\\star} - B(\\rho^{\\star})^2)\n",
    "\\end{equation}\n",
    "$$\n",
    "\n",
    "We have three equations and four unknowns $A,B,\\rho^{\\star}, u^{\\star}$. However, in practice, the ideal traffic speed could be obtained for a given road by observations. Similarly to $u_{max}$ and $\\rho_{max}$ it will therefore be taken as a parameter."
   ]
  },
  {
   "cell_type": "markdown",
   "metadata": {},
   "source": [
    "### Solving the new flux equation"
   ]
  },
  {
   "cell_type": "markdown",
   "metadata": {},
   "source": [
    "Equations $(5)$, $(6)$, and $(7)$ are not incredibly difficult to solve with pen and paper. Instead of following that route, we can use [SymPy](http://sympy.org/en/index.html), the symbolic mathematics library of Python.  You used SymPy already in the [Burgers' equation lesson](https://nbviewer.jupyter.org/github/numerical-mooc/numerical-mooc/blob/master/lessons/02_spacetime/02_04_1DBurgers.ipynb) of Module 2, _\"Space & Time\"_, and you will learn some new functionalities here.\n",
    "\n",
    "We begin by importing SymPy, initializing $\\LaTeX$ printing and defining a set of symbolic variables that we'll use in the calculations. Remember: variables are not defined automatically, you have to tell SymPy that a name will correspond to a symbolic variable by using the keyword `symbols`. This behavior is different from many other symbolic math systems that implicitly construct symbols for you, so you may be perplexed if you've used these other sytems before. The reason for this behavior in SymPy is that the system is fully built on Python, a general-purpose language that needs you to define all objects before using them."
   ]
  },
  {
   "cell_type": "code",
   "execution_count": 1,
   "metadata": {},
   "outputs": [],
   "source": [
    "import sympy\n",
    "sympy.init_printing()\n",
    "\n",
    "(u_max, u_star, rho_max,\n",
    " rho_star, A, B) = sympy.symbols('u_max u_star rho_max rho_star A B')"
   ]
  },
  {
   "cell_type": "markdown",
   "metadata": {},
   "source": [
    "Notice that we used the special character `_` (the under-dash) to create a symbol with a subscript. Here, for example, we've created the symbols $u_{max}$ and $u_{star}$, representing $u_{\\rm max}$ and $u^{\\star}$ ($u$-star) in the equations, and assigned them to the variable names `u_max` and `u_star`. SymPy also allows you to create symbols with a superscript by means of the special character `^`. Be careful, though: SymPy is built on Python, so you denote an exponent in an expression by `**` (this may also be different from other symbolic math systems that you have used in the past).\n",
    "\n",
    "Next, use `sympy.Eq()` to define the three equations—corresponding to Equations $(5)$, $(6)$ and $(7)$, above—in terms of symbolic variables. The function `sympy.Eq()` creates an equality between two SymPy objects, passed as arguments separated by a comma. We need to remember that the equal sign in Python is used for variable assignment, and for that reason it cannot be used to build a symbolic equation with SymPy. That is why we need `sympy.Eq()` to create symbolic equalities. But the equal sign _is_ used to _assign_ an equation to a name: here, `eq1`, `eq2`, `eq3` are names for the symbolic equalities we create with `sympy.Eq()`."
   ]
  },
  {
   "cell_type": "code",
   "execution_count": 2,
   "metadata": {},
   "outputs": [],
   "source": [
    "eq1 = sympy.Eq(0, u_max * rho_max * (1 - A * rho_max - B * rho_max**2))\n",
    "eq2 = sympy.Eq(0, u_max * (1 - 2 * A * rho_star - 3 * B * rho_star**2))\n",
    "eq3 = sympy.Eq(u_star, u_max * (1 - A * rho_star - B * rho_star**2))"
   ]
  },
  {
   "cell_type": "markdown",
   "metadata": {},
   "source": [
    "Check this out: you can display these equations in pretty typeset mathematics just by executing their name in a code cell:"
   ]
  },
  {
   "cell_type": "code",
   "execution_count": 3,
   "metadata": {},
   "outputs": [
    {
     "data": {
      "image/png": "[encoded data removed]",
      "text/latex": [
       "$\\displaystyle 0 = \\rho_{max} u_{max} \\left(- A \\rho_{max} - B \\rho_{max}^{2} + 1\\right)$"
      ],
      "text/plain": [
       "              ⎛                2    ⎞\n",
       "0 = ρₘₐₓ⋅uₘₐₓ⋅⎝-A⋅ρₘₐₓ - B⋅ρₘₐₓ  + 1⎠"
      ]
     },
     "execution_count": 3,
     "metadata": {},
     "output_type": "execute_result"
    }
   ],
   "source": [
    "eq1"
   ]
  },
  {
   "cell_type": "code",
   "execution_count": 4,
   "metadata": {},
   "outputs": [
    {
     "data": {
      "image/png": "[encoded data removed]",
      "text/latex": [
       "$\\displaystyle 0 = u_{max} \\left(- 2 A \\rho_{star} - 3 B \\rho_{star}^{2} + 1\\right)$"
      ],
      "text/plain": [
       "         ⎛                      2    ⎞\n",
       "0 = uₘₐₓ⋅⎝-2⋅A⋅ρₛₜₐᵣ - 3⋅B⋅ρₛₜₐᵣ  + 1⎠"
      ]
     },
     "execution_count": 4,
     "metadata": {},
     "output_type": "execute_result"
    }
   ],
   "source": [
    "eq2"
   ]
  },
  {
   "cell_type": "code",
   "execution_count": 5,
   "metadata": {},
   "outputs": [
    {
     "data": {
      "image/png": "[encoded data removed]",
      "text/latex": [
       "$\\displaystyle u_{star} = u_{max} \\left(- A \\rho_{star} - B \\rho_{star}^{2} + 1\\right)$"
      ],
      "text/plain": [
       "             ⎛                  2    ⎞\n",
       "uₛₜₐᵣ = uₘₐₓ⋅⎝-A⋅ρₛₜₐᵣ - B⋅ρₛₜₐᵣ  + 1⎠"
      ]
     },
     "execution_count": 5,
     "metadata": {},
     "output_type": "execute_result"
    }
   ],
   "source": [
    "eq3"
   ]
  },
  {
   "cell_type": "markdown",
   "metadata": {},
   "source": [
    "As stressed above, we have three equations with three unknowns (assuming we have some observed value of $u_{star}$, corresponding to the ideal traffic speed)—there must be a solution!\n",
    "\n",
    "To eliminate the term with $B$ in `eq2`, leaving it only in terms of $A$ and $\\rho^{\\star}$, we might subtract `3*eq3`.  But this will not work in SymPy if you attempt equation subtraction using the equation names. Just like we couldn't use the equal sign (which in Python means assignment) to create a symbolic equality (needing `sympy.Eq` instead), we can't use mathematical operators directly on the SymPy equations, because they are really _equalities_. What does it mean to subtract two _equalities_? It doesn't make sense. Try it ..."
   ]
  },
  {
   "cell_type": "code",
   "execution_count": 6,
   "metadata": {},
   "outputs": [
    {
     "data": {
      "image/png": "[encoded data removed]",
      "text/latex": [
       "$\\displaystyle \\left(0 = u_{max} \\left(- 2 A \\rho_{star} - 3 B \\rho_{star}^{2} + 1\\right)\\right) - 3 \\left(u_{star} = u_{max} \\left(- A \\rho_{star} - B \\rho_{star}^{2} + 1\\right)\\right)$"
      ],
      "text/plain": [
       "⎛         ⎛                      2    ⎞⎞     ⎛             ⎛                  \n",
       "⎝0 = uₘₐₓ⋅⎝-2⋅A⋅ρₛₜₐᵣ - 3⋅B⋅ρₛₜₐᵣ  + 1⎠⎠ - 3⋅⎝uₛₜₐᵣ = uₘₐₓ⋅⎝-A⋅ρₛₜₐᵣ - B⋅ρₛₜₐᵣ\n",
       "\n",
       "2    ⎞⎞\n",
       "  + 1⎠⎠"
      ]
     },
     "execution_count": 6,
     "metadata": {},
     "output_type": "execute_result"
    }
   ],
   "source": [
    "eq2 - 3 * eq3"
   ]
  },
  {
   "cell_type": "markdown",
   "metadata": {},
   "source": [
    "See?  SymPy just printed out what you suggested but it did not manipulate algebraically the left and right sides of `eq2` like we were aiming for. What we _can_ do is create a _new_ equation, perform the left-hand side (LHS) and right-hand side (RHS) operations separately and then recombine them into our desired result. For this, it is helpful to know that there are built-in properties of a SymPy equality for the left-hand side and the right-hand side of the equality. Check it out:"
   ]
  },
  {
   "cell_type": "code",
   "execution_count": 7,
   "metadata": {},
   "outputs": [
    {
     "data": {
      "image/png": "[encoded data removed]",
      "text/latex": [
       "$\\displaystyle - 3 u_{star} = u_{max} \\left(- 2 A \\rho_{star} - 3 B \\rho_{star}^{2} + 1\\right) - 3 u_{max} \\left(- A \\rho_{star} - B \\rho_{star}^{2} + 1\\right)$"
      ],
      "text/plain": [
       "                ⎛                      2    ⎞          ⎛                  2   \n",
       "-3⋅uₛₜₐᵣ = uₘₐₓ⋅⎝-2⋅A⋅ρₛₜₐᵣ - 3⋅B⋅ρₛₜₐᵣ  + 1⎠ - 3⋅uₘₐₓ⋅⎝-A⋅ρₛₜₐᵣ - B⋅ρₛₜₐᵣ  + \n",
       "\n",
       " ⎞\n",
       "1⎠"
      ]
     },
     "execution_count": 7,
     "metadata": {},
     "output_type": "execute_result"
    }
   ],
   "source": [
    "eq4 = sympy.Eq(eq2.lhs - 3 * eq3.lhs, eq2.rhs - 3 * eq3.rhs)\n",
    "eq4"
   ]
  },
  {
   "cell_type": "markdown",
   "metadata": {},
   "source": [
    "That still needs a little work. SymPy offers several methods to help reduce expressions. You can use [`simplify()`](http://docs.sympy.org/latest/modules/simplify/simplify.html?highlight=simplify#sympy.simplify.simplify.simplify) to attempt to make the expression \"simpler,\" but you can imagine that the quality of an expression being simple is not well defined. One may expect the simpler expression to be shorter, maybe; but not always. The SymPy `simplify()` function applies several strategies, heuristically, to give you an equivalent reduced expression. But some expressions are uncooperative and `simplify()` gives up, returning the argument unchanged. Let's see what it can do with our expression `eq4`."
   ]
  },
  {
   "cell_type": "code",
   "execution_count": 8,
   "metadata": {},
   "outputs": [
    {
     "data": {
      "image/png": "[encoded data removed]",
      "text/latex": [
       "$\\displaystyle 3 u_{star} = - u_{max} \\left(A \\rho_{star} - 2\\right)$"
      ],
      "text/plain": [
       "3⋅uₛₜₐᵣ = -uₘₐₓ⋅(A⋅ρₛₜₐᵣ - 2)"
      ]
     },
     "execution_count": 8,
     "metadata": {},
     "output_type": "execute_result"
    }
   ],
   "source": [
    "eq4.simplify()"
   ]
  },
  {
   "cell_type": "markdown",
   "metadata": {},
   "source": [
    "That is actually a useful result. We see that `eq4` allows solving for $\\rho^{\\star}$ in terms of $A$, for example (remember that $u_{max}$ is known: the road's maximum velocity). Then we could try to manipulate `eq1` to solve for $B$ in terms of $A$, as well, so that we can substitute back in `eq2` leaving everything in terms of $A$. We can do all that without the help of `simplify()`, but using it interactively to reason about the long expression helped us to decide on a course of action.\n",
    "\n",
    "Another SymPy function that can help us examine complicated expressions is [`expand()`](http://docs.sympy.org/latest/modules/core.html?highlight=expand#sympy.core.function.expand). Its purpose is to expand bracketed factors in expressions and group powers of symbols. Let's see what that does here. Notice first that `eq4` hasn't changed; we just printed the result of applying `simplify()` to it."
   ]
  },
  {
   "cell_type": "code",
   "execution_count": 9,
   "metadata": {},
   "outputs": [
    {
     "data": {
      "image/png": "[encoded data removed]",
      "text/latex": [
       "$\\displaystyle - 3 u_{star} = u_{max} \\left(- 2 A \\rho_{star} - 3 B \\rho_{star}^{2} + 1\\right) - 3 u_{max} \\left(- A \\rho_{star} - B \\rho_{star}^{2} + 1\\right)$"
      ],
      "text/plain": [
       "                ⎛                      2    ⎞          ⎛                  2   \n",
       "-3⋅uₛₜₐᵣ = uₘₐₓ⋅⎝-2⋅A⋅ρₛₜₐᵣ - 3⋅B⋅ρₛₜₐᵣ  + 1⎠ - 3⋅uₘₐₓ⋅⎝-A⋅ρₛₜₐᵣ - B⋅ρₛₜₐᵣ  + \n",
       "\n",
       " ⎞\n",
       "1⎠"
      ]
     },
     "execution_count": 9,
     "metadata": {},
     "output_type": "execute_result"
    }
   ],
   "source": [
    "eq4"
   ]
  },
  {
   "cell_type": "markdown",
   "metadata": {},
   "source": [
    "And now we print the result of applying `expand()` to it."
   ]
  },
  {
   "cell_type": "code",
   "execution_count": 10,
   "metadata": {},
   "outputs": [
    {
     "data": {
      "image/png": "[encoded data removed]",
      "text/latex": [
       "$\\displaystyle - 3 u_{star} = A \\rho_{star} u_{max} - 2 u_{max}$"
      ],
      "text/plain": [
       "-3⋅uₛₜₐᵣ = A⋅ρₛₜₐᵣ⋅uₘₐₓ - 2⋅uₘₐₓ"
      ]
     },
     "execution_count": 10,
     "metadata": {},
     "output_type": "execute_result"
    }
   ],
   "source": [
    "eq4.expand()"
   ]
  },
  {
   "cell_type": "markdown",
   "metadata": {},
   "source": [
    "That's very similar to our previous result, except without the bracketed factor. Simplifying an expression can be accomplished by expanding or factoring terms, or a combination of the two. Whether to `simplify()` or `expand()` depends on the situation and you just have to experiment.\n",
    "\n",
    "We now have an idea of what to do with our three equations. We'll get expressions in terms of $A$ from `eq4` and `eq1` and substitute them back into `eq2`. For that, we can use the SymPy functions [`solve()`](http://docs.sympy.org/dev/modules/solvers/solvers.html#sympy.solvers.solvers.solve) and `subs()`, respectively. The arguments to `solve()` are the equality that needs to be solved, and the symbol to solve for.\n",
    "\n",
    "**Note**: `sympy.solve()` always returns results in a *list*, since you often end up with multiple solutions for a given variable.  These linear equations will only return one solution, so we can skip a step and ask right away for the `[0]`-th element of the list."
   ]
  },
  {
   "cell_type": "code",
   "execution_count": 11,
   "metadata": {},
   "outputs": [
    {
     "data": {
      "image/png": "[encoded data removed]",
      "text/latex": [
       "$\\displaystyle \\frac{2 u_{max} - 3 u_{star}}{A u_{max}}$"
      ],
      "text/plain": [
       "2⋅uₘₐₓ - 3⋅uₛₜₐᵣ\n",
       "────────────────\n",
       "     A⋅uₘₐₓ     "
      ]
     },
     "execution_count": 11,
     "metadata": {},
     "output_type": "execute_result"
    }
   ],
   "source": [
    "rho_sol = sympy.solve(eq4, rho_star)[0]\n",
    "rho_sol"
   ]
  },
  {
   "cell_type": "code",
   "execution_count": 12,
   "metadata": {},
   "outputs": [
    {
     "data": {
      "image/png": "[encoded data removed]",
      "text/latex": [
       "$\\displaystyle \\frac{- A \\rho_{max} + 1}{\\rho_{max}^{2}}$"
      ],
      "text/plain": [
       "-A⋅ρₘₐₓ + 1\n",
       "───────────\n",
       "       2   \n",
       "   ρₘₐₓ    "
      ]
     },
     "execution_count": 12,
     "metadata": {},
     "output_type": "execute_result"
    }
   ],
   "source": [
    "B_sol = sympy.solve(eq1, B)[0]\n",
    "B_sol"
   ]
  },
  {
   "cell_type": "markdown",
   "metadata": {},
   "source": [
    "The arguments to the SymPy function [`subs()`](http://docs.sympy.org/dev/modules/core.html#sympy.core.basic.Basic.subs) are given as (old, new) pairs, where the \"new\" expression substitutes the \"old\" one. So here, in `eq2`, we substitute `rho_sol` in place of `rho_star` and we substitute `B_sol` in place of `B`."
   ]
  },
  {
   "cell_type": "code",
   "execution_count": 13,
   "metadata": {},
   "outputs": [
    {
     "data": {
      "image/png": "[encoded data removed]",
      "text/latex": [
       "$\\displaystyle 0 = u_{max} \\left(1 - \\frac{2 \\left(2 u_{max} - 3 u_{star}\\right)}{u_{max}} - \\frac{3 \\left(2 u_{max} - 3 u_{star}\\right)^{2} \\left(- A \\rho_{max} + 1\\right)}{A^{2} \\rho_{max}^{2} u_{max}^{2}}\\right)$"
      ],
      "text/plain": [
       "         ⎛                                               2              ⎞\n",
       "         ⎜    2⋅(2⋅uₘₐₓ - 3⋅uₛₜₐᵣ)   3⋅(2⋅uₘₐₓ - 3⋅uₛₜₐᵣ) ⋅(-A⋅ρₘₐₓ + 1)⎟\n",
       "0 = uₘₐₓ⋅⎜1 - ──────────────────── - ───────────────────────────────────⎟\n",
       "         ⎜            uₘₐₓ                       2     2     2          ⎟\n",
       "         ⎝                                      A ⋅ρₘₐₓ ⋅uₘₐₓ           ⎠"
      ]
     },
     "execution_count": 13,
     "metadata": {},
     "output_type": "execute_result"
    }
   ],
   "source": [
    "quadA = eq2.subs([(rho_star, rho_sol), (B, B_sol)])\n",
    "quadA"
   ]
  },
  {
   "cell_type": "code",
   "execution_count": 14,
   "metadata": {},
   "outputs": [
    {
     "data": {
      "image/png": "[encoded data removed]",
      "text/latex": [
       "$\\displaystyle 3 u_{max} - 6 u_{star} - \\frac{3 \\left(2 u_{max} - 3 u_{star}\\right)^{2}}{A \\rho_{max} u_{max}} + \\frac{3 \\left(2 u_{max} - 3 u_{star}\\right)^{2}}{A^{2} \\rho_{max}^{2} u_{max}} = 0$"
      ],
      "text/plain": [
       "                                       2                       2    \n",
       "                   3⋅(2⋅uₘₐₓ - 3⋅uₛₜₐᵣ)    3⋅(2⋅uₘₐₓ - 3⋅uₛₜₐᵣ)     \n",
       "3⋅uₘₐₓ - 6⋅uₛₜₐᵣ - ───────────────────── + ───────────────────── = 0\n",
       "                        A⋅ρₘₐₓ⋅uₘₐₓ             2     2             \n",
       "                                               A ⋅ρₘₐₓ ⋅uₘₐₓ        "
      ]
     },
     "execution_count": 14,
     "metadata": {},
     "output_type": "execute_result"
    }
   ],
   "source": [
    "quadA.simplify()"
   ]
  },
  {
   "cell_type": "markdown",
   "metadata": {},
   "source": [
    "It's a little bit ugly, but that is quadratic in $A$, and that means we can solve for the roots of the equation. SymPy's `solve()` function in this case will return a list with the two roots. They are long expressions, so let's print each root separately."
   ]
  },
  {
   "cell_type": "code",
   "execution_count": 15,
   "metadata": {},
   "outputs": [],
   "source": [
    "A_sol = sympy.solve(quadA, A)"
   ]
  },
  {
   "cell_type": "code",
   "execution_count": 16,
   "metadata": {},
   "outputs": [
    {
     "data": {
      "image/png": "[encoded data removed]",
      "text/latex": [
       "$\\displaystyle \\frac{\\sqrt{- u_{star} \\left(4 u_{max} - 9 u_{star}\\right)} \\left(- 2 u_{max} + 3 u_{star}\\right) + \\left(2 u_{max} - 3 u_{star}\\right)^{2}}{2 \\rho_{max} u_{max} \\left(u_{max} - 2 u_{star}\\right)}$"
      ],
      "text/plain": [
       "  ___________________________                                         2\n",
       "╲╱ -uₛₜₐᵣ⋅(4⋅uₘₐₓ - 9⋅uₛₜₐᵣ) ⋅(-2⋅uₘₐₓ + 3⋅uₛₜₐᵣ) + (2⋅uₘₐₓ - 3⋅uₛₜₐᵣ) \n",
       "───────────────────────────────────────────────────────────────────────\n",
       "                      2⋅ρₘₐₓ⋅uₘₐₓ⋅(uₘₐₓ - 2⋅uₛₜₐᵣ)                     "
      ]
     },
     "execution_count": 16,
     "metadata": {},
     "output_type": "execute_result"
    }
   ],
   "source": [
    "A_sol[0]"
   ]
  },
  {
   "cell_type": "code",
   "execution_count": 17,
   "metadata": {},
   "outputs": [
    {
     "data": {
      "image/png": "[encoded data removed]",
      "text/latex": [
       "$\\displaystyle \\frac{\\left(2 u_{max} - 3 u_{star}\\right) \\left(2 u_{max} - 3 u_{star} + \\sqrt{- u_{star} \\left(4 u_{max} - 9 u_{star}\\right)}\\right)}{2 \\rho_{max} u_{max} \\left(u_{max} - 2 u_{star}\\right)}$"
      ],
      "text/plain": [
       "                   ⎛                     ___________________________⎞\n",
       "(2⋅uₘₐₓ - 3⋅uₛₜₐᵣ)⋅⎝2⋅uₘₐₓ - 3⋅uₛₜₐᵣ + ╲╱ -uₛₜₐᵣ⋅(4⋅uₘₐₓ - 9⋅uₛₜₐᵣ) ⎠\n",
       "─────────────────────────────────────────────────────────────────────\n",
       "                     2⋅ρₘₐₓ⋅uₘₐₓ⋅(uₘₐₓ - 2⋅uₛₜₐᵣ)                    "
      ]
     },
     "execution_count": 17,
     "metadata": {},
     "output_type": "execute_result"
    }
   ],
   "source": [
    "A_sol[1]"
   ]
  },
  {
   "cell_type": "markdown",
   "metadata": {},
   "source": [
    "### Evaluating the new flux equation"
   ]
  },
  {
   "cell_type": "markdown",
   "metadata": {},
   "source": [
    "Quadratic equations, of course, have two solutions. Here we have to select the positive root, otherwise our model would have an inconsistency. Are you able to see why?  To determine its value, we need to fill in some actual numbers into the model.\n",
    "\n",
    "Let's start with the same numerical values that we used in [lesson 1](https://nbviewer.jupyter.org/github/numerical-mooc/numerical-mooc/blob/master/lessons/03_wave/03_01_conservationLaw.ipynb) for $\\rho_{\\rm max}$ and $u_{\\rm max}$. But we also have to supply a value for $u^{\\star}$, a quantity that should be experimentally observed in a given road. We propose $u^{\\star} = 0.7\\, u_{\\rm max}$ for this exercise.  This would correspond to 84 km/h for a highway with a 120-km/h speed limit, for example.\n",
    "\n",
    "Let's numerically evaluate the solutions for $A$ using the following values:\n",
    "\n",
    "$$\n",
    "\\begin{align} \n",
    "\\rho_{\\rm max} &=10.0 \\nonumber\\\\ u_{\\rm max} &=1.0 \\nonumber\\\\ u^{\\star} &=0.7 \\nonumber\n",
    "\\end{align}\n",
    "$$\n",
    "\n",
    "Now evaluate the numeric result for each root of $A$ using the `evalf()` function, where you pass the numeric substitution as an argument. It's very cool.  Let's evaluate both roots and we will pick the positive one.\n",
    "\n",
    "Let's try the `[0]`-th solution for $A$, first:"
   ]
  },
  {
   "cell_type": "code",
   "execution_count": 18,
   "metadata": {},
   "outputs": [
    {
     "data": {
      "image/png": "[encoded data removed]",
      "text/latex": [
       "$\\displaystyle -0.0171107219255619$"
      ],
      "text/plain": [
       "-0.0171107219255619"
      ]
     },
     "execution_count": 18,
     "metadata": {},
     "output_type": "execute_result"
    }
   ],
   "source": [
    "A_val_0 = A_sol[0].evalf(subs={u_star: 0.7, u_max: 1.0, rho_max: 10.0})\n",
    "A_val_0"
   ]
  },
  {
   "cell_type": "markdown",
   "metadata": {},
   "source": [
    "Now let's try the `[1]`-th solution for $A$:"
   ]
  },
  {
   "cell_type": "code",
   "execution_count": 19,
   "metadata": {},
   "outputs": [
    {
     "data": {
      "image/png": "[encoded data removed]",
      "text/latex": [
       "$\\displaystyle 0.0146107219255619$"
      ],
      "text/plain": [
       "0.0146107219255619"
      ]
     },
     "execution_count": 19,
     "metadata": {},
     "output_type": "execute_result"
    }
   ],
   "source": [
    "A_val_1 = A_sol[1].evalf(subs={u_star: 0.7, u_max: 1.0, rho_max: 10.0})\n",
    "A_val_1"
   ]
  },
  {
   "cell_type": "markdown",
   "metadata": {},
   "source": [
    "Because Sympy seems not to return the roots in a deterministic order and  we want to use the positive root, we will automatically pick this one by using the Python built-in `max` function."
   ]
  },
  {
   "cell_type": "code",
   "execution_count": 20,
   "metadata": {},
   "outputs": [
    {
     "data": {
      "image/png": "[encoded data removed]",
      "text/latex": [
       "$\\displaystyle 0.0146107219255619$"
      ],
      "text/plain": [
       "0.0146107219255619"
      ]
     },
     "execution_count": 20,
     "metadata": {},
     "output_type": "execute_result"
    }
   ],
   "source": [
    "A_val = max(A_val_0, A_val_1)\n",
    "A_val"
   ]
  },
  {
   "cell_type": "markdown",
   "metadata": {},
   "source": [
    "Now, numerically evaluate $B$ in the same way using the positive root `A_val`:"
   ]
  },
  {
   "cell_type": "code",
   "execution_count": 21,
   "metadata": {},
   "outputs": [
    {
     "data": {
      "image/png": "[encoded data removed]",
      "text/latex": [
       "$\\displaystyle 0.00853892780744381$"
      ],
      "text/plain": [
       "0.00853892780744381"
      ]
     },
     "execution_count": 21,
     "metadata": {},
     "output_type": "execute_result"
    }
   ],
   "source": [
    "B_val = B_sol.evalf(subs={rho_max: 10.0, A: A_val})\n",
    "B_val"
   ]
  },
  {
   "cell_type": "markdown",
   "metadata": {},
   "source": [
    "### Turn off $\\LaTeX$"
   ]
  },
  {
   "cell_type": "markdown",
   "metadata": {},
   "source": [
    "$\\LaTeX$ output is great when we're looking at algebraic expressions, but it's a little too much for simple numeric output.  Let's turn it off for the rest of the exercise:"
   ]
  },
  {
   "cell_type": "code",
   "execution_count": 22,
   "metadata": {},
   "outputs": [],
   "source": [
    "sympy.init_printing(use_latex=False)"
   ]
  },
  {
   "cell_type": "markdown",
   "metadata": {},
   "source": [
    "## Green light: take 2"
   ]
  },
  {
   "cell_type": "markdown",
   "metadata": {},
   "source": [
    "Let's re-examine the green-light problem from [lesson 1](https://nbviewer.jupyter.org/github/numerical-mooc/numerical-mooc/blob/master/lessons/03_wave/03_01_conservationLaw.ipynb) but using our newly computed traffic-flux equation.  We shouldn't have to change much—in fact, we can simply create a new `flux` function and leave the rest of the code unchanged.\n",
    "\n",
    "There's one last bit of housekeeping to do so we don't run into trouble -- we used the variables `rho_max` and `u_max` in our SymPy code and we defined them as SymPy `symbols`.  You can check on the status of a variable using `type()`.  "
   ]
  },
  {
   "cell_type": "code",
   "execution_count": 23,
   "metadata": {},
   "outputs": [
    {
     "name": "stdout",
     "output_type": "stream",
     "text": [
      "<class 'sympy.core.symbol.Symbol'> <class 'sympy.core.symbol.Symbol'>\n"
     ]
    }
   ],
   "source": [
    "print(type(rho_max), type(u_max))"
   ]
  },
  {
   "cell_type": "markdown",
   "metadata": {},
   "source": [
    "If we try to use SymPy variables with NumPy arrays, Python is going to be very unhappy.  We can re-define them as floats and avoid that messy situation.   "
   ]
  },
  {
   "cell_type": "code",
   "execution_count": 24,
   "metadata": {},
   "outputs": [],
   "source": [
    "rho_max = 10.0\n",
    "u_max = 1.0"
   ]
  },
  {
   "cell_type": "code",
   "execution_count": 25,
   "metadata": {},
   "outputs": [],
   "source": [
    "def flux(rho, u_max, A, B):\n",
    "    \"\"\"\n",
    "    Computes the traffic flux for the better model.\n",
    "    \n",
    "    Parameters\n",
    "    ----------\n",
    "    rho : numpy.ndarray\n",
    "       Traffic density along the road as a 1D array of floats.\n",
    "    u_max : float\n",
    "        Maximum speed allowed on the road.\n",
    "    A : float\n",
    "        Scaling coefficient for rho.\n",
    "    B : float\n",
    "        Scaling coefficient for rho squared.\n",
    "    \n",
    "    Returns\n",
    "    -------\n",
    "    F : numpy.ndarray\n",
    "        The traffic flux along the road as a 1D array of floats.\n",
    "    \"\"\"\n",
    "    F = rho * u_max * (1.0 - A * rho - B * rho**2)\n",
    "    return F"
   ]
  },
  {
   "cell_type": "code",
   "execution_count": 26,
   "metadata": {},
   "outputs": [],
   "source": [
    "import numpy\n",
    "from matplotlib import pyplot\n",
    "%matplotlib inline"
   ]
  },
  {
   "cell_type": "code",
   "execution_count": 27,
   "metadata": {},
   "outputs": [],
   "source": [
    "# Set the font family and size to use for Matplotlib figures.\n",
    "pyplot.rcParams['font.family'] = 'serif'\n",
    "pyplot.rcParams['font.size'] = 16"
   ]
  },
  {
   "cell_type": "code",
   "execution_count": 49,
   "metadata": {},
   "outputs": [],
   "source": [
    "def rho_green_light(x, rho_light):\n",
    "    \"\"\"\n",
    "    Computes the \"green light\" initial condition.\n",
    "    It consists of a shock with a linear distribution behind it.\n",
    "    \n",
    "    Parameters\n",
    "    ----------\n",
    "    x : numpy.ndarray\n",
    "        Locations on the road as a 1D array of floats.\n",
    "    rho_light : float\n",
    "        Car density at the stoplight.\n",
    "    \n",
    "    Returns\n",
    "    -------\n",
    "    rho : numpy.ndarray\n",
    "        The initial car density along the road\n",
    "        as a 1D array of floats.\n",
    "    \"\"\"\n",
    "    rho = numpy.zeros_like(x)\n",
    "    mask = numpy.where(x < 2.0)\n",
    "    rho[mask] = rho_light * x[mask] / 2.0\n",
    "    return rho"
   ]
  },
  {
   "cell_type": "code",
   "execution_count": 50,
   "metadata": {},
   "outputs": [],
   "source": [
    "# Set parameters.\n",
    "nx = 81  # number of locations on the road\n",
    "L = 4.0  # length of the road\n",
    "dx = L / (nx - 1)  # distance between two consecutive locations\n",
    "nt = 30  # number of time steps to compute\n",
    "rho_light = 5.0  # car density at the traffic light.\n",
    "\n",
    "# Define the locations on the road.\n",
    "x = numpy.linspace(0.0, L, num=nx)\n",
    "\n",
    "# Compute the initial traffic density.\n",
    "rho0 = rho_green_light(x, rho_light)"
   ]
  },
  {
   "cell_type": "code",
   "execution_count": 102,
   "metadata": {},
   "outputs": [
    {
     "data": {
      "image/png": "[encoded data removed]",
      "text/plain": [
       "<Figure size 432x288 with 1 Axes>"
      ]
     },
     "metadata": {
      "needs_background": "light"
     },
     "output_type": "display_data"
    }
   ],
   "source": [
    "# Plot the initial car density on the road.\n",
    "fig = pyplot.figure(figsize=(6.0, 4.0))\n",
    "pyplot.xlabel(r'$x$')\n",
    "pyplot.ylabel(r'$\\rho$')\n",
    "pyplot.grid()\n",
    "line = pyplot.plot(x, rho0,\n",
    "                   color='C0', linestyle='-', linewidth=2, label=\"forward time/backward space\")[0]\n",
    "line2 = pyplot.plot(x, rho0,\n",
    "                   color='orange', linestyle='-', linewidth=2, label='cormack')[0]\n",
    "pyplot.xlim(0.0, L)\n",
    "pyplot.ylim(-0.5, 10.0)\n",
    "pyplot.legend()\n",
    "pyplot.tight_layout();"
   ]
  },
  {
   "cell_type": "code",
   "execution_count": 103,
   "metadata": {},
   "outputs": [],
   "source": [
    "def ftbs(rho0, nt, dt, dx, bc_value, *args):\n",
    "    \"\"\"\n",
    "    Computes the traffic density on the road \n",
    "    at a certain time given the initial traffic density.\n",
    "    \n",
    "    Parameters\n",
    "    ----------\n",
    "    rho0 : numpy.ndarray\n",
    "        The initial car density along the road\n",
    "        as a 1D array of floats.\n",
    "    nt : integer\n",
    "        The number of time steps to compute.\n",
    "    dt : float\n",
    "        The time-step size to integrate.\n",
    "    dx : float\n",
    "        The distance between two consecutive locations.\n",
    "    bc_value : float\n",
    "        The constant density at the first station.\n",
    "    args : list or tuple\n",
    "        Positional arguments to be passed to the flux function.\n",
    "    \n",
    "    Returns\n",
    "    -------\n",
    "    rho_hist : list of numpy.ndarray objects\n",
    "        The history of the car density along the road.\n",
    "    \"\"\"\n",
    "    rho_hist_cormack =[rho0.copy()]\n",
    "    rho_hist = [rho0.copy()]\n",
    "    rho_cormack = rho0.copy()\n",
    "    \n",
    "    rho = rho0.copy()\n",
    "    rho_star=rho.copy()\n",
    "    for n in range(nt):\n",
    "        # Compute the flux.\n",
    "        F = flux(rho, *args)\n",
    "        # Advance in time.\n",
    "        rho[1:] = rho[1:] - dt / dx * (F[1:] - F[:-1])\n",
    "        # Set the left boundary condition.\n",
    "        rho[0] = bc_value[0]\n",
    "        rho_hist.append(rho.copy())\n",
    "        #rho star\n",
    "        F = flux(rho_cormack, *args)\n",
    "        \n",
    "        rho_star[1:-1]=rho_cormack[1:-1]-dt/dx*(F[1:-1]-F[:-2])\n",
    "        # Advance in time.\n",
    "        F= flux(rho_star, *args)\n",
    "        rho_cormack[1:-1] = (rho_cormack[1:-1] + rho_star[1:-1] - dt / dx * (F[2:] - F[1:-1]))/2\n",
    "        # Set the left boundary condition.\n",
    "        rho_cormack[0] = bc_value[0]\n",
    "        rho_cormack[-1]= bc_value[1]\n",
    "        # Record the time-step solution.\n",
    "        rho_hist_cormack.append(rho_cormack.copy())\n",
    "    return rho_hist, rho_hist_cormack"
   ]
  },
  {
   "cell_type": "code",
   "execution_count": 104,
   "metadata": {},
   "outputs": [],
   "source": [
    "# Set time-step size based on CFL limit.\n",
    "sigma = 1.0\n",
    "dt = sigma * dx / u_max  # time-step size\n",
    "\n",
    "# Compute the traffic density at all time steps.\n",
    "rho_hist, rho_hist_cormack = ftbs(rho0, nt, dt, dx, [rho0[0],rho0[1]], u_max, A_val, B_val)"
   ]
  },
  {
   "cell_type": "markdown",
   "metadata": {},
   "source": [
    "Now that we have computed the history of the car density along the road, let's create an animation to visualize the results."
   ]
  },
  {
   "cell_type": "code",
   "execution_count": 105,
   "metadata": {},
   "outputs": [],
   "source": [
    "from matplotlib import animation\n",
    "from IPython.display import HTML"
   ]
  },
  {
   "cell_type": "code",
   "execution_count": 106,
   "metadata": {},
   "outputs": [],
   "source": [
    "def update_plot(n, rho_hist, rho_hist_cormack):\n",
    "    \"\"\"\n",
    "    Update the line y-data of the Matplotlib figure.\n",
    "    \n",
    "    Parameters\n",
    "    ----------\n",
    "    n : integer\n",
    "        The time-step index.\n",
    "    rho_hist : list of numpy.ndarray objects\n",
    "        The history of the numerical solution.\n",
    "    \"\"\"\n",
    "    fig.suptitle('Time step {:0>2}'.format(n))\n",
    "    line.set_ydata(rho_hist[n])\n",
    "    line2.set_ydata(rho_hist_cormack[n])"
   ]
  },
  {
   "cell_type": "code",
   "execution_count": 107,
   "metadata": {},
   "outputs": [
    {
     "data": {
      "text/html": [
       "<video width=\"432\" height=\"288\" controls autoplay loop>\n",
       "  <source type=\"video/mp4\" src=\"data:video/mp4;base64,AAAAHGZ0eXBNNFYgAAACAGlzb21pc28yYXZjMQAAAAhmcmVlAABhs21kYXQAAAKuBgX//6rcRem9\n",
       "5tlIt5Ys2CDZI+7veDI2NCAtIGNvcmUgMTUyIHIyODU0IGU5YTU5MDMgLSBILjI2NC9NUEVHLTQg\n",
       "QVZDIGNvZGVjIC0gQ29weWxlZnQgMjAwMy0yMDE3IC0gaHR0cDovL3d3dy52aWRlb2xhbi5vcmcv\n",
       "eDI2NC5odG1sIC0gb3B0aW9uczogY2FiYWM9MSByZWY9MyBkZWJsb2NrPTE6MDowIGFuYWx5c2U9\n",
       "MHgzOjB4MTEzIG1lPWhleCBzdWJtZT03IHBzeT0xIHBzeV9yZD0xLjAwOjAuMDAgbWl4ZWRfcmVm\n",
       "PTEgbWVfcmFuZ2U9MTYgY2hyb21hX21lPTEgdHJlbGxpcz0xIDh4OGRjdD0xIGNxbT0wIGRlYWR6\n",
       "b25lPTIxLDExIGZhc3RfcHNraXA9MSBjaHJvbWFfcXBfb2Zmc2V0PS0yIHRocmVhZHM9OSBsb29r\n",
       "YWhlYWRfdGhyZWFkcz0xIHNsaWNlZF90aHJlYWRzPTAgbnI9MCBkZWNpbWF0ZT0xIGludGVybGFj\n",
       "ZWQ9MCBibHVyYXlfY29tcGF0PTAgY29uc3RyYWluZWRfaW50cmE9MCBiZnJhbWVzPTMgYl9weXJh\n",
       "bWlkPTIgYl9hZGFwdD0xIGJfYmlhcz0wIGRpcmVjdD0xIHdlaWdodGI9MSBvcGVuX2dvcD0wIHdl\n",
       "aWdodHA9MiBrZXlpbnQ9MjUwIGtleWludF9taW49MTAgc2NlbmVjdXQ9NDAgaW50cmFfcmVmcmVz\n",
       "aD0wIHJjX2xvb2thaGVhZD00MCByYz1jcmYgbWJ0cmVlPTEgY3JmPTIzLjAgcWNvbXA9MC42MCBx\n",
       "cG1pbj0wIHFwbWF4PTY5IHFwc3RlcD00IGlwX3JhdGlvPTEuNDAgYXE9MToxLjAwAIAAAB4zZYiE\n",
       "AD///vdonwKbWkN6gOSVxSXbT4H/rBB7f57jFEA1ZjNHoQ/rFYZo7KjSHtk4thOx/V9USJroc6+w\n",
       "5gY4atR5Gx6R/KdxYWjvZiC2BuB41OC5kKgoCdtbm8lcKXx0LUEmmLqgjRrvmc+p35q3SrbSkyrr\n",
       "+QwSgmkAor2Pa84DyS5Dw57C8uQ60wC9spl1hqpw+Ys5+GAZc/q20TcNjQHGnBOgSJHL3KUBC1Qz\n",
       "x2BzLRY/DGbB91dUH/E2TnqgrBtKSKcjFiKGf2iN+wUaBLNmDRfXADf+I0vGbfllqVF8dQdhmdTb\n",
       "Svk194QLsV1wp5qvo8I3NwdLMGYWOu2uEVfpxQli6yf/HpKwZC34xqcVMFa5/J0G49Z0Yf9wL57A\n",
       "Ib92MH50hi/Dw3q9aKXMGFIG1mkDpm4tvaZwr6/DdqNMT7ej9wN/H8NUfFcyHFNrQaaVmIc//er4\n",
       "nCVrOxfndw03iTe6d745lyDSFhz9ez2YBpoT9nkVY1lyy5m+wav4HysYaNilQkam8CYswQqWCQMY\n",
       "YzzMnjhnsZ+uwF/J6iDJMkUzUddkxpxf4566Tv+jxVIKsRik6mq6mn4KDn9R2pMEV5WyVTNXOh0J\n",
       "yXSZPrYR+XidAp7G+dlkmV3dxE9Fdmi+ALg071nHn23vx9U5N/9Czrq/94PdoKJ3q5yWlkgdCJsA\n",
       "EcXYTiZc5SfJaHPe2QCt0V1ByMee9fTxZw06yf/OARxXIPtUmtI8QEIh00IdG2CLNwEEzHq9MJ8E\n",
       "Mj5myAEOC8eat6CuAvqWX+qSf5f+35AFpl89I1xAtR8Rq1c7ZMM3rUuZWDQgwVHiXGP1/u9A8ydu\n",
       "/faTB//Wh5HesEwbvB8pwDmBkozkVSyB/cMRKU2fwEX1EcR9eFXxlmsV7/ZEeZQGEF+MWqEFYBC3\n",
       "VyLDB30QGLfJ8uVzNqF4BT6VG7MLP9j8kllHmdqlbHwN9HZq7FsmBKteB+289YhAXPQ4jaiQw4aF\n",
       "hJ6SfPUCAarGHyxZ73f+v41hJ1yCC39XWAPvBcha7rnItglQBOfvZVF7LVpFhgJefivSfNosCuYK\n",
       "JV872HsrYsa0ZVz+a8nSlKFsqQjnCn7Lsy4D++wzgn4rRy+Fy5di0JoA3sqzgf8oabOoBeZzf+FA\n",
       "PLEZYW4B45Mh1iPwfYM8wRBBQMQtYFmgYzEXKIboCQLmj/09XQgcf10ZKuCrDUIKgvmBXl4BnSGu\n",
       "cwwTPBZvk4ZnE1THEWHVPmf4/b7h7eIEt30iBzyOSVWw58b1T8+Fbcjeilxx391iwizP7a7qNEn2\n",
       "la3fwvv87b+BZbIrXQueChbbETjG183hgu0XJlQIwx2oqRE/43Iy18U9pQGRtX9Os1f31SZVtopd\n",
       "nHzgzYgki7bg5Irn7ebMxDzuCw61a+n4PcuLsUcHNFj8W1XXPqBY8JdduxMtGddVecJZF83/eHuA\n",
       "mvPccoUv10xfce/gHHtTbfdK3T44tgd6j3vefAufIDyFTcH6x6vMsar4EU1s3B7PaQWdWLHvrr71\n",
       "b8qHqJe+YNOSvOKRnYcYb2l60l9RvSye3PfW9eO9epT104DiBr2XFwGGdsfBA6LIfAVlETHuICwe\n",
       "SEZ0Jzv6/zP/+d/Im2nk0wRVcCfjJ2dNsk4rcsmekqo88TH73geS3iFI39FP0V+l1HhsdKZT8RrC\n",
       "oLrEzdmXaiBM9VoBD/U/+MTPFi19TX40Wxr4GamqgUK7CzaOCs2hzMSl/42fVpiUtNwi6fUEB/gv\n",
       "r5DRpA2BfOVyuHmKDJ7uOT9Wc0bpcPHcLSW5TluUiTcdpj0UJMU2WdD6lpdgX4zWVMj1jEOd75Nc\n",
       "qcAWdCTxYiXMEJ4u94OXZHi7e+WaG9uzHYE0e/ZwXZXJop7Es8ktfwu+HnWPKUDpiMbNRdwy9Yd1\n",
       "5/miKtV6lCf2JwBzTwx+oJMyMTPFXLysRCTM00hkHf5Zz+Sgwi5tIQmY3ssBtq+6x+XeuPX03JsX\n",
       "EcJjcQpnS/6WGZ2uCndsv8p/GMh3O9VLOfi83MKHfrJqp0HSY9PNufMFO3kIXk+nQKXARt2PQIrg\n",
       "9Vif3g8SrrcHgTwDOr9GYN613ceV8hGP2fRleHLXBPQNYIhp+JzGUFocDpwtuVmrXXghsi86BCFW\n",
       "I4m2J/FVPqRzZ9+dmil9IFMsHHeVOtjnPgX2KsnMg4RMRIqRQZ0TWSUXvsZ7QxRrOiciOPqqW1K7\n",
       "acwyZ7MN0x0IiYMXEnkp4uri2dvPdDojQh7/gSyjrDSJnkGevoZkDujdUrVAgxT9iuBqkuBD3mec\n",
       "cqTq7WYRQQjTeSDUqOUKGZ7qQGk8UFbk86u4yL1JJqMGjYILRQdYAvZfiHiT4X7fWrv6j4sN86cH\n",
       "K1utJzDDJSHowaT1B9cq54VVPh5eibsezfdzUz4knxDtua4yNjg8gqWCAJYSjWlOzX6d2OBPffst\n",
       "ShJtfeofTd9S5HO+YUPtPvAl6dmnNieuPKHT7MQO0eHJrhm3jWnpTNSUcJ/fAUnTAyqe1jcxoJtw\n",
       "qWp0/mTXNB3sYdkHXBfWbnD4PPK3itD5SOExxWWozj/T7hE1Vt5o/kyLvTUnK282+9B0+Z4ybxx/\n",
       "/4KOwkv7/uuObyAnXaVfPU6ORKzoKzCqq8Idize7z61Ayl3O1TqJNwXt8alvQzXVJ+kRNiBRzm0O\n",
       "q3PrjX4mX4TyAOx88M3CqydPtWOX7ZxCPwNzNjfd4zWBZavGCftyFPKwszvLt6JDPB2LVfiqF08G\n",
       "kr+FBcdKt93KQWza5os+2+WuRlXn/840RsuallEd9wAX+Uk1FcvfuapLbx2Te1+yL7mpBEfVYHi2\n",
       "Qvy2EWVuaogzdmCpBbqEzFGLdvbOa0I9Jpdak/vvAKywV/1bM8mcwmOh7QJEmA9VE+F+/59AMoxr\n",
       "lIe+g1EJ9H8EohF2eVVs2KUQRp31BJC3efsegmaZcNVXipfYpt2Gca0LkIUX530JCmvW4CH6TVqO\n",
       "A3jxoPAl/miLMOOFHeRyexvHfCmTzBA5ADJy0AuEpkFtlsT5hlXSQ3q7vYArvtB6nMLOrWXtNeay\n",
       "ZFj+a2Vzc3+Pz6eP9z/1zyHaXsr32EqNafKgmz/dnGgj8WStmO6PnlEGNC2rw5bPg5yTlesBgbMB\n",
       "oVIqFONSIfOXJfzeHC/b+uRiNX/t+UXHs0Dzao+W37tnVuO/vbUZMW1F6fwsrWv8q6PWfeLcvcTC\n",
       "gH2pMJt/wZVznbAnXVWrdUV+3TJfw0WnWFnUzg1A5R6PjwxoM7xpiPOddIlfl41oI4ZubzSGkxc+\n",
       "YfliJzqFUT0bLBCmW90Xrqarkg9FHwlW21oI0qZv1TI0MNjnHXvP6PYw8pOfBF/QrOd8IMPQ4Gzj\n",
       "+QCwWzA94P6v+xMNDGUNs8qGgjO5WMlkXU78PCkCtEo04IBr/kHwAwKjXvaXXB97RmQoGet8OnZE\n",
       "G9iNz6nryitj6PCnaLEQRnDgb87iRqGbGPnT3cJcyKBk3A0/5CpTZavnk/drNtbT7fcq6moVd5JK\n",
       "8p2EaQiAo23lEfiUQJY6RIbDqAhIMdp9bMF0HwrwaVhbf5uITpTgBImvS7Onk0I/g/dVjf2LIgqb\n",
       "tG62pCnxrKl8w1hK/tVvDkgt93hbfhlJEfTTtvDKGjnSIcyPu3RVAAuTqo6djEdevyrhsPTeEw0k\n",
       "pMl6ZSyIPR81RpM1A9gURv6EXycE8YqiE8s/8VqmRLdPt7ANJJrCbtZ/pO8V5pvcSEiyPU1onj6y\n",
       "wyw+ca7NVFd//1eZsl2rL3O7cbKLW7Qff2bRUjBEO8SnG77k+XCvuKnOFAdVrLQhParvGoHmT/7h\n",
       "cTRHr5/LLkV8EIPWyS0cy+XAjnH/wfu8x4x7cxCO+9fYo9sRGnKg7O9ZaAZg9sbr7H+oc7W8/QpV\n",
       "9N1rr3joyMlWnU9evS25PEkkdBlKdx0cHSprm9jtvMvEXSoYaDvJBNLIW/6EbVmBuGkioxkupE7v\n",
       "3TJAbjoVJHT4EEBEIcEEx99+BwghE3dQxYUjheVcluCkKd3qufRa4reAbHFbh8HI93A4gatc5ras\n",
       "F90sIr+/yU8AkkQxCt34/yu23bNvd3azRJMLw91VKGTS+0LUdMS4o1L5WwCh7RraX//xo8PDCYqP\n",
       "Q5neeZFxQE7FGV65pFX+wATpP51y4rQZoMFVoeaMmiga3WEejQR7UGZU3JjDP6vB/X//sFi1AE/d\n",
       "DLVmC/9mAeBjVXtY3AFawsSNz0eeu4xcKCoHV8eHRA//MszsF+OWEvt1C3HumrfXrH4/8ywh4wAc\n",
       "FruhleV0otFP1Ky34dUmQSCmmxwMaELk1yIPjFy6eYlUzXe/2EQChwWCJ/5pRqFQ1qAS4latytQY\n",
       "UM/ZIONfFohEC4MzWAz83tKou+/jRpNEc5vpMfDgwp6g9Ug6ln75uV5NAVWTbKFk29JLPnf0Bxvj\n",
       "fsB3hMM1VqRYPkb3xZfptNliKBHqZm1LQFdpSJJoVwmsHTL7eqpV4TqfX1pYubVG/CZPm5X6RHg4\n",
       "bTyf3j15M7R1JtZY/Ek8l6nz7vd8thXbvX9asxvIBScIsdsvVHLn1gvBqNhxQMUK9dvZIirilUOQ\n",
       "6775EAajAUIub4hh3//9rXBeGZ1g68KO8MBHQHwRGzG1KqNUjZ+uUjMyDZzB6zwGR6pnJbtTahme\n",
       "P8nYGszuTA0nJ+0kvnh255oojsmsZCuf/6nTEyKcxtvdv4B6C1Rbb7M6aH/CWH499nh4ocdTQ+/I\n",
       "9Gs4HCqmDVidTYJRpYWi9rU49OQvDtuJ1JebE4TjYP5TWdEj4o7zM56Yv/3eO4z3hcheJJqUoC10\n",
       "lu8OuNfhbujedODrzQS7u4qyqL1Ae0tpadsl3Fj204bXtJgCxHpFj8EbYZ0fGQffmAM9rGjq1MdL\n",
       "88mLtCfnnR268WX/JGom8DH8Yqzz67cMWbg9fBtr+9EzjpT8sUqQ5dTICFMw8sVpl55U/LoRkiMy\n",
       "KV1ebPq4gWbmoP5gWlLKnN7Q3HvmYjRWeOS4VUcIQMGpxz12eldV1ChbeJVg9Pl8zsRQpuDY0Uvk\n",
       "CJbe50S4r7jXZ8v8ELdtHDQ+QxINL+NjrF9GJiFhC2aiPXD3M1+lj7/6MNC5VU+yrtUVdskzKXJP\n",
       "Nd1oymthzXiQB5lgLo3mdUcDcIs2AY8jsK1j+YYT6rMDBZWpDh8gZ/Cefef9s715+bbFiRmgC6cP\n",
       "ElrdZCg4n47pxuxMa6qw2aRca5PXOqas3RulWQ4M8upgYjAtMRnUdq6vAa5Dry1iXUPPpYZAynhE\n",
       "dgvPYoyPmKt3cCfzD6A4EKX8DWMjarYDEyZM5IGYEPcfhIRNh1N7kFkP4DT0R/MOPIABuLwjNYIQ\n",
       "sKDFadNSNffutQvKf1zxU/8yfV4nX9/A29KI/YDMGZuGFPdztIbrIaskQjYEQFkj685AvRg/I5Ly\n",
       "Di5qf10VIYYSm//Pe2znRSrTtWXxKe40dfEDzPhpalQCZx3//GVUV94W2E1p7pGLbGP/yZ05aohb\n",
       "hi5ud/0noJEycEOs46SdHU1O+5tX1xtxkKFJEbZXd72SGB5GFySoumireZT8+l3YTVlxWcK4B9vH\n",
       "ig22/NOVgDdPLJHmg/HSLHAt7K/K3ULxeBmThXubAEbF2ywQ2ldSyuD1RHR/B+fq1i6w84f97byV\n",
       "pAZvLwrFzoRbJcXum0xEvwJE/S+tNBPXUJ+/s0xZf5A6SqjEfqL8xvrBxbokbb4sGYILyHXnAiJw\n",
       "nSOepBPdPbSVmgrzzn+wZpcpZm79fU2zqHG6DlFkr4ApT3H9J5qvhg6Rvhqk4jzH5V7sBJNbO5KI\n",
       "rAs46nDs+IQrk+z/eMNIRjyNZ4ToYiHUZjXSaYMU4n/0VGIWcJ8/j7dby8D88D/MJzf04M/RLv5v\n",
       "AlZ/sRvz+RUaBrtp7i+2GAiGAKPwA+0w5OYqqk+G72m2kSoGdtsh5/OhXf7Z/+SEAr9nA6GxLo4m\n",
       "/bWCYZM6ENyu/bNx9X8XdLJ1U883lWsmJfooCEWDCIGI5EL3AoTSexYK+wlFZ3quFaCT7Efo52W4\n",
       "EMttufunV8YUJcyq4Gu83UbOtJS5viqxwm5fmRbIM+iLy+wwE7hXOBQnc3N/KP/VF+01keVcHBmg\n",
       "Ym5/xEOW1LhyYkrhLL0RP/F6Fe2w+BkAam3RfDnK6GfUf/gurS3aJAwpcPpvQUa4TRn09P2A5MCS\n",
       "6Bkgfblw5xOof++hM7iJ6CenIdaMWiHl4TlvSvlgo23OCILPtVrJy9XuyQr2R10N55jfuTedDvai\n",
       "cc4+LCO9APzjMUt13zYHm7iwgMvUelb2PkBM7hTHmPeUEyuvRl3qMhYQDPVfww28bhVxz+j3Ds3s\n",
       "3DtfDaua1smFcqkc/8ef7aTqAN9DWCrH69DvVZk5h0lZkXfVXfiPBS8p5wjura9v3firqw0Q5ucy\n",
       "lzHv//b5KKFKJTaIfjHMRlOe688ecYXxEN/VY/TkNzL1Zi584UD8Sb3bFn2GNh0hZBfLhzUdbAK4\n",
       "ACdFNj5KwalS/vBnQxlmyOr1NKZbRe05Qk/FEv3i2zW9nvBhxRBsbJy2w49NM+bOnS6zcm2/PTDE\n",
       "E2tnJuqq8E2p1124EQLty3BSnEWfEEZoarMbl0SQYWvcTBJnI0PXepZ7w4jEbdhe4Q7ZbtHrDvfP\n",
       "oHjlFljMy6YHOYqucwegnz6u4PkpEVUqzfrev0Oo81efWTXBjb6391/IwdZfh5VD0e87aA/0w3Bz\n",
       "mMx5LaTBv32ZOgEUH7x4BTp6TmtDP4F//t003Xc8je+3ZfEtAkZi04bvsj89vYWvvc5ufMt7ntti\n",
       "eiP7N43swX0N/vGeiEqAZvI7fueNbi9/8xeRarp8FT4wZ6PMTXPGOX+F6FF3xINApZKobZD1WeA/\n",
       "5DrTyZBfOabtQ2c65Tq1qx1odcgBZaThvjNiNIH/7TOkI0y1fQWf7ynK20bBzjUqVVpQ51wG1k7D\n",
       "54J44hWidGkrLsLqrJyf/4FkAgmKh6Yjegb/Ot8VgCueLVfU6QXV7o9vojia0faaFGHIpznnAows\n",
       "CFCaCSjHzreeZ0dmDgue6LwVx3GlHgLEhg9ZXVZf5U/OZc5ZiBvbdF7bVCXeCz4JRzh2OPVMCVMq\n",
       "C+JAyLIFSH6wpqd7BdG88c5zwBsDR/KJ7CNonUsq2DXMDBW+CZuZn349bYHmGSGzn+YhP6ZFp87Q\n",
       "8Grf/4z1m8McScrmojWn6dLAucaaC6K72FYZlUcGXDo3GMAVZBXhbDojNbi+JOJ86tE06uzRIV3r\n",
       "vvjXWStVdXANVypfxrvWqI9Fe84o30kkgbCzUb4bggYs0Azc3KpnB0Srkr3cm6yoHOjQOCM3C8uI\n",
       "AtnzeKcLbqZpe9o7ZjJf5C1UnuFhznMeHRiWfk4szg2ULDnJg6yOSaHVjUJqE32gaSWUw0ARSOph\n",
       "2gvyWnDrWMKLC6LQVYhDuAGj70boFdGEKK4zSzt6wtn4U5pbzQoMMNeY2QaX7wn6f7sks3x0Bofs\n",
       "EukZiaHk4GkczcYLG8ojxmkoWUODrdyoyjsu5gp9+A/MekPhKlYJAnX3vQ8VGQoM92mN6vMdKNqW\n",
       "mu6yThNTKnF90G/YgVdgDn4oLhz1U2q2aDetivUScbp5c3MDEe+45p09jBg5gf46w2Ezzdz8DLOE\n",
       "fWMJg/8RzKB6yD27WmcKBoqTlDKqxuggKLcUw7jKi9jfTke+aHVu3JVMh4FPXbUKFz5TAGJU3ZVz\n",
       "vNrX46mFvMnzFxVZEcxTy/DkjCtR5VnLIKuNx19YgL89y9lMKiDPvyVz/8bGGvSxtM/8zqeCsd+Y\n",
       "FPakm5P606c+sDRRNObyG8wKrlj4g4iFDC0KIU7XwxfWAjb1z1cw/HH9gSfwvmyf2EyjHQOUjQDD\n",
       "lcLzC5ryASBC2WgniC7lkzI1IHCSrO8EFxhlaDC5Pw9cqe7ror3c6Xn7QGhDDwY4Mv8On/OizAv4\n",
       "G6fJgjSDDtKnqcmBEUbjSYgInbJr9Y/Fof/fW09jdF9dzbDhLO4z+1rIYbog0y0DV00Nwl9ZHi+X\n",
       "I5h7qHyZaIcZG9o6xjpwKCT2+L+6RNGXvdEy0wPYe5vxudLRB5pbpFWOMpk4BoRgAFnoX9p5MQVF\n",
       "Td57PUYZdWCb4zoEfeax0G4jPF4vCSLKrT91FhEnRLB9ScKmr6x+1ZtlB5WOsOnCgcCAqaHhkZkB\n",
       "68T/GwDIws9eSlOI1c91PiebGKOPidSlita7bJ/LuRYj/70oAJDAND+rZtiSbYbGaTyBKsODJaf1\n",
       "B3ix8svQbriLpwLpSt1Q2bn9188vXknFi/FJW4YicDd612qCtqBZqfkaxMt8Us+c7LXLhOquN6Uh\n",
       "P80C2gJ3ykoPthuvMn7lP4BR4/cbzlirAK/q3x//9TyLLLJjpk6xZseGhmcGmSFMQhXu4FGVMzk+\n",
       "NEgYEwJLz81ueNfRkZo82r4nX////oVplF4whtHmXXQsd98nTob5lEgHKYHXKjjPpPT/i2tdm019\n",
       "G2eGkVo7G8h53svvDeMPrOGjSOhanrlxh9/jQBx9zMicyzgJoqkAq+veGU7pvGe+0rx6wqX6OoRO\n",
       "lM+uxRluIuLXwD3hKHdDv+H4y/hnYVvKA4PAOdB04xSLUhpSsoRyeCx2FVzEbo6wqwlJab0mO/Nz\n",
       "K1dL7pSrKhMFlc5bZb6bszc/ptU6z7acqs5CVOFMjU7YOCfFjPLs8bnGQ1c9bKCUz/VJv3eNJ27A\n",
       "sPx0+jiZHkdewwAFXwa/q4nN0sIe1MWPxKaBe7+XjBy/wEwcM2orqXE5SglCKzj+pj2P0XCeDWiC\n",
       "crZZGB0O8tg8pbIfNBNsZYxA6FZ+Cgq0o9+0yV7g7uCex/4aOfi5+kmQSPykHpVMBPYGucyDt6Kt\n",
       "7NLESFmDDaq1ex0Xdbm75NIFif58FYYhTqDIytr4k4MkY+hT5XWQcUwWb/ips43AWbzb/OlXDf4h\n",
       "VooLlmV8fWPtaEW6fqDqmOhxCfogImfe2zaeEj/RKLZgDT5oi3Lgom2QMVeo9paR1//ils54+8hI\n",
       "U+/h8NpdwDPArmOVHNM8LaVvf7aSjx/pVcbB27FONI/lWpa1DDLtUSVyIOJmBd4HNiUUr6c8fskI\n",
       "eSIh86LgTPHEJlhOJMhVVQTv9rwdaO4rZwBQjGVVQKV/MIciU7ijiehqRWmtQHwF3KJKw1LB1rOB\n",
       "ncoi2IXn1MYn+XuX3p0pOALhjEoHIVovazAIEURkEWK/MGoleZwCaMPesHhJQ4ArDE5NqBXr6dkv\n",
       "u9MBA1dPQGyQDpHTGjnU+iFbBzS/KLS7xqP+gALDCbOE6qqIGnOeQLQcXEvIeQcXwygS/LIhdJ4N\n",
       "gl+WktT1kwnBoHFu148W5wamfnSM6ANz4tbN0y6UqqlqKNRuFlfvopH5TDC2UL+M5QBjMRS0qjHU\n",
       "kQ5CpyuY6HkuYCWpK1DOSDKkjRdyhKX+u6ByP4ukCstWV4mlTjl2T9YIfMnrOyE/tf9jTK3M7tuj\n",
       "6J4NkRAhuQRTmksWVY+0sijIP5UBeuhq6SbKmG1VmfYn5PfIRc6dx5H5+sQjAFfAhUa2QeXRKe+T\n",
       "7XErzZg367qI9j0X+gO2icIUCxw2xi0vZM4YfBqhZcj2SIKQTRi9FJtigT5yWJ/59twi52y920c3\n",
       "BXWPgXIGzPeWN1anyG0EYj8OK408LdNBZUCCTTRIQ+uYkTnDPoZWVyQMl2SDJwfFMH9jKQzeNm6e\n",
       "gfS7txwjV9ayGJ1HSpSWNycepzu4qNH3/8Mdb4RQ9490atnha1iOWePW5jgZX1BTJnDRgo4MpB3M\n",
       "6jx+0s8gBI2OmcsVksYAcSYeoxLIvb48mLKO4yNeVkVDIcxTG0v9Kj6frADU91Zrx/f/6VQBAE26\n",
       "MKwdbkVmlzhPoqjHRB54GkQOPhcygQWI8oqw/IYEHFUOYa8H6K0H5JedRCF7EPO7BeMCuj9spukx\n",
       "verI6LFS+OSurwGI6v7NB0LEuz7fR86ovd9IHCBCeXi45onPhDqWTG5ijdBfnEPRqDXk69lcDv/y\n",
       "4Py+ZDjdxeS/FPs5+OdyRZjoUjfbPRVfElDQCN5UnrU8fRMuZ4grvlEU4Gus7IhJ/EwKRZdX4rOs\n",
       "IujlfeU7Z+OISmGO3Mt/HMV17NQ9KJpLL5oGulGko2ooKhN9pCsTcx6X8I3bz6r95KG1H1gLfIJt\n",
       "9EuMJoXaGSV5DGyPz7XU7OznghpC5QBQfWuBSYQxI4ACsG+Y2LUi8n22qUpMMcKMqUPwJKFHlp07\n",
       "7DOiDi4cPs8N4o47yM48mn7vKK98EXLOdMD5yGOC+15505D6e8nXqPM+rNNHVJKPJWVLgAEl7nbe\n",
       "5uUffrrOyW56vbn/6c69sibKDncPGILZcA8u1SrSAG6NAAADSUGaIWxD//6pnEX3pVgAtl5V1uvg\n",
       "lzJrW3yLPWmz+1T84j8/MWkkurQGu7o8q31gYlQt3oO+WyASw2WzWUvZz7l4mMycWAT4AigHDFf0\n",
       "YV5FEH1IGX8C6zbd0bjFkpZ2nwBf72dWJ9P7GHzmtEtfGAC/cUdsj09LOMxZgEvG2vvYMx4KDt1+\n",
       "+vazMgnxyCM5MygY1jJPpW+xpt8FmMLeIts6In1DRbODiqvZeeIazrQ7DVLLyXoElxwcf2DxM1u6\n",
       "TRDpTJoeazR/8XIN3GKoYk6U5P7g2ZjPRpGYO9ERxh/kh3PLco+jutSgZnyJgzqp4BKOplIpDHhb\n",
       "B2MNGNLtFiRZmTx9ol8vg7aicgwHkay5qryto4yBIXXosOJT22iyXp7Da3wC2alN5tVC6SbrkDUl\n",
       "NFsLfYS3sa3tMX2Hmz3SOQ7ecvm6ntzAHrX6J9X9qp/8pp8Fw94iIg+QudHoi7w6pWk1ekFbzpk4\n",
       "z+UwdeNi7gPxYEWgngG5vNJJomnX8/JSBuqtMGBmXqooX+2YMV0TLw9/mz429gNLPwmTTa08y9YB\n",
       "7AFmFHi/PFUA7PFqB/Z05YKtHcEC8XJHSCDzKkQiNW9GiCxtiXeh/PfxMc3arXmxYm6thIjQ9xSs\n",
       "/Mg7I5u8YSSwZPCswhHe95hkHoL9C1OaYhABUfzMw8hHVoAJA2pQkkG1gnnq+sT44PcPopID02+V\n",
       "FNjHREwXk9c4+T16vvz/nxnyba+8jYTefBNWLWaBQ2gZWOFaybPfJBStF8rnAXqMwN569+TQGUnQ\n",
       "0flmKmnzXiGDHCCIB8HOT5Acq0HeIYejXMzGkhihayfew9BW9FSyIIvdJEVupznDNXzA7DBIcvwX\n",
       "L06LJD7BnZfnkygGNcTnvAU+CNfkhBeNexSVsf4iaCbwgZQni7uB1LjKZdmdXSPbl/9C9eTcdYvQ\n",
       "010ZcpUt1VNSqHMhPZWh/y5ddpCJ8Y68fVmsjq94J9R2sUCimlmAvTDNwuYqqyCaFuUUzPUJfSpr\n",
       "PBf2JkLlizle5gAPgW14GVaJBAFIHpU3luTjY3/Rf5sz2WtMwr/lsNHZKXDnj6RyE+W0M0TbAW12\n",
       "OaCmqhgpkCpq3nyAVawynLcwN2IeOoAAAAJMQZpCPCGTKYQ///6pnG6IsAFvSnX4+rFG9IREhCFe\n",
       "Q7yqzOV1rOPl0Wh9DA5E1mru2O+vhsoPETo2T9vAxDJL0sWkMDHpmHlK4UNE6APbjlqzeLElIoNH\n",
       "q5yWvfPYZDY6jI18De/J+SZxUK3XRgArv/o73Vrx2ISQR+jHKEiZ/mrmU0uVJejpvs8QS/VvoQIP\n",
       "e1GRBWymyJ9lMc6umFfS1v2zLHQlaN2e4z16q2uVNvT2Jg29PuorJE0cm8z4BazGVb3lVtijLspt\n",
       "p9eq7OqvsbF55LUrfKBbFX5A0Bd4d4m4GiLKFUcjv4KlEEg9Z1QhKdXyD2q8uhFnifWVlYTp2YNs\n",
       "7L+PMAcW3zUqesNTlc4eeTA03epXbzTtQ6aonPYg7GPGsk14Bn8npOTST6tDCsSAN1vGNv/1zDb1\n",
       "r62OfjwqzDfiClKnowpo1eFkqiJu2kpHLWTS6kn/qpJQjhQM2zIIlLito2uTRVvICUbOLqHhyWBf\n",
       "GAtYxtV9/ymMyflTGmaBLO1AQFoNDze6FQzNoQx6ZhXfhRCLVoks6uITp0yWbU7VdswMcruWXvEc\n",
       "6zQukSRP6uMkukPF+mwFGNcECgFgsddwZXDf3u3RP441LRaD3/0cxIY7ftBly6qgT8FTYZZgXL+6\n",
       "mDX427ED0ZFaDEbik07bQuNqphIkrTcWu/l1maDKVpPPE+LxbKFGpGy0PFJykUoqyobyAVIWNyk6\n",
       "mBZVjKnm6TfcvadGF64VpEozmKFQiAnN4X9N+3lZ8+x9p+TdA7bfV+gDtgAZAAAB4kGaY0nhDyZT\n",
       "Agh//qpXhQzAANqqAokf29OdF2k3QvjOTHaBGN5JbN6dXCuIR+PE02yvfvIan96qsNdcz/LN2Jf/\n",
       "M2eacQQiFYr5tjijkBMsY5WX92Imn8V1mvHh18fV/FdgQWj8Xkze2YF1jgrq/jeqkAKvJVd58xxn\n",
       "Bw9I/QycIOc9oQmE3fm6YeMswh7fETjxRpxsv6hKuYLvkzMJX+WogfHMfZotSbqtjY+fc45pd33k\n",
       "eSlhiJdCwK9RZDIHwmqVtiRd7armfu77QRR8ckTB/Sv/xACJU2tR2cSnRlia1pRDrVaA8zUKcvw8\n",
       "saOd959p+yH+N0EEsEBfenbuHNvndaCKBTBW03dSCprNHV6lLngZmhacpEWhyBUPGZO5rZffvSc5\n",
       "DK5dLEUGugZ1+FVkcWevRl25trTTg9KR1nYRVYk8x1E1DytlEVJYfmBP2lL9opYqrB/I+o0vpJjh\n",
       "CctojkPBFJQWD2KKUoh2FuVJZAt3tstklOjbZtBowgkIVJadcGhm35Pi7vU9s8VzRNHctH3vtqVl\n",
       "iaBKUizSo8wYD44vGOPnkzmKXdh0Y7tCDNz8c4acZEwql1BNKP77mB14J1AY4WxDkhryknJb73Qx\n",
       "GBAjJMFrEaOxCbnnwI3A0hpAAAAC0kGahUnhDyZTBRE8P//+qZxb7GADapUw5aPmJab0hSWv1Cic\n",
       "H7tZWRx1C5GHgzuCkdOoma9BX/LSv2TvwWETnQqgOzD81pa1apvJYdersZpV0jijWA9JoxjPux4g\n",
       "JJGZU877Zy0kajOJL4Nz6SCEj6LQhIB501RXxDN3Alu/HuAH2ogrZsL4QOZ6xLn+W121C+w+lxoK\n",
       "YdJsC3wAUG4TinbjIyX+hAyqKCB8FVBXk+ksE6fSwvrCk4fsxXaSi9cRHN6KaB3sxuv/zlmxjv1w\n",
       "+AyrX8Dpd2OmWBN5Y2F8sTvCosS4A4xD8VCS9NzgSTK02frYdX2LJ7VQAjjYhLpc5smXJg7i11F1\n",
       "M07a33hJPRo6/VjRRT8E6tmWqx3Xjsa3rR5ISv7033skX/k7r+6UZ3kydkQ2HPV5C/ONgtzoL/gQ\n",
       "zlJGMh7DNkczEfwP57+WCWsr08/h3bq4vwJmZBVSfy/lmp5gGvfKgrn2uRwlWtY2WVXzNy6RrA/e\n",
       "TwXl6Ghw0pY6LrHTPHzPP8MhPuWvfWjswSWJ1pXM9+YHDf7H8zieavEFyUb007Lz0tTFJl1silez\n",
       "COndbfT7/tuZGcnQJXOkNug+//E2UBjpDIozWwRQV+FoVzD/4IiB+/6WR897YM/nrh7yde3Yc/F+\n",
       "0gC0Om3oVRSAKOXiZwUuRlG1bU+pG89kaG+uu8CytcabOB+gfAjRaFT92kDCo19e6JfpA0ELMqkE\n",
       "IAA8y7aP1s1T60JMROnPR9DPQaQLmhhTApTxQ1jeFQPT74pZn1+IQiXFAfu9/ZsQTK/fFfJVaca1\n",
       "hqvTPV3Z+6d+Ipll8luMRMk0CV+ItABcJginGNMETbWNOUc6PIxdUjZDUJiIKdxZaChks1scCGIh\n",
       "XPVAQbN+5dKy5YT3fpS6DbbDbd6cp8yEWjMZGW8sN2UjdtHpkqcDCO1SydOMcAAACS69Zg1iKILR\n",
       "bXmBAAABNgGepGpDfwdx0QAhT0F5PypFJvceiWwIt23fPvzlaDxPD2pxGXXW58kb/6BkhtuZctpO\n",
       "p+oWjfCQss5afr71YXW+KEdKydvtpShxEdSzDgoWFbcLURPOAO3J1Veh6JrCbroJs3LxmKmzU9tf\n",
       "cThNeguQnqexoqFxFtatPh/V2f6GISwnbddRpQ8sHxon6jwuOHSHfTIvxkyjvHn/iLKEKTtOdH1L\n",
       "EYWk22cQ28q2dU3YjCQp4ImhuI490Er/GHL+Pwj2SwcYiJ/3m3+lJuNmjrQH8bljib+wU1jId3KW\n",
       "ygzBAQRaF42xSIeh/6y8drz3MNbk6Sun+1O9sIXOPxvOOGpZLrE7a6XMtvLyZ2ttoYvtohLHx2gv\n",
       "22Yj60rHftA8tT7+6gQ7mDaGk8ZX6EJdL5GZrglBQ8EAAAJEQZqmSeEPJlMCCH/+qleFDMAAvrfy\n",
       "U7iJgvHSox605vAnNvMldE3seoW2sFBIWTQ4DAYEBYMG8K2fd5C80zYxE5lBsPEGUeEe1upWrfyj\n",
       "cBTd3t6kqZMtRAq4M3y7CZGPzLQZQciRFFx5CxSifXaexoIwhREFBTTDt81rYZdDuhgXsrr4zL1B\n",
       "2M//+F7CjvvnY36KpNWMQqDip5Dx8vvATClTIkXCNpFbhL+jjhrjfH44n/FF8ojfi7Le7IEpNJfG\n",
       "bj5rXe86SiPSeacJci+cEEjkDkoNH4PD9CJwaI/EltIyclWVp+JfxZaUDrnmd+fJriqVRvI6FmMK\n",
       "+xJxClJweBjYanf2VCte2XjS122PrVWMAzdlWq5Ezc4pq+l9k0x8PRH0OMwXPhHoDmu/ljZFeR7T\n",
       "VewLaZLqFPkvUpO0gofnfH2zY+JNSMXIhAjkWwvmNdgtzDLX1sldkQFNrCvUARGQveRQi1kxUjaV\n",
       "UlLxP1dBR7U1rPPALm9vg5e0sKLNjXGVzltifO1r3pycTRFoE0U1y9NZE2h2tC5uVaEUjVZB+hoS\n",
       "PUadGcxErtMZ/xz8dqKJ6QoScmxon0B1O1zq/TX7WIPS7PJ4S2r1ng30qmNPQMyw2UGFdPVTneJx\n",
       "szk7zscq6WERnEWpJuuxDoy7ylkQZCRuY/t3tJbfxZgBiOMZJAFNturnqAU+drXXtNXzRn5yOtDc\n",
       "yA5fdmKOM/fUEsf4QPYDVmVHOeLYUtCpd0DuaJHrdDh/HIWOIka+kkMI9t3G0QAAAxRBmshJ4Q8m\n",
       "UwURPD///qmdCJSFgAvr48vdgS33/oajKg+pl9fDsKTJw3btOyhrl26jOJ/baW5Td/xXfqLy6O8E\n",
       "Rw5kTK4WQE4oti8Q0YPL0xn9GF7BzMQLRWY2haEQHFpG+7Sbex+JpVaMtJzDCJASPTzQz/2oto5E\n",
       "OzIMlJrCjmulZvrHGn3QmXmqA5q0l8N8tmcVfQ7qB2kMunNSSOKt6eDIaHLjOI0CaRKjeq1D4ntG\n",
       "b768WI+GxZgsvan7swEN7ichCiuE16SAxgg67XHXGxs6XJnQIe4HVSpuHaqFimrTd/PlBUCxIHUf\n",
       "REJ/2BjFOCr/0di7TPVl7TgRhafel3fhpkcZaBCVDrqK8sNsOxQHz0b+espiOh8BsSW4lnipoi4s\n",
       "m9vpQv28PAY7dgvyG5baJnHff+KOPoP2UX/nNt4DNPQ8/c+bWmPwUFhi2xIF7nB3P1cdydNJGjF3\n",
       "KBC0+gAJZ8lVp4QPLhwBp1DhU0z3fIlIG4+DldoS9YbZ6ggQnucM7pM0BxsKORPkVTbdvBFDxYEV\n",
       "uldzz71RqHGkhS3vj4pjkYDd17JvP79AHTRW989KVRFQrZu8a6qVBmGPJjB8fcqBZ0ZTVIfLvbKW\n",
       "OvPuG5THBWzw4iZaVQT0WwXVLwdvmK8RZGbPecXTkJGCB0gIfd9zx4oA7W52H5qvzH9Fdg7O25Pv\n",
       "IDgmyNz7fQszVQSwDMWRZZ79b97Sb1TtKM39GDLtmohDCJbpeqGiRh0ysK+MflFOqwf3pWyy+Yzp\n",
       "69tbe5BR4xs9kxAKNe/zOgCd5AbJaNE6VXEz9JOY0L5IyGXbV6mZAkHwIuJHjlKzC1H4mvmkoBfQ\n",
       "VQ8lQDPlqG7CsNDZxe0Ho/+tXM3OhVfyN/hSSme9GZ8y2HrXxSTnH+8gpUnpdKSJqSYkygw++Cdg\n",
       "OVS8QZewLlKrxq62HhGwBVhNk3s1KgJgaxb8JuDLss8/BbYKhg66iwKfSjjOWfDiA/TdLPSI554n\n",
       "46PWogQXVc6JMOXrhxKRsu8b5Ys+fWTLIhe8ZrBMT//JCGqL6mqPTwAAATEBnudqQ38GxQieAEKe\n",
       "8tvaeVRDwdp3cugu424STmMZ0EtkPvKZ0HXwXdz2Ldf8/+fBOPg3PJq4+B7VFq02ar41mKke5xVo\n",
       "xKJ3Xh5k9ZCvamdJzZsSvxU1vAe49vjRwrn6cD6t9BHUvch23ZMUAkCiFAEZm7u+W7KtPAN+pJTv\n",
       "3DUyF99kxYrCBE5G/DbVZew1oK/AaBg3Rcj1Z0rWvwUeM9gU/Y5bL1wLkyJk6lvVo+W4mMMqQt0q\n",
       "qWFgMmZw8z5SjxechEkGmGPZTbkcm3eVbv3zbOG6BziiKhQrqGblA5YWDDxXMCxxLKvVbi1QuLcV\n",
       "dOjBTn3KFFvUtkagFCEaeE36DPikXvXlVd316SAd/+oIewEmsggjaW4cxBeMbTXBHHdzChd24Qxc\n",
       "LzI+dHbETQAAAnhBmulJ4Q8mUwIIf/6qV4U5YAAUW5uw6IC5XVepW61tTwKCY7c0nBUIixx+oxIf\n",
       "io5JfK/nWIvzNAEOL4MAB6Yiqkkr+K6O6gtj9vL90eR/frIOGL7gTOGfzmeTInWu5Z8RtLQ2HHqy\n",
       "m5JnIUQ+O921yQczGCcvRGcm1sPgksSxLxJ5GFKCNKUA1CDs4mKQFOx9gD41PJHUTO/Cxc+rbfGg\n",
       "Pcan1dTTvbGTmHYHW6rBzemmdKroA/TK+IBOBrf6oVYMTJgu1Dp3cAK7848ceR5V4x1eQqiaCC1r\n",
       "ZjZc6Kjr/5SAHhCRmgUf7uoc9+wVqIeHSAMGfyiGIKmj/BFQE/9AieHPaF34VpEP8pfbryaDSYTJ\n",
       "M7OH9mmY2hPiVCdzc1e+fh8GsZKqVlliBJ7TSvurRCoBDvTO5HLcf/ur6kpoBNJ2L8BMSlDSzbxF\n",
       "uftO/8U8ygl64Rx6l0wEuEKaEmpHKcR97IPyjDsn5v7cetKMVWklaHsNfN3iSo3jdCNBLncmDAfL\n",
       "QihT/EQ9K4sZtvGfymEQbbj2BgqrjzbNUm3RTBBHa7dJ5t5xcVkKAM9vLRDXXXHmSFD9kaWTwkZo\n",
       "0PZeNWDyvkovxHHy+MYy1giK3kKY52gPgGBCrMtkRSOE1APny8Kq8ZmowdzSKQ96yDubhCJwmenN\n",
       "uM5YaF+DkudsX+sXSjPvlGojBz1/fr01BQspBRO9J95f7Lp9wrycs5zVcBUaNI0TFvWrya0E7L12\n",
       "W6OYhZ0UOmIMcPsDBA8KOtkkWcAi6H0yG4aSIWG0IHC8V0l1NE4ab4apgAEnHUlHN10vxUzlRMyN\n",
       "Pk2oILM0oLYKNPDSQWaDOAAAAzRBmwtJ4Q8mUwURPD///qmcQ0lpUAN95HtOMAG6IF/w8HZKnLLn\n",
       "1BCxrg4mgcKVHRGNxUAoq1/CT4pHPN3cpdslX8YcoundtSvv+H3ROgyy8KxRtu0qr9l0zYeps6rm\n",
       "Zn44syo23mi9ARiKCRwaeiX+MigBrccOm8rKCJAjsM//7DH9UaExn8AOp+mTOhIKvoTMEuypQ8Vx\n",
       "PV+OJvqFbqQV57ofKCECKSZsOIAoXT+qGMIDMBzIVqLiuYzzz0pY+2oXdRR3hnB7ci9tbR6nYfCj\n",
       "7Pj5REFm4KMOEbhq/0ELj+gBqf0qZQSap3FinH0BCPYqzEJ/ls9TnWEDLCizG6C3eyb+8Yyza83U\n",
       "Rv4IX6SBsR+tPqelELE7pqrlTsBR2zlNCWibzuDfpaI7lN+Yw65AFOcFZAKXzm6GXt927v1aoJIa\n",
       "iIMZRWm/q+uVjFwVaH8yVmHSvC0rF3zi/qbQzSAcge8f7eA4FWBE9H4+ThPhXkKP1l/f+NJccXUh\n",
       "9q4resWbh3e9AiaXS2FVKcRD5AuK1O8fn7oR4TmC2rIgk/fSs857choVE8JGB4LEqaWBWfIb1sAQ\n",
       "P91ofgfvNPfOLXDnfpWUqe4vfu7q0GkiMBAnJ4ZjuV0Uf4l9/03sBPbcqnowmKhe5hqEvIbBMPkR\n",
       "Rk5tdMMjUudW55GT2yMbwIv046fOhBX4pc6JygpzUlHq0S1KVRq8x7VQPXVSuJWeoKugWI+cAA51\n",
       "dfLaGtQLVFIHT4KN959G0ET1RW1DnTJjfKqhJ0wbK+rdDDWRt70Fgg0TbZfYtAJPnskJXNix4hGU\n",
       "VEmRa77+Ay2JBQ1JbQWap6HsVBFX/tAZS4pYiE6fnaIGTM8Zyk8BSf02fVv2XHwH8XJpN8x5vqp6\n",
       "8Mgqbw5RTi9z2G/di37Ef3BWAwajXfNH9a4pn2w1kkIWqkPq0mF3qhNHEj+JsUlWTVc7GJfs6gzZ\n",
       "Y7jnDYj+Pzwwg7qpYnDu9FNO/DZUUNfz1FIy8t7aHOYN/q4iCrEOGOYdYwP/V3Vb6rEdBCe1sn/S\n",
       "lhrXBIZjDRNROHFZUpC7BwAn77jxAy/RVl6vOZiNdg9aDngng4Th2glxAAABTwGfKmpDfwanqAq2\n",
       "K+oiXgBCfFyV4LL9HhFn6AAo6leNuV2YmBMteSh8R6F7U1R3lds67H+v1nnG1In2AYyQVMNXtXow\n",
       "X9wA79DnLWwVvLRAwinug03IXcAMZMqIc/jARMhuMLzvq455i3nCnmhr6MpCjg7Ki7kdZUyw2v1L\n",
       "TtQAxYskg4YNfoQfkRJzx6Byx/1utDrLvN/Xjnc0tmPRsJS+yl+g5Di3kOf7ZyNXhFQT6/KP1iaA\n",
       "gotGdwURQ+jgv52gL/WsvvuQJdN8JTp80f7fqsMEh4PYh+6eUGRDhJ/dMZZPgsN+OfbH0FJiUPBQ\n",
       "kzMAE+9kcm4TUttzWjH87njoDs7ePmFkeLIdbHH8WqLRDGJOTiT9BpSyV5E2z1WCt7hid29SnlKg\n",
       "L8m8jszztZPu4FgWKHhoIR8YYIrvihZkIbdC+iBd2qizhIoqTWpAAAACbEGbLEnhDyZTAgh//qpX\n",
       "hQzAAS1MT4N8xijUgWEangrY/kEsRu6BMYIaOHiem5+1ChjS3Wc8K9ptS1hy0/6aIOTI4PdAj2F0\n",
       "NdSWoVOs67dflAT6Zil21EYKo2Hsj/BgxVQJIOtzGTw33zdW7qFVdG6VD1RCIHoqRXXTEtnGe8XH\n",
       "kaFsNH1d+X0D4OaeLLNhLx2JPzSK+OpWl+16LY+yGwygAL8J2IPtKibMoM7gELCSSE+X4ytZ4U9v\n",
       "T3kIsOvrcFuEXWmA/DO9O1PE74EKqRAXxrsNzlcZkbuNjMObOo1/LE6dy9uSyUKICDfZ1wgSEt++\n",
       "EbLZV8W2p3rVELChR2PoZ1USe2FZWGOewhPzJlQX9WHAMXIJdyr5S1URui2UvJfCvNU9fl1w6k7t\n",
       "R/K8CAfVtn4Lv906pJYuz5sWF7xaJYgHFBrWVfb4lb6rYOK7WxhRiTalJRUWLjTy/JH35SqZQulc\n",
       "6pqpU4irQmfSNkISwB+hV24/WRHDhUudEA6V4ZqVae2uqLQtM5bR40pU1HbwpcPv73sWX/NVJwUQ\n",
       "tIr9uAKq0gT6krGeHhp93rdtMr6/l9moAz+TRZ3kCeQOokPZ0anuqtpXTBS3MMNKeLgQRtvzEVx1\n",
       "oRw421g7I9N9Iq3qLdZ/ABud1mKEWaEL7YgXTKvkrNf96AshCSzqgnkwA8mzVSNAslWP2PxFGKsy\n",
       "QS9DdSJh7moWA6d4kovTcXtTde+04VJTEucpWavfuUgMkAwgJv5tpTW6OIfqD35fV98J9qc8/6yY\n",
       "vQQBiaKrixZlGsGZO1dOhSA1k0ofM0oh63GIlHQ545gmfaogAAACoUGbTUnhDyZTAgh//qpXlQFZ\n",
       "QAH9GYvvtdXh+IINU8wGb4QvsBby9Zzd25OEFgbzcPbH0noLG8wcrVLUVH5rNP/FdapaZPnienXZ\n",
       "FQZEB0MvdTRpd5Tfvq8F6k0IRhAbeHh2qURnSnMAzbZV2v02TpHdU/eBH9OPFIah0hpwOSlgymhI\n",
       "WsGiGybVpsIDA0VUxUYQU61dQfEaWpv5/84BIliOa+TX9Snw4yfZn7GrUQbUM8h0i/pbR4vtO3ph\n",
       "vjnUp/smc2pBeK97xKdZJtakGAJhC3gj8EH8//YXbjVVYP90aIaoBqP7oGkDgrSwVddWZvKx1iFf\n",
       "76CFmJYCmz1YI+7JJva3oNz7abTW02ngPXU36Y/kL7jT/2qg1qDm2pwkY5CUeMjjrAiW+kMom9AA\n",
       "XcFM7/ClPp7OC4IszrLz0683sxy7yYVwQBym4Y2T/ky10zZUkLQDXSfmTZWITOJMJpLQpVdGtr0I\n",
       "x0mLQxQzrHxwQ951we5bN2WJvacduX8hr4QZb1yEEXxoJTaFVWQ4+23n37KxObh8lwreDb+DyPyf\n",
       "r4r+fcE8aWqodEmUjd07qj9GzEt2MXNP5CEhr04L6dQNSKpNphN2QdP0CU6k787ZMk/CgM7BZ7VH\n",
       "riuPEvjyMgWmyqzw+jYPufSwgm/r/FkGp/T/5OSLEisdLUyz5JXRSFwVA/6R7Meq50V3NL3pZwwM\n",
       "mlAzDmTMSPz8eIfNWhhIrdy4DJF4JjcwAnFnc7WfVf5ipDWToXz1GcAIGGCDYVJ1b0fL3BYzeyI1\n",
       "p98KGkG8oBnhAGvrxA8hFI+wxGOBkz/ncSP7n0ws5dE5StpsJ9z5W3h9bTozPKt3ziLZ+hm5TP0f\n",
       "T8Rcd3jJv9rtOZpJDw+CAWGiM3/h8ekDDw1oqXsAAALSQZtvSeEPJlMFETwQ//6qV4UMwADapT8A\n",
       "3MwRRiBKtiNSUnXPRuPghix1JN4S0NymwC57FWDXoK/6Berac9drXAx+HOf6eaNm7SEseV18PQy5\n",
       "3OlZJhFeTnwoA5KflDMa62nGeOZu8a3230c5nkYXi1fl/HH/6sGljk9h5A78+seUh8Ofp3JzDLid\n",
       "0Mwis3B3XfOFoI8zBy6Ufum3vHAr+fm1YpJHMpBrQTBI1gV2X1Z3ZawFAaD6P54VsYTfs3ehM8WB\n",
       "oBlY2QlKzvoev03PP9Hz1yEUnVCOY4Hd8T/EpBdvaNYsAHpSqc1vXmbJYZdxexPfG2Di19sbxaKM\n",
       "3WwAiCfG34EHjtU8i3mNjLha+HdEhOlb7fkTO5M9tQ0o9WmIatIIy85+J/IJ6p5XBZQP49tb8lZ0\n",
       "j/B3Xh9vfYO53dGcPurXpg1zzIXSpJX5pW9FFrnM3oyJv1TTARZxT6BtX9aay/+mQQt6HewYsblZ\n",
       "HlDZaQXuh8e4YmqDoycv1v61LIgPLA27i04nqdCQ1YRIF03yKDgQ/cRkeoQz/HqzGKu51mUPwP9r\n",
       "2hqxkeHBg5JY/C3YXRV0U1Wh1egs/mg0/vrmx9+j5nETkxnUI/ai4vZbbpIeYE/L+LCnmzsaGQRH\n",
       "JnQ0QWIFk1lYrDFUrm7FilTrnrQc4cXkCcnHjH4TlsARV7L2BFyFrGx7azqdzxEMEkx3HDVSxoqb\n",
       "ftBSYRgTHvt+uFgYP/AQIBSD94NMxZBPmxCXjtB1B6CTOKwMTibvXSSBZykHsoSPoiw/H+FMrQQk\n",
       "iPF9d8l6vlTycS4R33k8b3fJ/yP4HeYHoW95LfMYHQ3Yo61XoOL2ZmVsLXSL2v8jWJwXXBtSlUz8\n",
       "JhbrA441eFqhJX9lq5iAsuksfT2oCtpKiM3o0bcwuTZufZDIprBQVANNrtNJy9qo3X4C4bW3Mw6+\n",
       "wE0yvPQltlmahUuOHVkAAAFLAZ+OakN/BzJe7HVEACGOPAmSR8c+8NBrFRE+MkBoNiIv45dOE7XW\n",
       "xhfsS3Me6jSFdSrjQ2ODOoUPI915T3aroxCEmeZkRsEswYrhg0e+Y3VBIVnybp4KXSzshqfbvbFu\n",
       "BnVNwX/9XfDoe5AxWckSJ1h+C04tQhC3gahaGpjWBpkqhRcU5NX+SirXgAqxYKAZZIPs72thNdne\n",
       "kUvWFqCrrl+iplPqg8IfEgFIW3AM+iy463scUtwwXUo8S4Sc/5Lfu95Zqyo0UyUVAV0rWIOZIEFu\n",
       "UWcN0V1/D5OZgCeab/v7ddfwK36b3enyBKvUJLVkT7pvRvBtY7Gwnu6iwMHCCFEiLUmBRJbDTzYY\n",
       "lRzHTv0fDux+ZX3kvVqqsAoa99iaKq1doGggB0ACtViyo0E4st+D52WXRPixF+Rdk/6TxBeBnBDq\n",
       "wRHmi1t8TQAAAoNBm5BJ4Q8mUwIIf/6qV306/DHYdKAA2oc/GX7682XX/fZGol8tAEX0xuZ5MReH\n",
       "nAtcf5RfIb3GClWMC/jYYjylDNDdxkC4BZ2aYG+GDmcOAmZeDwyXJP856j3MpZNWq/SMH0+rqvVk\n",
       "naXlq2Z6LkqViUmvP3nYZ9/cjkojmc1mo9WkEAErJcLb2Zc+Yw9kB8k78W3Yu9h0I3FwHBPu35mL\n",
       "NuI8ZVTPrX4Q0vA1D/aiUD1YNLZz2Lk8pRbCPMcWGrkIUTo1rX7xxqc3geFZFtAlLIz3yXQz7JqI\n",
       "XmLNJu2Xb4G4yKoq3AR0stayH2cSh3FNw7NIlt6jfQwDp7G0cImTwon78v/+STbrDzz9F30Ytysn\n",
       "onoma6wYC2gy3zlBIEPK2zLgx+vX93ukjckm57Q2G1BYz0tAkUAfxmwgxoLo1shU7/hvmX0xIzxr\n",
       "UsAw6px1CeYmM7zUrjJexOyuKbxuNZj2m5McKH3be4Q/evj5U6XgQYpI8+qG//wJ+qTxrGmDMvRK\n",
       "4NMFxw1yfaZJMXCet2dJhYAKX/jCz/z7UI84fkxlzvZgGCWAK5Xg5ySYRqqquLT22k30cVqoePnU\n",
       "KySPtQBuaTkyF+xPoB4JokZVa0eKx9caHrtI8jdm3CxOJavfVVmMl55LCv4lDiQapPfi5Oaslzdq\n",
       "GweTEEeVOa0G+DRtJdtdoUgAeORJJLI2oILWWTIMTqwPQRZ3cHpqS499WZliDiwfCtaXBu6R5zwl\n",
       "ggK8PPYeNv2vAUvOFMAMVHx2W152USgmBLB/l5fbVigBst+l/rsLxmGJs/O8Wz8yhynuqNGa1oKE\n",
       "C2k+Zfk4ZxC47TghDih6DGNs8WgqSo08oXxoAAAC2UGbsknhDyZTBRE8EP/+qleUaAsoAHaSpjqn\n",
       "7XYAV9ab49ou4yyUqmzvp4n3IAt9Fr8TwdOe97YRdFHgupcOiGV7ItM3/gBAyFt5BMZ6ezRT+6b0\n",
       "6FB8drVsjAm5Um6D+IuD/TpU9/EeoaR9ma/BY2bRWaH7RVf/i9uT/SQSi7UXH6iAOvpo9v+AXxNA\n",
       "OeKN2/0CThU/iowRG8lWYrpSdfO9z4q/5WpOx+2260ow7KdjZbe0WYrERuJrUecGDptG8fsNV7VZ\n",
       "7QvGp8tAXFh6WpdXDW2Bb9d56QqoTiDrYXleGIuT41qiE67DZVc2F8U24RNkCO2OqYAdIpO5hlUE\n",
       "mcyVBTPu5IvsVlHmVecDc2nLJpPJGy1xCDwb3sIhJ8O1cDjcF0Hr2+YaUXe4lnysQ61g49dqkEm6\n",
       "SpwCxOXOp265nOu1oJrPpfebSdgk7X99UViBBRGLWBKiU6SJK8PZUOSjdU1c+4Sq3XjiV2QLJwSf\n",
       "TWeL63weEEMm4+zkKTu6bSZ/mA013D3huHaprNqIjwja+D8gIO0m1WhMWXfvvNh7wWcmJkKTk919\n",
       "5TYJLsDx3K+AoVZUu2ohn2xdCy5yhzppP6WDWUxYMPvYv7Qt2/rhRMwUv8McNl8C+OBReKksSiDe\n",
       "zVQMwpr7I5GRJDntgUGuUkFN8HGrTBInGpvV4NFsf8bY/5qItcJ8mvTbJPUHVLIRexFsioSpTA76\n",
       "WCnZPDHLDhZqCsDWz4CkNMdJvk117YcMMkmFnsSzaaOJ/pT5Br0TCGP+kzTVW7IrsdOQ7v2EEdN9\n",
       "faGER5i3iT1lE7eRZpABtwxdDXZmIHkTgk9OpUD6K/SAP07wy66iMB/xZ/iVgYypU68kAbFqVMAY\n",
       "0+edc/2tITlgO1i+dSAXhRCLF96Bh4Vu+S5rRPfqpPtDs00U/IDmD7XumN+FplETSfg09M5Rzqbg\n",
       "e2FUwKhAY5m7+2wIIa+oZrLQaQAAATkBn9FqQ38Gw8g2QAbVRFYFuK3ZzR4HpjkrQlgs77zwV+WF\n",
       "2xLF1M+9edhTydQE/3XM6nVLlIYsrjceIYAdX/qEMxTwpzeGz1dtEKixnAS1avm5KWakKDGZvtll\n",
       "nnA+rfKL81cUkhHt+2XgYD5PZ58UyjIxfCtzCRSLHUB7HghLThUAGFqJm9R4O0x10RqwjuQYdnaO\n",
       "lJmVHs+p2ZbfwQxV8wtKAtZXQlX89fptv1jkk2KLDsFGo1keS+ZxuWCH3IEnqwH1yi4BARKmvfoc\n",
       "TEzmJ6tVbmxx6z8s9bQU7ora6hIlgidDEaPg6pDi8WEMFWRDGwrVDSTMq94g08pUGAlCEIBYAHGV\n",
       "zxBQ9vx+5uXwDpzaqS4ePZdnQI+Yqv9YhMb9qL2BYeZ1hEh8AFMCK+3JmzEvWrWqXzkhAAADqUGb\n",
       "1EnhDyZTBTw///6pnSRe4xGS8S/pACazkryJxaQp0euGJWstNWBamxqzFMSR5btJ5vWXhomWRKhg\n",
       "wMi6z74evgqEOHReWjapljVgr0joG1TiGVozgqLsshkhna6yLbBZwkfFp4C9qTHOxOEKq2K5G/Wd\n",
       "tKB8JS7ErR2p0ovGTAt0TRBSEl/sjXRtElY41aYYu2ARbdGtr8UVoGAOR7M3jdMC2PVupTlG5BrL\n",
       "2PiRyROs0+lOV0fLjPW0JAuIGXIYBMPT/oluJ/iSTGxZqzG7SqeBF3go19VEITPQ7PUJeyta2FiF\n",
       "LwuUiYraWPOHjg921M5gon40OfvGJq5rNoU1LwislMCgYC84IDphykleGV17qb3iqYNPtxnuO/0u\n",
       "2ROZOdQby5Ne26kK0pehXVWphb9F+DAXe8MFq+6A5xacC0TmtQm+Vb/3cFYJW4Ga1ZmrotWwtKzR\n",
       "99h9jxfnMnI0n5ox3e3qHOLhl5d34pgQxk5pbVlcA5s5y5o3JCeL3bjUk7HkLGnwwPIdc2DfGB79\n",
       "7oVAehmo+IOcCFpOz+zatiN4p2qAFLKdelNaW55eqf0j6n88GXNVvrv3YWwdJ6induzYEzg4hSDd\n",
       "5irQRKRlazCwtEa+mJg2OfzOTqpg7moyMtnMpnY8sfYrfzbvmHL94AKsLmHKs9fHLzAPwxbxCUn/\n",
       "mdvv28j6Enjimb3m7btlN1AYmTciDD1GA9p04ahpFS4gNt4jna+yt4XrL6qxTJMF8gFm1NaKwchW\n",
       "KKI7mIG5iQI1tY43EjXKXhQY4rF2XZtN1lCu7HOf0hOz+kmzWtgffa9W0XvtNGhAmc12Ls2SW135\n",
       "3/GDZ5wh6NJ0ei98SB+Y5Ax0gr+Nj4Kct2oTXCmbKRE4g+bE567PxraHRM4u63WnUUJ3WRGxQ7iD\n",
       "xvQaYI44fT2SKGBuPMo8njlzcRbA6NjjUhXUAEThMGxsmNFjtA9UsGygLTElde+/teegYFyO5pM9\n",
       "/2HbF0CXEcP9TcXBfsZfc7mkiHwOzBzfexJLdQ3snmaZ1cj09alkqwpyEA5kuSZGJCShAgff4PkM\n",
       "SZhYlinQq+7uXLTykwQKi3sA//18vUsrSdeQZk3Xg6psQNWbmUwpdMmm004CCosIXsTnD7E/npdy\n",
       "kPX9VS2T3LQUOJi5StqtkcYX69n6RiIvaOqAkkoBktSmmQ++PAILAaG47lZfvONEXhikGVUE6Sl1\n",
       "fudHAvlW/CkBtce0//CF9iJdofhqhoAAAAENAZ/zakN/BqXb3bkglEACG6swhIYk3sSSsHuW0PpA\n",
       "J1SbuH6vLnSyMNiiwWBQKSeedyrO0uzkflTcQ2sDIPJ1NjgyHPYf83zgZZXSQj7cf2BgxzcvUT7j\n",
       "RR1f34t9gwOGGisRAnerYv6fTg64IcM1C385eIl5mFa9EGrlsB6jfG45bA8LdZIzkoPuv+ufyCAS\n",
       "HTv/AqLbVAf9BlY26l72MIpF5C3dk6S1DxV3ODProfjhFwf26kodWnj2MnRbPOSjxcK+XnKLM7Wm\n",
       "IHAqEeWFO+d1ct4oI3fDrVNHX/Fm432d7E6BZAJBxwqsfnGTp5i+Kj+6ixlptxryann1d90yWm8k\n",
       "J9X/FxOYyjy3e8wAAAK6QZv1SeEPJlMCH//+qZxb7GAFtHegeobi2AqkIQH18eeSxJiFqn1mGqTu\n",
       "lrxaVg0WI0QvcLntk0ckApoXOQGd+mWMvySDxkr9ZVZP1Atfpth62TgIuGTCp4/FfbBo1mUfF7FT\n",
       "amwGrX9Vvlm+bmK0dAC01p+8hVHhY1zefuZYIAWHL920oPpxzGTVrMfRj4+1PjRq1Du5zAa3Fas0\n",
       "vaf48JOvx7DdzbR5RGr3U76tXu+kPmZFpCuAREMbNEftievH/xhuJy5ORC2edtpRzXaOPr6Pr6e8\n",
       "vth5V5pi/PJ8FyzdUhEmxUEHIEuxxb0Uc5piULvgmBd2PUZSWy+VNEpUyffU6/uhEUtkb9BbDOtF\n",
       "J7Z8JY9J0UV5Jz1kTlDZDLAsdsYCcKV2eV/OylzSj372gavEszj3BrOcLWyJl5bqRbRiB28OyRYs\n",
       "wva8n36Lmg8askWwG11sd6iBxbQ4u2TxupngKGoLJGBbvx0eFfuUIaj5J9d8FyoOTR4RqW0YSXho\n",
       "w0mJaQToxE0ubBe2g9Fa5+gw81USL+v9DcPDjBmbTkhrAdZDTJy8rTQUMyvNO1RS5Tx/F5XV50UH\n",
       "r3E8GY58w4HHkENPu9/IIW/ukCBMbEdI0sbOu0A9YTtPR8Fbl5X2s7XLY7am4LNs4yLJLW7M5iLR\n",
       "EvpEzwz8nnQI49Ci1/2Gu5YYrDWXqdznqXhY5y5QjoZcF6hYJ1WWBM37mlfwOaxN5Bj9sZSEMgM0\n",
       "qFsHLt0Dfdrto4NHK6CkKbtsmz2HRJfjNZa5chACko53CidxupJEhhsnPoXvhhoqkgEHxBJPV1nJ\n",
       "7p5nuc0V3O7PcdDCBzveyKftp1isfnAeHhvjXuzywYiWs0lAghQdu9PjqcF4ZIDBs2txyfYSXmUH\n",
       "vG/Mauv5l/6cle4vlOwLPxgaF9kMgURJ92eS8KMAAAKhQZoWSeEPJlMCH//+qZxb7GAEtSnX4+rK\n",
       "N6QiX7Tg4mphUNzuhqViVdi6f7HN03+NdQAZGdMRkzmMBP/9R5W/Lwmefq1NYotk72v6tfAgtujS\n",
       "7UE7fNC0VmmjZjSG1J9paVZhfH8olTUK0TCIKzYfRCrsjDhaexZVT7s1eS/48RQ6JGwOXGSaI7p+\n",
       "TmNBER5pj5cEF7i+gvuG7RxLzRP7j5yzaBkaXHcGZYScnv8waSukMSbh/y6ixuEOYAFib7EZyq05\n",
       "vpfm19D08s5AbI7Io+wOvhPCdirVrl+uF4dQJIvWNmVH1pnEahfB8Xw9fP+4yBEOOOyBLkzm3800\n",
       "3OqrEf4YyzVbYscxVo33LoY5Fnbg2+xLQjXGk2oJzru1uYaR54vtzvOETzeK/Vka40/7ivN4BrLz\n",
       "MV3cCo1Y4rpL9au3akCGrTYXyE8XsrSRdjtLKfLV3esSlYBf+bkh8xROmJwDnL6vAgnX9zUPUhKw\n",
       "GB//AaPWknIIUrw1O/bOg9nf55BjmsF9sjIjg57yj5Zl8WZR1Dv3pdJ28oDO6eB70P3IYZ73+zUo\n",
       "8PSFYTnyC3UXiKP5N6AaGQN6T5s0KhiB/JyLlPt2rYOkk7uxX+tC2VW6a+Y4rPDdmcnNQ77pB8J4\n",
       "LioK+ADF/rhH36WLEZnQMx4I9EygwJPbc9LcWbOmzsnEDArwt//3MZLgf17zE8z9W60UORh2YDpo\n",
       "qAEZcCaijMCxSLjhcYL0qvotwJIE6PPHT2yUST313nJgILudj1dKZqD+i44LJzMRYsht0D3Za/iV\n",
       "SAXYmuVLsh+hAZyxWS7TeSSOSAvC6aezsaJ/2AUUS19nMQlZwzHArosCSSVYhNvvXZVxiq/xGwe5\n",
       "aQ0t1PS+5zT94YqQAE6ewUsLXIR2UAAAAmhBmjdJ4Q8mUwIIf/6qV4UMwAD+kB5UdPWNEM+ud5ot\n",
       "6CKNcBe53phhxc/uR8rUrabfhZsremmSLSWlwuLzBtxRQR0dcq3vyM6uhRICk52ooCHxkBtTHoR0\n",
       "+tD864hvendeKY4g1tz4JYh5etWyEPrh+XWVHXIstEwAPFDhDqb8mohwQesQhLA5KN2OTqhNk9LN\n",
       "XnVq6ebbiOXyVSzNVsOGO9WpLgTw7vteK7erJT7mvlFSyWVWsncn0QQeKsOrGvMy7y3tHCVZrSAG\n",
       "ljxTsDtsDxpcDjbawih5R28jxyTR32JvJLIsLKKA7JQz9zkr0KtUPUgQmypNs3nI1PWcG7XaDR1m\n",
       "KI3bC/onndVK/FsBW/VqB0P8yvepD5j7wsFYj1qQNvuYUfL0HFlgVqQg8p/UDtGv0sqfwWaxnmom\n",
       "u19VDQ2bPWXV5BgZSVRTM8krLPmFU2TdsrCmK9cN1w6Rcp640GM7KZm8RM6B1XVSJzjhunkiZPsc\n",
       "mZd7xVXqFTQEcN9UlG2wYYYB25dq5c7kLXvy4xcwTVBlPPomAX73gUPjcj+Gf9rWHQUjSz8WNb7g\n",
       "PjpFonyrJ+s4SSxPu+Ibs/lW6r8JcUN/0zTAWvjYSya9p4WVAwhxOX5diUAzdd7F42C2t5jOL9UG\n",
       "HaTo6FI85EQXrx1iIOEztP8HRpg1qjlUl7wng8liYL3OywQuyKELL2KFrl6sAi2/ZNb6rmKKXf4v\n",
       "B8izdIZ5MbMAPtWE9jYtgWrSlgYZXpVnFm6ZjmL++2DdOz6dnnvsHHWiHid2UOWieOAIZc+2Bmgs\n",
       "fsicikKSTlDclGqU0RQlAAACy0GaWUnhDyZTBRE8P//+qZxb7GAD+gtLfhnUIoxAlV1Aw/4HsspN\n",
       "sV7RMtvcKh42Te3u/sUTNegr/lXyq9I4TiQMfhzmkyImx4x8JmDsU+YxY11o3rcmSejogDhm4avz\n",
       "JLyQgXXscj5cWkggpov8Bcecr7qg6O5keQzhQac+q8TajxWDdONCTL6cUAo60jw1t9HLjyIYvWN5\n",
       "EH4VVqCO0ktzVic9OqkZlToZIR28JNHYISR/TlsC8RZ/t5Bpb1xbsn4C3soIYA6hQfCcQ6TqOyZ3\n",
       "RpT6+xnM5Cw2Q0z064zr6IMjTpk0q1dJPYwl0UbplY91E4ECakZekDCHrmgj3TzXXuvcW2Vcd2iU\n",
       "QDh+gCWgrOzPnshVaHvQt1VVDqQ7cL768YtDqR8zqfokbvxsz//hu/GdvzPrBXAeR8kE0x9WltTq\n",
       "Fd6n3YM1wTVAM2eOMV33faHdzM/tWlOTsF//qzbYDMMHF94NoCENq55Jre1x7DBpgRUNFBUkcy3R\n",
       "oKkQiLJfZZCgpu+897qBDS5+wLGUwQ3dq6AAu+j6H/jJUdCqEXdNMA2bdLRg9bo8G6p5yS69vOsq\n",
       "ql0xEUWFu6KIbA4zJ88pE2MqAW190quhQj03GVXEXitpPuS++x+PtwaLp6pSrA6jMZGvr6osfdKK\n",
       "8K2JO1u3zbyKwvyT28E/59ao18OkUWuKgkw2oCdTxqOsAAQEOVGYKEpDyrbkD4vE1eMkUStK5+Jt\n",
       "kcYHnTugHiExlG4PXOeeDqfQiVZAippzoMaJKEeDNvYbIFdYvF/56EVQ1XvOYsBWIB8Y4bPYDZ43\n",
       "BdvzSfawXHYHHsUaWew4drW8AjTeoZdXxNgrZUMFT3CYt1kZDWyfljMpIPINHLlIOrO05oR8hdPB\n",
       "xOWCZbVc6rdaSo72XgDhAtr1lJWPtIwIITsFcZkw+V8nXMwoklcUsv367jqZ74M0/EEAAAFTAZ54\n",
       "akN/B3HRACFPQXk/R7JCC7PRLYFOm5pAbVH+lsna7NRW2lFcqZIO6MZYToq2W0nYKUNIi70Ef9Eg\n",
       "lSPCdaVEHm6LTCGozS+ZEWiEGU06g4/EkzmFVVrBppj2g59K6JGCZ/nLBpluYgjLPlGL1wCXp680\n",
       "itmjqUcVeME+aWbHaDZes9G/xUriO/fCZTmmk9SRtI9RUtL9zIFfcrn5HcSKJvtC+GnW1RvaL2Wq\n",
       "UCw2I6W7y3IEy2gHx2SOUVYEYGhU7R9UmXKQbqee+6kEoxkflqYlZ825xFhz2lFEw+VlPVDWbhJn\n",
       "Z9unxkZLNUUF8seChBu5YkGAziZQ2Z535ujAtLEdwXKGYMpKLbfT+9+QrpCiGU76cfCmk0X0mmDc\n",
       "X/zWhEyiIGpwhhK4Hh3NQApiXB3xec+94N+Uu3Oc98NjGsHD+SeOGLsUNG1fq/uPLz+AAAACQ0Ga\n",
       "eknhDyZTAh///qmdCJSFgA/pD5Wnc/W764Fg3nAlLUEDU7B29rEV9Ykqhrb49z/6eTxUQHxjTVXG\n",
       "wPiTgJ1+nzkVxXIL2a/yd1BBUXusSoFXC+w06hFBYfJ7RdnULeA624ButhwKan8LKMxueQ5qOha1\n",
       "DeY8PUwV7a3OpQKZooiW1WNvPK2ri9Cr67kpIphdBgT3IxGVA6zAMdOnzUcvoaYlC8oqVHA+l9sj\n",
       "UdWq7QjAO3n5f1Wt90vGTA3VOBOMohOdjoZNHVn4BOOn5e6AyFSQKKr6nDp4umUIgOUFjp0ArUex\n",
       "wDHw19AT1sCNgY9fY0gjHumOaLT/83hMZSHM1sbhhHs4ZYjz27vyl66NF4u69zBNNWa6x/Jt2k6+\n",
       "q7GH7r6c2X6vDPzL9Zo+sm9kQ5qaCpZZ+WPshkteY5U3wB3zoFwzCGoE1psvrASUTUbtZIIiQbP3\n",
       "+5p/u0uZRZtpJ1Kq8YaVF+t2yyO4SHo5zkPnWVBmnqbh5/PAFh8B5E5pM0tzPesLMDp2nmFE3JW5\n",
       "ZdmY9gLRnJkWejLamADs9Ry/kInAvU5m4JYtjt7Ev9l5GuM9yobUFIxyDCCehCbkK5bLzrrfdmRA\n",
       "egIau7UxuqaRi83qYXf/ZxKyW9f+j9PiomJjEJrtueccqZw5yNY9y4OeOjlsXdSbTWWhOCw6QYGR\n",
       "JRZfdnggE7GGhRb3WRLr3udnOXknAP4IEA9n/5papvIjfOoa8Xx2C964qo7RGIGUU+CwjIXY7dTB\n",
       "Ge+jIALagQAAAgdBmpxJ4Q8mUwURPDv//qmdCITeABtVzsrGiL2306088lo+im+DW4UfafzoRQpq\n",
       "QNC7xsqblKdgZV2/E17YaaZDTeBQPpv4MlWVfZvzqy3LAAO6YI1kpLJnJUylbGyHt8T6lI+PNto3\n",
       "jmnRa0/hU04I2eGdZhtWWwu5Y5eB79MqaAv7cR+aQ0iNuZOvfVt45dQTVSZcW5+VITgq8pKudBCR\n",
       "01wpSG8Ai/ZzXFtHnY6lZUQqjFsvH1ufU4fE7WRf9RDSbGpee4vnfIHe5L8t1hsB7JXYlqS3bTFm\n",
       "xm9Y3bZVuS+4EfZFucbWHfjIeEUFAZtHEOyHxG8PKmXrASfKTjNrVBL54dunmjvNJXqR5o2WQzAl\n",
       "hhNtj+j6p3KmInOBzT1eeDHDZ/QulNmROlkIZ+Ed+CbJAJLTRXd7EQdconpEYpihvf6yRtsqzCvH\n",
       "nBprnJzgmtAsVez85hqUSpQD/vZnN11jeyv9//aRQfHFGkUFe1Nb7B5x4coPmr10uRrX+xYURlKx\n",
       "xGpsX2mQU19FF6a7TopO2XALxTASYGDcfo6D4Aj+zEGOWJO1Gv9X2n/f7cjexhCPFspdByxy5Co4\n",
       "E5CPPKDwlHfIQdJ9olmvSvgMPzUvCAZ62bNIOy5/UM49lHthN5v1necu8m6i+uzuCK1AMYIlNM6n\n",
       "1SHEXwWn96kuZvc4j45PgoAAAAFFAZ67akN/B0s8IgBCnvNRoHRVXPfImsZvJ9DURlEWY9W6+hVm\n",
       "OveWVQFFu57Fuv+f/Pfk42D+pS5X7fZHNah6TLxUylTYKq0Aqz3nGryr15dbEDwrN6lj+bt6D3oa\n",
       "zw6GaxXpM0t8pmJoBlMX2DeNSSWqOpntew6ztcpLdMyMhVXCSM79/epLAUiIsYIB+S5rcREhHNw3\n",
       "2yJQQdN0OF3ZgBT2/TUhl+AWXaMgqu3OF4MIYTvaQQxEI9i+6gp1DK7wn5rM9e2IB9IJa/Sxu4t/\n",
       "nB7W6KC8che0tD+u/I9Y+eng4rVMbzAI4JdPmZK6cCmyynIYm0869MeS1GFfz7SUxGOH5yvPzm9L\n",
       "um/NH7bZG+3JucSgIvJUaRKy06yE3E7wzR3kk1mO+ctyj1A/H6y4oZ3VEfeTKu3utAyuUY8ONqtF\n",
       "GqOO0QAAAWZBmr1J4Q8mUwIb//6njkzkOAEIFFjF6DYM82LyjEugGV0Zi/7ZHneIlY5h8pNhbSPS\n",
       "LkUgDzfwOARsq7wdMZ3upoBX8erLg8mPvoDwhgK1+pVfWSUSBpV9taWjFq4aAL/ZLDt8G2OSkrMX\n",
       "jeCE/8R/HgrlLlnABp+/cPFttX4iCJC5mOWF6DBHsKjgFOmOhb/J1KJC0Ks2MHB2QMFS+UFpmMPJ\n",
       "sUiT/r0dk0QYJS5k0RsXQ4qF/Vr5MoDURzRVtTmxRhEPwV6mjdx8Bf/pNcd3xEg2wlctxOXKe2OP\n",
       "Nph2gFUea5AToG9nIACuB3lS6SZOzyM5JUDV0KdOZLruYJ0f6P+JgJYgw04BSTAyTmxr8WmB9Urq\n",
       "pyCxZkZQgVLrBdbo1HsfsofIeOhZgtCOhXeobV7GRPiezaU5jB4gCImXp564uNEav0M5TJ0XyWlM\n",
       "ePuCotcwllXr4sGuJjeYkgdLnbOgaH+hAAAEZm1vb3YAAABsbXZoZAAAAAAAAAAAAAAAAAAAA+gA\n",
       "AAu4AAEAAAEAAAAAAAAAAAAAAAABAAAAAAAAAAAAAAAAAAAAAQAAAAAAAAAAAAAAAAAAQAAAAAAA\n",
       "AAAAAAAAAAAAAAAAAAAAAAAAAAAAAAAAAAIAAAOQdHJhawAAAFx0a2hkAAAAAwAAAAAAAAAAAAAA\n",
       "AQAAAAAAAAu4AAAAAAAAAAAAAAAAAAAAAAABAAAAAAAAAAAAAAAAAAAAAQAAAAAAAAAAAAAAAAAA\n",
       "QAAAAAGwAAABIAAAAAAAJGVkdHMAAAAcZWxzdAAAAAAAAAABAAALuAAACAAAAQAAAAADCG1kaWEA\n",
       "AAAgbWRoZAAAAAAAAAAAAAAAAAAAKAAAAHgAVcQAAAAAAC1oZGxyAAAAAAAAAAB2aWRlAAAAAAAA\n",
       "AAAAAAAAVmlkZW9IYW5kbGVyAAAAArNtaW5mAAAAFHZtaGQAAAABAAAAAAAAAAAAAAAkZGluZgAA\n",
       "ABxkcmVmAAAAAAAAAAEAAAAMdXJsIAAAAAEAAAJzc3RibAAAALNzdHNkAAAAAAAAAAEAAACjYXZj\n",
       "MQAAAAAAAAABAAAAAAAAAAAAAAAAAAAAAAGwASAASAAAAEgAAAAAAAAAAQAAAAAAAAAAAAAAAAAA\n",
       "AAAAAAAAAAAAAAAAAAAAAAAAABj//wAAADFhdmNDAWQAFf/hABhnZAAVrNlBsJaEAAADAAQAAAMA\n",
       "UDxYtlgBAAZo6+PLIsAAAAAcdXVpZGtoQPJfJE/FujmlG88DI/MAAAAAAAAAGHN0dHMAAAAAAAAA\n",
       "AQAAAB4AAAQAAAAAFHN0c3MAAAAAAAAAAQAAAAEAAADQY3R0cwAAAAAAAAAYAAAABAAACAAAAAAB\n",
       "AAAMAAAAAAEAAAQAAAAAAQAACAAAAAABAAAMAAAAAAEAAAQAAAAAAQAACAAAAAABAAAMAAAAAAEA\n",
       "AAQAAAAAAgAACAAAAAABAAAMAAAAAAEAAAQAAAAAAQAACAAAAAABAAAMAAAAAAEAAAQAAAAAAQAA\n",
       "DAAAAAABAAAEAAAAAAMAAAgAAAAAAQAADAAAAAABAAAEAAAAAAEAAAgAAAAAAQAADAAAAAABAAAE\n",
       "AAAAAAEAAAgAAAAAHHN0c2MAAAAAAAAAAQAAAAEAAAAeAAAAAQAAAIxzdHN6AAAAAAAAAAAAAAAe\n",
       "AAAg6QAAA00AAAJQAAAB5gAAAtYAAAE6AAACSAAAAxgAAAE1AAACfAAAAzgAAAFTAAACcAAAAqUA\n",
       "AALWAAABTwAAAocAAALdAAABPQAAA60AAAERAAACvgAAAqUAAAJsAAACzwAAAVcAAAJHAAACCwAA\n",
       "AUkAAAFqAAAAFHN0Y28AAAAAAAAAAQAAACwAAABidWR0YQAAAFptZXRhAAAAAAAAACFoZGxyAAAA\n",
       "AAAAAABtZGlyYXBwbAAAAAAAAAAAAAAAAC1pbHN0AAAAJal0b28AAAAdZGF0YQAAAAEAAAAATGF2\n",
       "ZjU3LjgzLjEwMA==\n",
       "\">\n",
       "  Your browser does not support the video tag.\n",
       "</video>"
      ],
      "text/plain": [
       "<IPython.core.display.HTML object>"
      ]
     },
     "execution_count": 107,
     "metadata": {},
     "output_type": "execute_result"
    }
   ],
   "source": [
    "# Create an animation of the traffic density.\n",
    "anim = animation.FuncAnimation(fig, update_plot,\n",
    "                               frames=nt, fargs=(rho_hist, rho_hist_cormack,),\n",
    "                               interval=100)\n",
    "# Display the video.\n",
    "HTML(anim.to_html5_video())"
   ]
  },
  {
   "cell_type": "markdown",
   "metadata": {},
   "source": [
    "That definitely looks different!  Do you think this is more or less accurate than our previous model?"
   ]
  },
  {
   "cell_type": "markdown",
   "metadata": {},
   "source": [
    "##### Dig Deeper"
   ]
  },
  {
   "cell_type": "markdown",
   "metadata": {},
   "source": [
    "The new traffic-flux model that we developed here changes the way that traffic patterns evolve. In this lesson, we only experimented with the most basic scheme: forward-time, backward-space.  Try to implement the green-light problem using one of the second-order schemes from [Lesson 2](https://nbviewer.jupyter.org/github/numerical-mooc/numerical-mooc/blob/master/lessons/03_wave/03_02_convectionSchemes.ipynb)."
   ]
  },
  {
   "cell_type": "markdown",
   "metadata": {},
   "source": [
    "## References"
   ]
  },
  {
   "cell_type": "markdown",
   "metadata": {},
   "source": [
    "* Neville D. Fowkes and John J. Mahony, *\"An Introduction to Mathematical Modelling,\"* Wiley & Sons, 1994. Chapter 14: Traffic Flow."
   ]
  },
  {
   "cell_type": "markdown",
   "metadata": {},
   "source": [
    "---\n",
    "\n",
    "###### The cell below loads the style of the notebook."
   ]
  },
  {
   "cell_type": "code",
   "execution_count": 36,
   "metadata": {},
   "outputs": [
    {
     "data": {
      "text/html": [
       "<link href='http://fonts.googleapis.com/css?family=Alegreya+Sans:100,300,400,500,700,800,900,100italic,300italic,400italic,500italic,700italic,800italic,900italic' rel='stylesheet' type='text/css'>\n",
       "<link href='http://fonts.googleapis.com/css?family=Arvo:400,700,400italic' rel='stylesheet' type='text/css'>\n",
       "<link href='http://fonts.googleapis.com/css?family=PT+Mono' rel='stylesheet' type='text/css'>\n",
       "<link href='http://fonts.googleapis.com/css?family=Shadows+Into+Light' rel='stylesheet' type='text/css'>\n",
       "<link href='http://fonts.googleapis.com/css?family=Nixie+One' rel='stylesheet' type='text/css'>\n",
       "<link href='https://fonts.googleapis.com/css?family=Source+Code+Pro' rel='stylesheet' type='text/css'>\n",
       "<style>\n",
       "\n",
       "@font-face {\n",
       "    font-family: \"Computer Modern\";\n",
       "    src: url('http://mirrors.ctan.org/fonts/cm-unicode/fonts/otf/cmunss.otf');\n",
       "}\n",
       "\n",
       "#notebook_panel { /* main background */\n",
       "    background: rgb(245,245,245);\n",
       "}\n",
       "\n",
       "div.cell { /* set cell width */\n",
       "    width: 750px;\n",
       "}\n",
       "\n",
       "div #notebook { /* centre the content */\n",
       "    background: #fff; /* white background for content */\n",
       "    width: 1000px;\n",
       "    margin: auto;\n",
       "    padding-left: 0em;\n",
       "}\n",
       "\n",
       "#notebook li { /* More space between bullet points */\n",
       "    margin-top:0.8em;\n",
       "}\n",
       "\n",
       "/* draw border around running cells */\n",
       "div.cell.border-box-sizing.code_cell.running { \n",
       "    border: 1px solid #111;\n",
       "}\n",
       "\n",
       "/* Put a solid color box around each cell and its output, visually linking them*/\n",
       "div.cell.code_cell {\n",
       "    background-color: rgb(256,256,256); \n",
       "    border-radius: 0px; \n",
       "    padding: 0.5em;\n",
       "    margin-left:1em;\n",
       "    margin-top: 1em;\n",
       "}\n",
       "\n",
       "div.text_cell_render{\n",
       "    font-family: 'Alegreya Sans' sans-serif;\n",
       "    line-height: 140%;\n",
       "    font-size: 125%;\n",
       "    font-weight: 400;\n",
       "    width:600px;\n",
       "    margin-left:auto;\n",
       "    margin-right:auto;\n",
       "}\n",
       "\n",
       "\n",
       "/* Formatting for header cells */\n",
       ".text_cell_render h1 {\n",
       "    font-family: 'Nixie One', serif;\n",
       "    font-style:regular;\n",
       "    font-weight: 400;    \n",
       "    font-size: 45pt;\n",
       "    line-height: 100%;\n",
       "    color: rgb(0,51,102);\n",
       "    margin-bottom: 0.5em;\n",
       "    margin-top: 0.5em;\n",
       "    display: block;\n",
       "}\n",
       "\n",
       ".text_cell_render h2 {\n",
       "    font-family: 'Nixie One', serif;\n",
       "    font-weight: 400;\n",
       "    font-size: 30pt;\n",
       "    line-height: 100%;\n",
       "    color: rgb(0,51,102);\n",
       "    margin-bottom: 0.1em;\n",
       "    margin-top: 0.3em;\n",
       "    display: block;\n",
       "}\t\n",
       "\n",
       ".text_cell_render h3 {\n",
       "    font-family: 'Nixie One', serif;\n",
       "    margin-top:16px;\n",
       "    font-size: 22pt;\n",
       "    font-weight: 600;\n",
       "    margin-bottom: 3px;\n",
       "    font-style: regular;\n",
       "    color: rgb(102,102,0);\n",
       "}\n",
       "\n",
       ".text_cell_render h4 {    /*Use this for captions*/\n",
       "    font-family: 'Nixie One', serif;\n",
       "    font-size: 14pt;\n",
       "    text-align: center;\n",
       "    margin-top: 0em;\n",
       "    margin-bottom: 2em;\n",
       "    font-style: regular;\n",
       "}\n",
       "\n",
       ".text_cell_render h5 {  /*Use this for small titles*/\n",
       "    font-family: 'Nixie One', sans-serif;\n",
       "    font-weight: 400;\n",
       "    font-size: 16pt;\n",
       "    color: rgb(163,0,0);\n",
       "    font-style: italic;\n",
       "    margin-bottom: .1em;\n",
       "    margin-top: 0.8em;\n",
       "    display: block;\n",
       "}\n",
       "\n",
       ".text_cell_render h6 { /*use this for copyright note*/\n",
       "    font-family: 'PT Mono', sans-serif;\n",
       "    font-weight: 300;\n",
       "    font-size: 9pt;\n",
       "    line-height: 100%;\n",
       "    color: grey;\n",
       "    margin-bottom: 1px;\n",
       "    margin-top: 1px;\n",
       "}\n",
       "\n",
       ".CodeMirror{\n",
       "    font-family: \"Source Code Pro\";\n",
       "    font-size: 90%;\n",
       "}\n",
       "\n",
       ".alert-box {\n",
       "    padding:10px 10px 10px 36px;\n",
       "    margin:5px;\n",
       "}\n",
       "\n",
       ".success {\n",
       "    color:#666600;\n",
       "    background:rgb(240,242,229);\n",
       "}\n",
       "</style>\n",
       "\n",
       "<script>\n",
       "    MathJax.Hub.Config({\n",
       "                        TeX: {\n",
       "                            extensions: [\"AMSmath.js\"],\n",
       "                            equationNumbers: { autoNumber: \"AMS\", useLabelIds: true}\n",
       "                            },\n",
       "                        tex2jax: {\n",
       "                            inlineMath: [ ['$','$'], [\"\\\\(\",\"\\\\)\"] ],\n",
       "                            displayMath: [ ['$$','$$'], [\"\\\\[\",\"\\\\]\"] ]\n",
       "                            },\n",
       "                        displayAlign: 'center', // Change this to 'center' to center equations.\n",
       "                        \"HTML-CSS\": {\n",
       "                            styles: {'.MathJax_Display': {\"margin\": 4}}\n",
       "                            }\n",
       "                        });\n",
       "    MathJax.Hub.Queue(\n",
       "                      [\"resetEquationNumbers\", MathJax.InputJax.TeX],\n",
       "                      [\"PreProcess\", MathJax.Hub],\n",
       "                      [\"Reprocess\", MathJax.Hub]\n",
       "                     );\n",
       "</script>\n"
      ],
      "text/plain": [
       "<IPython.core.display.HTML object>"
      ]
     },
     "execution_count": 36,
     "metadata": {},
     "output_type": "execute_result"
    }
   ],
   "source": [
    "from IPython.core.display import HTML\n",
    "css_file = '../../styles/numericalmoocstyle.css'\n",
    "HTML(open(css_file, 'r').read())"
   ]
  }
 ],
 "metadata": {
  "kernelspec": {
   "display_name": "Python 3",
   "language": "python",
   "name": "python3"
  },
  "language_info": {
   "codemirror_mode": {
    "name": "ipython",
    "version": 3
   },
   "file_extension": ".py",
   "mimetype": "text/x-python",
   "name": "python",
   "nbconvert_exporter": "python",
   "pygments_lexer": "ipython3",
   "version": "3.7.3"
  }
 },
 "nbformat": 4,
 "nbformat_minor": 1
}
