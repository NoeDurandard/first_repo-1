{
 "cells": [
  {
   "cell_type": "markdown",
   "metadata": {},
   "source": [
    "###### Content under Creative Commons Attribution license CC-BY 4.0, code under MIT license (c)2014 L.A. Barba, C.D. Cooper, G.F. Forsyth."
   ]
  },
  {
   "cell_type": "markdown",
   "metadata": {},
   "source": [
    "# Spreading out"
   ]
  },
  {
   "cell_type": "markdown",
   "metadata": {},
   "source": [
    "You've reached the fourth module of the open course [**\"Practical Numerical Methods with Python\"**](https://openedx.seas.gwu.edu/courses/course-v1:MAE+MAE6286+2017/about), titled *Spreading out: Parabolic PDEs*. We hope that you are enjoying the ride of [#numericalmooc](https://twitter.com/hashtag/numericalmooc) so far!\n",
    "\n",
    "We introduced finite-difference methods for partial differential equations (PDEs) in the [second module](https://github.com/numerical-mooc/numerical-mooc/tree/master/lessons/02_spacetime), and looked at convection problems in more depth in [module 3](https://github.com/numerical-mooc/numerical-mooc/tree/master/lessons/03_wave). Now we'll look at solving problems dominated by diffusion.\n",
    "\n",
    "Why do we separate the discussion of how to solve convection-dominated and diffusion-dominated problems, you might ask? It's all about the harmony between mathematical model and numerical method. Convection and diffusion are inherently different physical processes.\n",
    "\n",
    "The titles of the course modules are meant to spark your imagination: \n",
    "\n",
    "* _Riding the wave_—imagine a surfer on a tall wave, moving fast towards the beach ... convection implies transport, speed, direction. The physics has a directional bias, and we discovered that numerical methods should be compatible with that. That's why we use _upwind_ methods for convection, and we pay attention to problems where waves move in opposite directions, needing special schemes.\n",
    "\n",
    "* _Spreading out_—now imagine a drop of food dye in a cup of water, slowly spreading in all directions until all the liquid takes a uniform color. [Diffusion](http://en.wikipedia.org/wiki/Diffusion) spreads the concentration of something around (atoms, people, ideas, dirt, anything!). Since it is not a directional process, we need numerical methods that are isotropic (like central differences)."
   ]
  },
  {
   "cell_type": "code",
   "execution_count": 1,
   "metadata": {},
   "outputs": [
    {
     "data": {
      "text/html": [
       "<img src=\"http://upload.wikimedia.org/wikipedia/commons/f/f9/Blausen_0315_Diffusion.png\"/>"
      ],
      "text/plain": [
       "<IPython.core.display.Image object>"
      ]
     },
     "execution_count": 1,
     "metadata": {},
     "output_type": "execute_result"
    }
   ],
   "source": [
    "from IPython.display import Image\n",
    "Image(url='http://upload.wikimedia.org/wikipedia/commons/f/f9/Blausen_0315_Diffusion.png')"
   ]
  },
  {
   "cell_type": "markdown",
   "metadata": {},
   "source": [
    "## Parabolic PDEs"
   ]
  },
  {
   "cell_type": "markdown",
   "metadata": {},
   "source": [
    "You already met the simplest parabolic PDE—the [1-D diffusion equation](https://nbviewer.jupyter.org/github/numerical-mooc/numerical-mooc/blob/master/lessons/02_spacetime/02_03_1DDiffusion.ipynb)—in module 2. Its main feature is that it has a second-order derivative in space. Here it is again:\n",
    "\n",
    "$$\n",
    "\\frac{\\partial u}{\\partial t} = \\alpha \\frac{\\partial^2 u}{\\partial x^2}\n",
    "$$\n",
    "\n",
    "Check out the article on [parabolic PDEs](http://en.wikipedia.org/wiki/Parabolic_partial_differential_equation) in Wikipedia. Now compare with the diffusion equation above, with the two independent variables here being $x, t$. You'll see that with no mixed derivatives, and only one second-order derivative (in the spatial variable $x$), it satisfies the condition of a parabolic PDE. Work it out on a piece of paper if you need to.\n",
    "\n",
    "In the previous module, discussing hyperbolic conservation laws, we learned that solutions have characteristics: information travels along certain paths on space-time phase space. In contrast, parabolic equations don't have characteristics, because any local change in the initial condition will eventually affect the entire domain, although its effect will be felt at smaller intensity with longer distances. This is typical of diffusion processes.\n",
    "\n",
    "In this first lesson of the module, we first review the 1D diffusion equation and then take a deeper look into the issue of boundary conditions. In the next notebook, we'll introduce _implicit discretizations_ for the first time, which will take us to the land of linear solvers. In the third lesson we'll graduate to two dimensions—more boundary condition and stability issues will come up. We'll then study 2D implicit methods, and go into Crank-Nicolson method: perhaps the most popular of them all. _Enjoy!_"
   ]
  },
  {
   "cell_type": "markdown",
   "metadata": {},
   "source": [
    "## Heat conduction"
   ]
  },
  {
   "cell_type": "markdown",
   "metadata": {},
   "source": [
    "Heat conduction is a diffusive process. Let's remind ourselves of the heat equation in one spatial dimension:\n",
    "\n",
    "$$\n",
    "\\begin{equation}\n",
    "\\frac{\\partial T}{\\partial t} = \\alpha \\frac{\\partial^2 T}{\\partial x^2}\n",
    "\\end{equation}\n",
    "$$\n",
    "\n",
    "Here, $\\alpha$ is the thermal diffusivity, a property of the material, and $T$ is the temperature.\n",
    "\n",
    "In the [third lesson of module 2](https://nbviewer.jupyter.org/github/numerical-mooc/numerical-mooc/blob/master/lessons/02_spacetime/02_03_1DDiffusion.ipynb), we discretized the diffusion equation  with a forward-time, centered-space scheme, subject to the following stability constraint:\n",
    "\n",
    "$$\n",
    "\\begin{equation}\n",
    "\\alpha \\frac{\\Delta t}{(\\Delta x)^2} \\leq \\frac{1}{2}\n",
    "\\end{equation}\n",
    "$$\n",
    "\n",
    "Let's look into it more deeply now, using a 1D temperature-evolution problem."
   ]
  },
  {
   "cell_type": "markdown",
   "metadata": {},
   "source": [
    "### Problem set up"
   ]
  },
  {
   "cell_type": "markdown",
   "metadata": {},
   "source": [
    "Say we have a graphite rod, with [thermal diffusivity](http://en.wikipedia.org/wiki/Thermal_diffusivity) of $\\alpha=1.22\\times10^{-3} {\\rm m}^2/{\\rm s}$, length $L=1{\\rm m}$, and temperature $T=0{\\rm C}$ everywhere. At time $t=0$, we raise the temperature on the left-side end, $x=0$, to $T=100{\\rm C}$, and hold it there. *How will the temperature evolve in the rod?*\n",
    "\n",
    "As usual, start by importing some libraries and setting up the discretization. We'll begin by using a spatial grid with 51 points and advance for 100 time steps, using a forward-time/centered scheme."
   ]
  },
  {
   "cell_type": "markdown",
   "metadata": {},
   "source": [
    "![graphite-rod](./figures/graphite-rod.png)\n",
    ".\n",
    "#### Figure 1. Graphite rod, temperature fixed on ends."
   ]
  },
  {
   "cell_type": "code",
   "execution_count": 1,
   "metadata": {},
   "outputs": [],
   "source": [
    "import numpy\n",
    "from matplotlib import pyplot\n",
    "%matplotlib inline"
   ]
  },
  {
   "cell_type": "code",
   "execution_count": 2,
   "metadata": {},
   "outputs": [],
   "source": [
    "# Set the font family and size to use for Matplotlib figures.\n",
    "pyplot.rcParams['font.family'] = 'serif'\n",
    "pyplot.rcParams['font.size'] = 16"
   ]
  },
  {
   "cell_type": "code",
   "execution_count": 3,
   "metadata": {},
   "outputs": [],
   "source": [
    "# Set parameters.\n",
    "L = 1.0  # length of the rod\n",
    "nx = 51  # number of locations on the rod\n",
    "dx = L / (nx - 1)  # distance between two consecutive locations\n",
    "alpha = 1.22e-3  #  thermal diffusivity of the rod\n",
    "\n",
    "# Define the locations along the rod.\n",
    "x = numpy.linspace(0.0, L, num=nx)\n",
    "\n",
    "# Set the initial temperature along the rod.\n",
    "T0 = numpy.zeros(nx)\n",
    "T0[0] = 100.0"
   ]
  },
  {
   "cell_type": "markdown",
   "metadata": {},
   "source": [
    "Remember the forward-time, centered-space discretization? You should work it out on a piece of paper yourself (if you can't do it without looking it up, it means you need to do this more!).\n",
    "\n",
    "$$\n",
    "\\begin{equation}\n",
    "\\frac{T_{i}^{n+1}-T_{i}^{n}}{\\Delta t}=\\alpha\\frac{T_{i+1}^{n}-2T_{i}^{n}+T_{i-1}^{n}}{\\Delta x^2}\n",
    "\\end{equation}\n",
    "$$\n",
    "\n",
    "To obtain the temperature at the next time step, $T^{n+1}_i$, from the known information at the current time step, we compute\n",
    "\n",
    "$$\n",
    "\\begin{equation}\n",
    "T_{i}^{n+1}=T_{i}^{n}+\\frac{\\alpha\\Delta t}{\\Delta x^2}(T_{i+1}^{n}-2T_{i}^{n}+T_{i-1}^{n})\n",
    "\\end{equation}\n",
    "$$\n",
    "\n",
    "Check the [third notebook of module 2](https://nbviewer.jupyter.org/github/numerical-mooc/numerical-mooc/blob/master/lessons/02_spacetime/02_03_1DDiffusion.ipynb), if you need to refresh your memory!\n",
    "\n",
    "The following function implements this numerical scheme:"
   ]
  },
  {
   "cell_type": "code",
   "execution_count": 4,
   "metadata": {},
   "outputs": [],
   "source": [
    "def ftcs(T0, nt, dt, dx, alpha):\n",
    "    \"\"\"\n",
    "    Computes and returns the temperature along the rod\n",
    "    after a provided number of time steps,\n",
    "    given the initial temperature and thermal diffusivity.\n",
    "    The diffusion equation is integrated using forward \n",
    "    differencing in time and central differencing in space.\n",
    "    \n",
    "    Parameters\n",
    "    ----------\n",
    "    T0 : numpy.ndarray\n",
    "        The initial temperature along the rod as a 1D array of floats.\n",
    "    nt : integer\n",
    "        The number of time steps to compute.\n",
    "    dt : float\n",
    "        The time-step size to integrate.\n",
    "    dx : float\n",
    "        The distance between two consecutive locations.\n",
    "    alpha : float\n",
    "        The thermal diffusivity of the rod.\n",
    "    \n",
    "    Returns\n",
    "    -------\n",
    "    T : numpy.ndarray\n",
    "        The temperature along the rod as a 1D array of floats.\n",
    "    \"\"\"\n",
    "    T = T0.copy()\n",
    "    sigma = alpha * dt / dx**2\n",
    "    for n in range(nt):\n",
    "        T[1:-1] = (T[1:-1] +\n",
    "                   sigma * (T[2:] - 2.0 * T[1:-1] + T[:-2]))\n",
    "    return T"
   ]
  },
  {
   "cell_type": "markdown",
   "metadata": {},
   "source": [
    "We are all set to run! First, let's use a time step `dt` that satisfies the stability constraint."
   ]
  },
  {
   "cell_type": "code",
   "execution_count": 5,
   "metadata": {},
   "outputs": [],
   "source": [
    "# Set the time-step size based on CFL limit.\n",
    "nt = 100  # number of time steps to compute\n",
    "sigma = 0.5\n",
    "dt = sigma * dx**2 / alpha  # time-step size\n",
    "\n",
    "# Compute the temperature along the rod.\n",
    "T = ftcs(T0, nt, dt, dx, alpha)"
   ]
  },
  {
   "cell_type": "markdown",
   "metadata": {},
   "source": [
    "##### Note\n",
    "-----\n",
    "In the function `ftcs`, we *copy* the array `T0`; it ensures that the value of `T0` remains unchanged for us to reuse.\n",
    "\n",
    "Confused?  Take a look at [Lesson 0](./04_00_Python_Function_Quirks.ipynb) for a more in-depth explanation.\n",
    " \n",
    "-----\n",
    "\n",
    "Now plot the solution!"
   ]
  },
  {
   "cell_type": "code",
   "execution_count": 6,
   "metadata": {},
   "outputs": [
    {
     "data": {
      "image/png": "[encoded data removed]",
      "text/plain": [
       "<Figure size 432x288 with 1 Axes>"
      ]
     },
     "metadata": {
      "needs_background": "light"
     },
     "output_type": "display_data"
    }
   ],
   "source": [
    "# Plot the temperature along the rod.\n",
    "pyplot.figure(figsize=(6.0, 4.0))\n",
    "pyplot.xlabel('Distance [m]')\n",
    "pyplot.ylabel('Temperature [C]')\n",
    "pyplot.grid()\n",
    "pyplot.plot(x, T, color='C0', linestyle='-', linewidth=2)\n",
    "pyplot.xlim(0.0, L)\n",
    "pyplot.ylim(0.0, 100.0);"
   ]
  },
  {
   "cell_type": "markdown",
   "metadata": {},
   "source": [
    "## Boundary Conditions"
   ]
  },
  {
   "cell_type": "markdown",
   "metadata": {},
   "source": [
    "In the rod problem above, we stated that the left-hand side of the rod is held to a temperature $T = 100{\\rm C}$.  This is an example of a *boundary condition* (BC): a rule that defines how the problem interacts with the borders of the domain.  In this case, the domain spans the length of the rod, from $0 \\leq x \\leq 1$.\n",
    "\n",
    "There are many types of boundary conditions, and they have an important effect on the solution of the problem. For example, in [module 2, lesson 4](https://nbviewer.jupyter.org/github/numerical-mooc/numerical-mooc/blob/master/lessons/02_spacetime/02_04_1DBurgers.ipynb) on Burgers' Equation, we used a periodic boundary condition to \"connect\" the right-hand and left-hand borders of the domain.  \n",
    "\n",
    "We need to discuss boundary conditions in a little more detail, and this is good place to do it. Read on!"
   ]
  },
  {
   "cell_type": "markdown",
   "metadata": {},
   "source": [
    "### Dirichlet boundary"
   ]
  },
  {
   "cell_type": "markdown",
   "metadata": {},
   "source": [
    "The rod example above uses a *Dirichlet* BC on the left-hand side.  A Dirichlet boundary is one in which the border is held to a specific value of the solution variable.\n",
    "\n",
    "What about the right-hand end of the rod $(x=1)$?  In the discretization we set up above, the problem hasn't evolved for long enough time for the heat to travel the full length of the rod.  Let's increase the number of time steps, `nt`, and see what happens."
   ]
  },
  {
   "cell_type": "code",
   "execution_count": 16,
   "metadata": {},
   "outputs": [],
   "source": [
    "# Increase the number of time steps.\n",
    "nt = 1000\n",
    "\n",
    "# Compute the temperature along the rod.\n",
    "T = ftcs(T0, nt, dt, dx, alpha)"
   ]
  },
  {
   "cell_type": "code",
   "execution_count": 17,
   "metadata": {},
   "outputs": [
    {
     "data": {
      "image/png": "[encoded data removed]",
      "text/plain": [
       "<Figure size 432x288 with 1 Axes>"
      ]
     },
     "metadata": {
      "needs_background": "light"
     },
     "output_type": "display_data"
    }
   ],
   "source": [
    "# Plot the temperature along the rod.\n",
    "pyplot.figure(figsize=(6.0, 4.0))\n",
    "pyplot.xlabel('Distance [m]')\n",
    "pyplot.ylabel('Temperature [C]')\n",
    "pyplot.grid()\n",
    "pyplot.plot(x, T, color='C0', linestyle='-', linewidth=2)\n",
    "pyplot.xlim(0.0, L)\n",
    "pyplot.ylim(0.0, 100.0);"
   ]
  },
  {
   "cell_type": "markdown",
   "metadata": {},
   "source": [
    "Hmmm ... it looks like we're pinning the right BC to the value $T=0{\\rm C}$, do you agree?\n",
    "Now study the code for the `ftcs` function, above, and try to figure out what happens at the right-most point of the spatial grid. \n",
    "\n",
    "Did you figure it out? \n",
    "\n",
    "It never updates the value at `T[-1]`!  That value is set to zero in the initial condition and stays that way throughout the entire simulation.  We effectively have a Dirichlet boundary at *both* ends.  The left-hand side of the rod is held to a temperature of $T = 100{\\rm C}$ and the right-hand side is held to $T = 0{\\rm C}$  Because both end temperatures are \"pinned\" to set values, the temperature distribution within the rod will relax (after enough time) to a linear temperature gradient across the length of the rod.  \n",
    "\n",
    "Once the solution is relaxed, no number of extra time steps will make it change.  This is an example of a *steady-state solution* and we'll learn more about those in Module 5 of the course.\n",
    "\n",
    "Dirichlet BCs show up in many engineering applications, among them thermo- dynamics (e.g., setting a surface temperature) and fluid dynamics (e.g., the no-slip conditions at walls in viscous fluids)."
   ]
  },
  {
   "cell_type": "markdown",
   "metadata": {},
   "source": [
    "### Neumann boundary"
   ]
  },
  {
   "cell_type": "markdown",
   "metadata": {},
   "source": [
    "Another commonly used BC is the *Neumann* boundary: rather than specifying the value of the solution at the border, they specify the value of the *derivative* of the solution at the border.  \n",
    "\n",
    "In our example, if we apply a Neumann boundary to the right-hand end of the rod, we can represent that mathematically as\n",
    "\n",
    "$$\n",
    "\\begin{equation}\n",
    "\\left. \\frac{\\partial T}{\\partial x} \\right|_{x = 1} = q(t)\n",
    "\\end{equation}\n",
    "$$\n",
    "\n",
    "How can we enforce that in code?  One easy way is using a finite-difference discretization of the derivative at the boundary.  At time step $n$, for $N$ points, that would be\n",
    "\n",
    "$$\n",
    "\\begin{equation}\n",
    "\\left. \\frac{\\partial T}{\\partial x} \\right|_{x=1} \\approx \\frac{T^n_N - T^n_{N-1}}{\\Delta x} = q(t)\n",
    "\\end{equation}\n",
    "$$\n",
    "\n",
    "In the context of heat conduction, the space derivative of temperature is the heat flux density $q$, the amount of heat per unit time, per unit area.\n",
    "\n",
    "For example, if the rod at $x=1$ has some insulating material, no heat is going to be able to get out through that end, and the Neumann boundary condition is:\n",
    "\n",
    "$$\n",
    "\\begin{equation}\n",
    "\\left. \\frac{\\partial T}{\\partial x} \\right|_{x=1} = 0\n",
    "\\end{equation}\n",
    "$$\n",
    "\n",
    "Think about what the equation is saying: the change in temperature when moving in the $x$ direction is zero at the right-most edge of the rod. That means that the temperature should be equal on the last two spatial grid points.\n",
    "\n",
    "To enforce this Neumann boundary condition at the right-hand end of the rod, we add the following line of code:\n",
    "\n",
    "```Python\n",
    "T[-1] = T[-2]\n",
    "```\n",
    "\n",
    "That is, the temperature at the boundary (`T[-1]`) is equal to the temperature directly to its left (`T[-2]`).  The spatial gradient is zero and a Neumann condition is satisfied there."
   ]
  },
  {
   "cell_type": "markdown",
   "metadata": {},
   "source": [
    "The Dirichlet conditions in the rod example were enforced without any extra input from us, but the Neumann condition will require an update at each iteration of the loop.\n",
    "\n",
    "Finally, Dirichlet and Neumann BCs can sometimes be mixed to better represent the physics of a problem.\n",
    "\n",
    "Let's revisit the heated-rod problem.  This time, the temperature at $x = 0$ will remain fixed at $T = 100{\\rm C}$—that's the Dirichlet condition— and a Neumann BC applies at $x = 1$."
   ]
  },
  {
   "cell_type": "code",
   "execution_count": 18,
   "metadata": {},
   "outputs": [],
   "source": [
    "def ftcs_mixed_bcs(T0, nt, dt, dx, alpha):\n",
    "    \"\"\"\n",
    "    Computes and returns the temperature along the rod\n",
    "    after a provided number of time steps,\n",
    "    given the initial temperature and the thermal diffusivity.\n",
    "    The diffusion equation is integrated using forward \n",
    "    differencing in time and central differencing in space.\n",
    "    The function uses a Dirichlet condition on the left side\n",
    "    of the rod and a Neumann condition (zero-gradient) on the\n",
    "    right side.\n",
    "    \n",
    "    Parameters\n",
    "    ----------\n",
    "    T0 : numpy.ndarray\n",
    "        The initial temperature along the rod as a 1D array of floats.\n",
    "    nt : integer\n",
    "        The number of time steps to compute.\n",
    "    dt : float\n",
    "        The time-step size to integrate.\n",
    "    dx : float\n",
    "        The distance between two consecutive locations.\n",
    "    alpha : float\n",
    "        The thermal diffusivity of the rod.\n",
    "    \n",
    "    Returns\n",
    "    -------\n",
    "    T : numpy.ndarray\n",
    "        The temperature along the rod as a 1D array of floats.\n",
    "    \"\"\"\n",
    "    T = T0.copy()\n",
    "    sigma = alpha * dt / dx**2\n",
    "    for n in range(nt):\n",
    "        T[1:-1] = (T[1:-1] +\n",
    "                   sigma * (T[2:] - 2.0 * T[1:-1] + T[:-2]))\n",
    "        # Apply Neumann condition at the last location.\n",
    "        T[-1] = T[-2]\n",
    "    return T"
   ]
  },
  {
   "cell_type": "code",
   "execution_count": 27,
   "metadata": {},
   "outputs": [],
   "source": [
    "nt = 1000  # number of time steps to compute\n",
    "\n",
    "# Compute the temperature along the rod.\n",
    "T = ftcs_mixed_bcs(T0, nt, dt, dx, alpha)"
   ]
  },
  {
   "cell_type": "code",
   "execution_count": 28,
   "metadata": {},
   "outputs": [
    {
     "data": {
      "image/png": "[encoded data removed]",
      "text/plain": [
       "<Figure size 432x288 with 1 Axes>"
      ]
     },
     "metadata": {
      "needs_background": "light"
     },
     "output_type": "display_data"
    }
   ],
   "source": [
    "# Plot the temperature along the rod.\n",
    "pyplot.figure(figsize=(6.0, 4.0))\n",
    "pyplot.xlabel('Distance [m]')\n",
    "pyplot.ylabel('Temperature [C]')\n",
    "pyplot.grid()\n",
    "pyplot.plot(x, T, color='C0', linestyle='-', linewidth=2)\n",
    "pyplot.xlim(0.0, L)\n",
    "pyplot.ylim(0.0, 100.0);"
   ]
  },
  {
   "cell_type": "markdown",
   "metadata": {},
   "source": [
    "Now heat is accumulating in the domain. Our insulator works!  If you increase the number of time steps `nt` further, you will see that the outflow temperature at $x = 1$ continues to increase."
   ]
  },
  {
   "cell_type": "markdown",
   "metadata": {},
   "source": [
    "### Explicit schemes and BCs"
   ]
  },
  {
   "cell_type": "markdown",
   "metadata": {},
   "source": [
    "The numerical schemes we've learned so far are called _explicit_, because we compute the updated solution at $t^{n+1}$ using only known information at time $t^n$. This is simple but has limitations, particularly with the small sizes of time step necessary to obtain stability.\n",
    "\n",
    "Here's another issue with explicit schemes. Figure 2 shows the superposed stencil of several grid points over three time steps computed using the forward-time, centered scheme. You know that to calculate $T_i^{n+1}$ you use the information from the grid points $i-1, i, i+1$ at the previous time step. Think about what happens at the boundary: any change in the boundary condition will feed into the solution only at the next time step, not immediately. But this contradicts the physics of the problem, as any change on the boundary should be felt right away under the diffusion equation. To include boundary effects on the same time level, we can use an _implicit_ update (subject of the next lesson)."
   ]
  },
  {
   "cell_type": "markdown",
   "metadata": {},
   "source": [
    "![explicitFTCS-BCeffect](./figures/explicitFTCS-BCeffect.png)\n",
    ".\n",
    "#### Figure 2. Stencil with explicit scheme over 3 time steps."
   ]
  },
  {
   "cell_type": "markdown",
   "metadata": {},
   "source": [
    "### Explicit schemes and time step"
   ]
  },
  {
   "cell_type": "markdown",
   "metadata": {},
   "source": [
    "Let's replace the parameter $\\sigma=\\alpha \\frac{\\Delta t}{(\\Delta x)^2}$ into Equation 4 and rearrange it a little bit, grouping together the terms at grid point $i$ on the right-hand side:\n",
    "\n",
    "$$\n",
    "\\begin{equation}\n",
    "T_{i}^{n+1} = \\sigma T_{i-1}^{n}+(1- 2 \\sigma) T_{i}^{n} + \\sigma T_{i+1}^{n}\n",
    "\\end{equation}\n",
    "$$\n",
    "\n",
    "It's helpful to look at a sketch of the stencil for the heat equation with the weights added in for the contribution of each grid point. See Figure 3, which shows the weights for two values of $\\sigma$: $\\frac{1}{2}$ and $1$. Notice that with $\\sigma=\\frac{1}{2}$, the solution variable at the next time step is _independent_ from its own value at the present step, which seems a bit weird. And with $\\sigma=1$, the current value affects negatively the future value—now _that's_ a red flag!\n",
    "\n",
    "In fact, the solution will develop growing errors with $\\sigma>\\frac{1}{2}$, i.e., become unstable. This limits the time step that can be used quite significantly, because $\\Delta t \\propto (\\Delta x)^2$. This is a serious cost of _explicit_ methods and an incentive to consider _implicit_ alternatives (next lesson)."
   ]
  },
  {
   "cell_type": "markdown",
   "metadata": {},
   "source": [
    "![stencil-weights](./figures/stencil-weights.png)\n",
    ".\n",
    "#### Figure 3. Stencils for the heat equation with $\\sigma= \\frac{1}{2}, 1$."
   ]
  },
  {
   "cell_type": "markdown",
   "metadata": {},
   "source": [
    "---\n",
    "###### The cell below loads the style of the notebook"
   ]
  },
  {
   "cell_type": "code",
   "execution_count": 13,
   "metadata": {},
   "outputs": [
    {
     "data": {
      "text/html": [
       "<link href='http://fonts.googleapis.com/css?family=Alegreya+Sans:100,300,400,500,700,800,900,100italic,300italic,400italic,500italic,700italic,800italic,900italic' rel='stylesheet' type='text/css'>\n",
       "<link href='http://fonts.googleapis.com/css?family=Arvo:400,700,400italic' rel='stylesheet' type='text/css'>\n",
       "<link href='http://fonts.googleapis.com/css?family=PT+Mono' rel='stylesheet' type='text/css'>\n",
       "<link href='http://fonts.googleapis.com/css?family=Shadows+Into+Light' rel='stylesheet' type='text/css'>\n",
       "<link href='http://fonts.googleapis.com/css?family=Nixie+One' rel='stylesheet' type='text/css'>\n",
       "<link href='https://fonts.googleapis.com/css?family=Source+Code+Pro' rel='stylesheet' type='text/css'>\n",
       "<style>\n",
       "\n",
       "@font-face {\n",
       "    font-family: \"Computer Modern\";\n",
       "    src: url('http://mirrors.ctan.org/fonts/cm-unicode/fonts/otf/cmunss.otf');\n",
       "}\n",
       "\n",
       "#notebook_panel { /* main background */\n",
       "    background: rgb(245,245,245);\n",
       "}\n",
       "\n",
       "div.cell { /* set cell width */\n",
       "    width: 750px;\n",
       "}\n",
       "\n",
       "div #notebook { /* centre the content */\n",
       "    background: #fff; /* white background for content */\n",
       "    width: 1000px;\n",
       "    margin: auto;\n",
       "    padding-left: 0em;\n",
       "}\n",
       "\n",
       "#notebook li { /* More space between bullet points */\n",
       "    margin-top:0.8em;\n",
       "}\n",
       "\n",
       "/* draw border around running cells */\n",
       "div.cell.border-box-sizing.code_cell.running { \n",
       "    border: 1px solid #111;\n",
       "}\n",
       "\n",
       "/* Put a solid color box around each cell and its output, visually linking them*/\n",
       "div.cell.code_cell {\n",
       "    background-color: rgb(256,256,256); \n",
       "    border-radius: 0px; \n",
       "    padding: 0.5em;\n",
       "    margin-left:1em;\n",
       "    margin-top: 1em;\n",
       "}\n",
       "\n",
       "div.text_cell_render{\n",
       "    font-family: 'Alegreya Sans' sans-serif;\n",
       "    line-height: 140%;\n",
       "    font-size: 125%;\n",
       "    font-weight: 400;\n",
       "    width:600px;\n",
       "    margin-left:auto;\n",
       "    margin-right:auto;\n",
       "}\n",
       "\n",
       "\n",
       "/* Formatting for header cells */\n",
       ".text_cell_render h1 {\n",
       "    font-family: 'Nixie One', serif;\n",
       "    font-style:regular;\n",
       "    font-weight: 400;    \n",
       "    font-size: 45pt;\n",
       "    line-height: 100%;\n",
       "    color: rgb(0,51,102);\n",
       "    margin-bottom: 0.5em;\n",
       "    margin-top: 0.5em;\n",
       "    display: block;\n",
       "}\n",
       "\n",
       ".text_cell_render h2 {\n",
       "    font-family: 'Nixie One', serif;\n",
       "    font-weight: 400;\n",
       "    font-size: 30pt;\n",
       "    line-height: 100%;\n",
       "    color: rgb(0,51,102);\n",
       "    margin-bottom: 0.1em;\n",
       "    margin-top: 0.3em;\n",
       "    display: block;\n",
       "}\t\n",
       "\n",
       ".text_cell_render h3 {\n",
       "    font-family: 'Nixie One', serif;\n",
       "    margin-top:16px;\n",
       "    font-size: 22pt;\n",
       "    font-weight: 600;\n",
       "    margin-bottom: 3px;\n",
       "    font-style: regular;\n",
       "    color: rgb(102,102,0);\n",
       "}\n",
       "\n",
       ".text_cell_render h4 {    /*Use this for captions*/\n",
       "    font-family: 'Nixie One', serif;\n",
       "    font-size: 14pt;\n",
       "    text-align: center;\n",
       "    margin-top: 0em;\n",
       "    margin-bottom: 2em;\n",
       "    font-style: regular;\n",
       "}\n",
       "\n",
       ".text_cell_render h5 {  /*Use this for small titles*/\n",
       "    font-family: 'Nixie One', sans-serif;\n",
       "    font-weight: 400;\n",
       "    font-size: 16pt;\n",
       "    color: rgb(163,0,0);\n",
       "    font-style: italic;\n",
       "    margin-bottom: .1em;\n",
       "    margin-top: 0.8em;\n",
       "    display: block;\n",
       "}\n",
       "\n",
       ".text_cell_render h6 { /*use this for copyright note*/\n",
       "    font-family: 'PT Mono', sans-serif;\n",
       "    font-weight: 300;\n",
       "    font-size: 9pt;\n",
       "    line-height: 100%;\n",
       "    color: grey;\n",
       "    margin-bottom: 1px;\n",
       "    margin-top: 1px;\n",
       "}\n",
       "\n",
       ".CodeMirror{\n",
       "    font-family: \"Source Code Pro\";\n",
       "    font-size: 90%;\n",
       "}\n",
       "\n",
       ".alert-box {\n",
       "    padding:10px 10px 10px 36px;\n",
       "    margin:5px;\n",
       "}\n",
       "\n",
       ".success {\n",
       "    color:#666600;\n",
       "    background:rgb(240,242,229);\n",
       "}\n",
       "</style>\n",
       "\n",
       "<script>\n",
       "    MathJax.Hub.Config({\n",
       "                        TeX: {\n",
       "                            extensions: [\"AMSmath.js\"],\n",
       "                            equationNumbers: { autoNumber: \"AMS\", useLabelIds: true}\n",
       "                            },\n",
       "                        tex2jax: {\n",
       "                            inlineMath: [ ['$','$'], [\"\\\\(\",\"\\\\)\"] ],\n",
       "                            displayMath: [ ['$$','$$'], [\"\\\\[\",\"\\\\]\"] ]\n",
       "                            },\n",
       "                        displayAlign: 'center', // Change this to 'center' to center equations.\n",
       "                        \"HTML-CSS\": {\n",
       "                            styles: {'.MathJax_Display': {\"margin\": 4}}\n",
       "                            }\n",
       "                        });\n",
       "    MathJax.Hub.Queue(\n",
       "                      [\"resetEquationNumbers\", MathJax.InputJax.TeX],\n",
       "                      [\"PreProcess\", MathJax.Hub],\n",
       "                      [\"Reprocess\", MathJax.Hub]\n",
       "                     );\n",
       "</script>\n"
      ],
      "text/plain": [
       "<IPython.core.display.HTML object>"
      ]
     },
     "execution_count": 13,
     "metadata": {},
     "output_type": "execute_result"
    }
   ],
   "source": [
    "from IPython.core.display import HTML\n",
    "css_file = '../../styles/numericalmoocstyle.css'\n",
    "HTML(open(css_file, 'r').read())"
   ]
  }
 ],
 "metadata": {
  "kernelspec": {
   "display_name": "Python 3",
   "language": "python",
   "name": "python3"
  },
  "language_info": {
   "codemirror_mode": {
    "name": "ipython",
    "version": 3
   },
   "file_extension": ".py",
   "mimetype": "text/x-python",
   "name": "python",
   "nbconvert_exporter": "python",
   "pygments_lexer": "ipython3",
   "version": "3.7.3"
  }
 },
 "nbformat": 4,
 "nbformat_minor": 1
}
