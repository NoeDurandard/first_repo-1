{
 "cells": [
  {
   "cell_type": "markdown",
   "metadata": {},
   "source": [
    "###### Content under Creative Commons Attribution license CC-BY 4.0, code under MIT license (c)2014 L.A. Barba, G.F. Forsyth, C. Cooper. Based on [CFDPython](https://github.com/barbagroup/CFDPython), (c)2013 L.A. Barba, also under CC-BY license."
   ]
  },
  {
   "cell_type": "markdown",
   "metadata": {},
   "source": [
    "# Space & Time"
   ]
  },
  {
   "cell_type": "markdown",
   "metadata": {},
   "source": [
    "## 1-D Diffusion"
   ]
  },
  {
   "cell_type": "markdown",
   "metadata": {},
   "source": [
    "Welcome back! This is the third Jupyter Notebook of the series *Space and Time — Introduction of Finite-difference solutions of PDEs*, the second module of [\"Practical Numerical Methods with Python\"](https://openedx.seas.gwu.edu/courses/course-v1:MAE+MAE6286+2017/about). \n",
    "\n",
    "In the previous Jupyter notebooks of this series, we studied the numerical solution of the linear and non-linear convection equations using the finite-difference method, and learned about the CFL condition. Now, we will look at the one-dimensional diffusion equation:\n",
    "\n",
    "$$\n",
    "\\begin{equation}\n",
    "\\frac{\\partial u}{\\partial t}= \\nu \\frac{\\partial^2 u}{\\partial x^2}\n",
    "\\end{equation}\n",
    "$$\n",
    "\n",
    "where $\\nu$ is a constant known as the *diffusion coefficient*.\n",
    "\n",
    "The first thing you should notice is that this equation has a second-order derivative. We first need to learn what to do with it!"
   ]
  },
  {
   "cell_type": "markdown",
   "metadata": {},
   "source": [
    "### Discretizing 2nd-order derivatives"
   ]
  },
  {
   "cell_type": "markdown",
   "metadata": {},
   "source": [
    "The second-order derivative can be represented geometrically as the line tangent to the curve given by the first derivative.  We will discretize the second-order derivative with a Central Difference scheme: a combination of forward difference and backward difference of the first derivative.  Consider the Taylor expansion of $u_{i+1}$ and $u_{i-1}$ around $u_i$:\n",
    "\n",
    "$$\n",
    "u_{i+1} = u_i + \\Delta x \\frac{\\partial u}{\\partial x}\\big|_i + \\frac{\\Delta x^2}{2!} \\frac{\\partial ^2 u}{\\partial x^2}\\big|_i + \\frac{\\Delta x^3}{3!} \\frac{\\partial ^3 u}{\\partial x^3}\\big|_i + {\\mathcal O}(\\Delta x^4)\n",
    "$$\n",
    "\n",
    "$$\n",
    "u_{i-1} = u_i - \\Delta x \\frac{\\partial u}{\\partial x}\\big|_i + \\frac{\\Delta x^2}{2!} \\frac{\\partial ^2 u}{\\partial x^2}\\big|_i - \\frac{\\Delta x^3}{3!} \\frac{\\partial ^3 u}{\\partial x^3}\\big|_i + {\\mathcal O}(\\Delta x^4)\n",
    "$$\n",
    "\n",
    "If we add these two expansions, the odd-numbered derivatives will cancel out.  Neglecting any terms of ${\\mathcal O}(\\Delta x^4)$ or higher (and really, those are very small), we can rearrange the sum of these two expansions to solve for the second-derivative.  \n",
    "\n",
    "$$\n",
    "u_{i+1} + u_{i-1} = 2u_i+\\Delta x^2 \\frac{\\partial ^2 u}{\\partial x^2}\\big|_i + {\\mathcal O}(\\Delta x^4)\n",
    "$$\n",
    "\n",
    "And finally:\n",
    "\n",
    "$$\n",
    "\\begin{equation}\n",
    "\\frac{\\partial ^2 u}{\\partial x^2}=\\frac{u_{i+1}-2u_{i}+u_{i-1}}{\\Delta x^2} + {\\mathcal O}(\\Delta x^2)\n",
    "\\end{equation}\n",
    "$$\n",
    "\n",
    "The central difference approximation of the 2nd-order derivative is 2nd-order accurate."
   ]
  },
  {
   "cell_type": "markdown",
   "metadata": {},
   "source": [
    "### Back to diffusion"
   ]
  },
  {
   "cell_type": "markdown",
   "metadata": {},
   "source": [
    "We can now write the discretized version of the diffusion equation in 1D:\n",
    "\n",
    "$$\n",
    "\\begin{equation}\n",
    "\\frac{u_{i}^{n+1}-u_{i}^{n}}{\\Delta t}=\\nu\\frac{u_{i+1}^{n}-2u_{i}^{n}+u_{i-1}^{n}}{\\Delta x^2}\n",
    "\\end{equation}\n",
    "$$\n",
    "\n",
    "As before, we notice that once we have an initial condition, the only unknown is $u_{i}^{n+1}$, so we re-arrange the equation to isolate this term:\n",
    "\n",
    "$$\n",
    "\\begin{equation}\n",
    "u_{i}^{n+1}=u_{i}^{n}+\\frac{\\nu\\Delta t}{\\Delta x^2}(u_{i+1}^{n}-2u_{i}^{n}+u_{i-1}^{n})\n",
    "\\end{equation}\n",
    "$$\n",
    "\n",
    "This discrete equation allows us to write a program that advances a solution in time—but we need an initial condition. Let's continue using our favorite: the hat function. So, at $t=0$, $u=2$ in the interval $0.5\\le x\\le 1$ and $u=1$ everywhere else."
   ]
  },
  {
   "cell_type": "markdown",
   "metadata": {},
   "source": [
    "### Stability of the diffusion equation"
   ]
  },
  {
   "cell_type": "markdown",
   "metadata": {},
   "source": [
    "The diffusion equation is not free of stability constraints. Just like the linear and non-linear convection equations, there are a set of discretization parameters $\\Delta x$ and $\\Delta t$ that will make the numerical solution blow up. For the diffusion equation and the discretization used here, the stability condition for diffusion is\n",
    "\n",
    "$$\n",
    "\\begin{equation}\n",
    "\\nu \\frac{\\Delta t}{\\Delta x^2} \\leq \\frac{1}{2}\n",
    "\\end{equation}\n",
    "$$"
   ]
  },
  {
   "cell_type": "markdown",
   "metadata": {},
   "source": [
    "### And solve!"
   ]
  },
  {
   "cell_type": "markdown",
   "metadata": {},
   "source": [
    " We are ready to number-crunch!\n",
    "\n",
    "The next two code cells initialize the problem by loading the needed libraries, then defining the solution parameters and initial condition. This time, we don't let the user choose just *any* $\\Delta t$, though; we have decided this is not safe: people just like to blow things up. Instead, the code calculates a value of $\\Delta t$ that will be in the stable range, according to the spatial discretization chosen! You can now experiment with different solution parameters to see how the numerical solution changes, but it won't blow up."
   ]
  },
  {
   "cell_type": "code",
   "execution_count": 1,
   "metadata": {},
   "outputs": [],
   "source": [
    "import numpy\n",
    "from matplotlib import pyplot\n",
    "%matplotlib inline"
   ]
  },
  {
   "cell_type": "code",
   "execution_count": 2,
   "metadata": {},
   "outputs": [],
   "source": [
    "# Set the font family and size to use for Matplotlib figures.\n",
    "pyplot.rcParams['font.family'] = 'serif'\n",
    "pyplot.rcParams['font.size'] = 16"
   ]
  },
  {
   "cell_type": "code",
   "execution_count": 22,
   "metadata": {},
   "outputs": [],
   "source": [
    "# Set parameters.\n",
    "nx = 41  # number spatial grid points\n",
    "L = 2.0  # length of the domain\n",
    "dx = L / (nx - 1)  # spatial grid size\n",
    "nu = 0.3  # viscosity\n",
    "sigma = 0.2  # CFL limit\n",
    "dt = sigma * dx**2 / nu  # time-step size\n",
    "nt = 20  # number of time steps to compute\n",
    "\n",
    "# Get the grid point coordinates.\n",
    "x = numpy.linspace(0.0, L, num=nx)\n",
    "\n",
    "# Set the initial conditions.\n",
    "u0 = numpy.ones(nx)\n",
    "mask = numpy.where(numpy.logical_and(x >= 0.5, x <= 1.0))\n",
    "u0[mask] = 2.0"
   ]
  },
  {
   "cell_type": "code",
   "execution_count": 23,
   "metadata": {},
   "outputs": [],
   "source": [
    "# Integrate in time.\n",
    "u = u0.copy()\n",
    "for n in range(nt):\n",
    "    u[1:-1] = u[1:-1] + nu * dt / dx**2 * (u[2:] - 2 * u[1:-1] + u[:-2])"
   ]
  },
  {
   "cell_type": "code",
   "execution_count": 24,
   "metadata": {},
   "outputs": [
    {
     "data": {
      "image/png": "[encoded data removed]",
      "text/plain": [
       "<Figure size 432x288 with 1 Axes>"
      ]
     },
     "metadata": {
      "needs_background": "light"
     },
     "output_type": "display_data"
    }
   ],
   "source": [
    "# Plot the solution after nt time steps\n",
    "# along with the initial conditions.\n",
    "pyplot.figure(figsize=(6.0, 4.0))\n",
    "pyplot.xlabel('x')\n",
    "pyplot.ylabel('u')\n",
    "pyplot.grid()\n",
    "pyplot.plot(x, u0, label='Initial',\n",
    "            color='C0', linestyle='--', linewidth=2)\n",
    "pyplot.plot(x, u, label='nt = {}'.format(nt),\n",
    "            color='C1', linestyle='-', linewidth=2)\n",
    "pyplot.legend(loc='upper right')\n",
    "pyplot.xlim(0.0, L)\n",
    "pyplot.ylim(0.5, 2.5);"
   ]
  },
  {
   "cell_type": "markdown",
   "metadata": {},
   "source": [
    "## Animations"
   ]
  },
  {
   "cell_type": "markdown",
   "metadata": {},
   "source": [
    "Looking at before-and-after plots of the wave in motion is helpful, but it's even better if we can see it changing! \n",
    "\n",
    "First, let's import the `animation` module of `matplotlib` as well as a special IPython display method called `HTML` (more on this in a bit)."
   ]
  },
  {
   "cell_type": "markdown",
   "metadata": {},
   "source": [
    "##### Note\n",
    "\n",
    "You will also have to install a video encoder/decoder named `ffmpeg`.\n",
    "\n",
    "If you use Linux or OSX, you can install ffmpeg using conda:\n",
    "```\n",
    "conda install -c conda-forge ffmpeg\n",
    "```\n",
    "\n",
    "If you use Windows, installation instructions can be found [here](http://adaptivesamples.com/how-to-install-ffmpeg-on-windows/)."
   ]
  },
  {
   "cell_type": "code",
   "execution_count": 25,
   "metadata": {},
   "outputs": [],
   "source": [
    "from matplotlib import animation\n",
    "from IPython.display import HTML"
   ]
  },
  {
   "cell_type": "markdown",
   "metadata": {},
   "source": [
    "We are going to create an animation.\n",
    "This takes a few steps, but it's actually not hard to do!\n",
    "\n",
    "First, we define a function, called `diffusion`, that computes the numerical solution of the 1D diffusion equation over the time steps.\n",
    "(The function returns a list with `nt` elements, each one being a Numpy array.)"
   ]
  },
  {
   "cell_type": "code",
   "execution_count": 26,
   "metadata": {},
   "outputs": [],
   "source": [
    "def diffusion(u0, sigma=0.5, nt=20):\n",
    "    \"\"\"\n",
    "    Computes the numerical solution of the 1D diffusion equation\n",
    "    over the time steps.\n",
    "    \n",
    "    Parameters\n",
    "    ----------\n",
    "    u0 : numpy.ndarray\n",
    "        The initial conditions as a 1D array of floats.\n",
    "    sigma : float, optional\n",
    "        The value of nu * dt / dx^2;\n",
    "        default: 0.5.\n",
    "    nt : integer, optional\n",
    "        The number of time steps to compute;\n",
    "        default: 20.\n",
    "    \n",
    "    Returns\n",
    "    -------\n",
    "    u_hist : list of numpy.ndarray objects\n",
    "        The history of the numerical solution.\n",
    "    \"\"\"\n",
    "    u_hist = [u0.copy()]\n",
    "    u = u0.copy()\n",
    "    for n in range(nt):\n",
    "        u[1:-1] = u[1:-1] + sigma * (u[2:] - 2 * u[1:-1] + u[:-2])\n",
    "        u_hist.append(u.copy())\n",
    "    return u_hist"
   ]
  },
  {
   "cell_type": "markdown",
   "metadata": {},
   "source": [
    "We now call the function to store the history of the solution:"
   ]
  },
  {
   "cell_type": "code",
   "execution_count": 27,
   "metadata": {},
   "outputs": [],
   "source": [
    "# Compute the history of the numerical solution.\n",
    "u_hist = diffusion(u0, sigma=sigma, nt=nt)"
   ]
  },
  {
   "cell_type": "markdown",
   "metadata": {},
   "source": [
    "Next, we create a Matplotlib figure that we want to animate.\n",
    "For now, the figure contains the initial solution (our top-hat function)."
   ]
  },
  {
   "cell_type": "code",
   "execution_count": 28,
   "metadata": {},
   "outputs": [
    {
     "data": {
      "image/png": "[encoded data removed]",
      "text/plain": [
       "<Figure size 432x288 with 1 Axes>"
      ]
     },
     "metadata": {
      "needs_background": "light"
     },
     "output_type": "display_data"
    }
   ],
   "source": [
    "fig = pyplot.figure(figsize=(6.0, 4.0))\n",
    "pyplot.xlabel('x')\n",
    "pyplot.ylabel('u')\n",
    "pyplot.grid()\n",
    "line = pyplot.plot(x, u0,\n",
    "                   color='C0', linestyle='-', linewidth=2)[0]\n",
    "pyplot.xlim(0.0, L)\n",
    "pyplot.ylim(0.5, 2.5)\n",
    "fig.tight_layout()"
   ]
  },
  {
   "cell_type": "markdown",
   "metadata": {},
   "source": [
    "**Note**: `pyplot.plot()` can (optionally) return several values. Since we're only creating one line, we ask it for the \"zeroth\" (and only...) line by adding `[0]` after the `pyplot.plot()` call."
   ]
  },
  {
   "cell_type": "markdown",
   "metadata": {},
   "source": [
    "Now that our figure is initialized, we define a function `update_plot` to update the data of the line plot based on the time-step index."
   ]
  },
  {
   "cell_type": "code",
   "execution_count": 29,
   "metadata": {},
   "outputs": [],
   "source": [
    "def update_plot(n, u_hist):\n",
    "    \"\"\"\n",
    "    Update the line y-data of the Matplotlib figure.\n",
    "    \n",
    "    Parameters\n",
    "    ----------\n",
    "    n : integer\n",
    "        The time-step index.\n",
    "    u_hist : list of numpy.ndarray objects\n",
    "        The history of the numerical solution.\n",
    "    \"\"\"\n",
    "    fig.suptitle('Time step {:0>2}'.format(n))\n",
    "    line.set_ydata(u_hist[n])"
   ]
  },
  {
   "cell_type": "markdown",
   "metadata": {},
   "source": [
    "Next, we create an `animation.FuncAnimation` object with the following arguments:\n",
    "\n",
    "* `fig`: the name of our figure,\n",
    "* `diffusion`: the name of our solver function,\n",
    "* `frames`: the number of frames to dra (which we set equal to `nt`),\n",
    "* `fargs`: extra arguments to pass to the function `diffusion`,\n",
    "* `interval`: the number of milliseconds each frame appears for."
   ]
  },
  {
   "cell_type": "code",
   "execution_count": 30,
   "metadata": {},
   "outputs": [],
   "source": [
    "# Create an animation.\n",
    "anim = animation.FuncAnimation(fig, update_plot,\n",
    "                               frames=nt, fargs=(u_hist,),\n",
    "                               interval=100)"
   ]
  },
  {
   "cell_type": "markdown",
   "metadata": {},
   "source": [
    "Ok! Time to display the animation.\n",
    "We use the `HTML` display method that we imported above and the `to_html5_video` method of the animation object to make it web compatible."
   ]
  },
  {
   "cell_type": "code",
   "execution_count": 31,
   "metadata": {},
   "outputs": [
    {
     "data": {
      "text/html": [
       "<video width=\"432\" height=\"288\" controls autoplay loop>\n",
       "  <source type=\"video/mp4\" src=\"data:video/mp4;base64,AAAAHGZ0eXBNNFYgAAACAGlzb21pc28yYXZjMQAAAAhmcmVlAAA0JG1kYXQAAAKuBgX//6rcRem9\n",
       "5tlIt5Ys2CDZI+7veDI2NCAtIGNvcmUgMTUyIHIyODU0IGU5YTU5MDMgLSBILjI2NC9NUEVHLTQg\n",
       "QVZDIGNvZGVjIC0gQ29weWxlZnQgMjAwMy0yMDE3IC0gaHR0cDovL3d3dy52aWRlb2xhbi5vcmcv\n",
       "eDI2NC5odG1sIC0gb3B0aW9uczogY2FiYWM9MSByZWY9MyBkZWJsb2NrPTE6MDowIGFuYWx5c2U9\n",
       "MHgzOjB4MTEzIG1lPWhleCBzdWJtZT03IHBzeT0xIHBzeV9yZD0xLjAwOjAuMDAgbWl4ZWRfcmVm\n",
       "PTEgbWVfcmFuZ2U9MTYgY2hyb21hX21lPTEgdHJlbGxpcz0xIDh4OGRjdD0xIGNxbT0wIGRlYWR6\n",
       "b25lPTIxLDExIGZhc3RfcHNraXA9MSBjaHJvbWFfcXBfb2Zmc2V0PS0yIHRocmVhZHM9OSBsb29r\n",
       "YWhlYWRfdGhyZWFkcz0xIHNsaWNlZF90aHJlYWRzPTAgbnI9MCBkZWNpbWF0ZT0xIGludGVybGFj\n",
       "ZWQ9MCBibHVyYXlfY29tcGF0PTAgY29uc3RyYWluZWRfaW50cmE9MCBiZnJhbWVzPTMgYl9weXJh\n",
       "bWlkPTIgYl9hZGFwdD0xIGJfYmlhcz0wIGRpcmVjdD0xIHdlaWdodGI9MSBvcGVuX2dvcD0wIHdl\n",
       "aWdodHA9MiBrZXlpbnQ9MjUwIGtleWludF9taW49MTAgc2NlbmVjdXQ9NDAgaW50cmFfcmVmcmVz\n",
       "aD0wIHJjX2xvb2thaGVhZD00MCByYz1jcmYgbWJ0cmVlPTEgY3JmPTIzLjAgcWNvbXA9MC42MCBx\n",
       "cG1pbj0wIHFwbWF4PTY5IHFwc3RlcD00IGlwX3JhdGlvPTEuNDAgYXE9MToxLjAwAIAAABIbZYiE\n",
       "ABD//veBvzLLXyK6yXH5530srM885F1+3+e4/zAHRoX5M2azeC6u0zKlhFQkOz2kdtu+aN+r8amq\n",
       "nrPYuHWkzuJTuMVtVryF432l7S5IEnyeCN7vZ86rxvvklPhPlsL2SFFPxRjhOuosx3f2o+BprQ8T\n",
       "j8zAYqL1Ps4h2NK7AgOQ6esoBKmUlJYpjnzTgpL0hmOaFNnZFUevppSKBaZmv3BKY76S9D/IOOis\n",
       "HN1TLZQ7zwHitcYEXwktzRBei7N9/9+Di//IINlAEYhcMYstTl1VvlIoA3F4pdv0UHB3ueih0jI0\n",
       "dUShyIKgFfKgpCam/YeqoBBQ2yD2kpwyO2MnFv6+jRWx3m4sgyVJeB1PD8WKRaghvfgsGFoUyDJR\n",
       "jnQK6QLxHnwG11ajkG7NPKFzC1ce10Te76oetZgW1U44VQULsKsrB0RI/V2KP0fgW+flJYSNCX84\n",
       "Pk5MWMuUTnAGbmJwIP0Jqq2wGfiHlUXLg1fwPkUyDrBqovhbtAUgCS00JEdNMWkW1Fi1dNfFfFfe\n",
       "bIj5CmSXjTDD5LKFhByTjPJ8QAwBbRQdmVh1ikyGJMJgVprTQmnIxGd0V/sifignf39VmD5efXNN\n",
       "79Vqs4IsrjX/cPwU4Ce8kOPI/fqM/cmpLW1n7hmH5hQ71ahvJoDZkbrydwTVT6JunwsHnM1l/LR3\n",
       "HfiLr0HUTN8NVv6HXAZqNVJLiSbC29oAGJUjS+y2QDYzZ0uSFlLJjEHxRgmC1NS7GghepyE1hcIU\n",
       "t/c1/+fGzhIn4wfIf7fPmsr4WlN+8Ff3hCDNpMcdkyTCNLcLFXZFQXQ8Bj1Qgj3JG4QPrBbxQ3Nz\n",
       "tU4PezBPb6xKRoCfALH10RS8pCTaZ5EMJjnMYdLV5FByss68xS57AOcm1yGfnxX5J3cpvXVChxxS\n",
       "Yn1hibfB0DDLaT1okzqSnI5w0AAoAqsQNtU8kj13IHNtOF7bImkAABFCy3JUgxjU+BzuGakBIiSq\n",
       "QMD7W27Wt/0B2co3ct8cevBFRievfXLk6PcS+sT7BbXbZmHEOtUOvgKyOx+NOlqnkTUJj2otlVft\n",
       "0AQgmqnM1kavXjnjYdplSvKI97oWNjkJy7W1uUo5gRFAeR1pysLapBRq7hutY54F6cVDYbzYfHEx\n",
       "Aw1vGwW+79pqgU9f9hO4ywPd1H/v4gcSwI9G5lK/8dFE1pXe6miCdxWJx9W9pcMq7dYYFH7y7BLQ\n",
       "S1FErtoi4zr9EIUKfIAQ6W7mQeQQ6THZpguQlg9X2/VcGn7Qqdy/dzU/r93sRNo5TJPdaOIBPr0i\n",
       "RfoUfKH4sCgicab31lqo4QZ/s+wLkbnwfam0aQxOO22TWFobbP55jN945LgZQuPmOThaNmwTrhYQ\n",
       "hMED4jU6JL58sLDfsi2RUSTFadLk8sUB5KemhNI7JOj+i47w/e06pXVYH3jaVwb1FaFAUYyDgv0r\n",
       "G1oc+wzaluobcOzbfL7SFlNNUnaKc2brl+/zAEedRcpbwe8PSK0XqPtpG2NXLNifCLV6TFTvruBu\n",
       "PxNTz9Jecw3ZJKvV9tbF1jgtRaHTmTdE0RQ1CgS3zsOJHWW2DhatKafLIAnAfpU2IVccjAnixI2l\n",
       "xpDrUNaTgJMFHzFuFkBbJ77MVxK0D4ysESbr0XyQIPHIQ08OmzUaQaaDDmTRXTJ1W4CfdDAg6+aV\n",
       "p86fP47Nqki1a//74akZr4/GktNfLfQv83J5j8LNExBH8ddrD2YZed+CFxmQHEX0cOrB6+crIwxU\n",
       "UATHKqkD97e9eBVS4njf4Jln6gP1+k0nuB9dXVdc90a1bSXUPzEFxDFmvG2TGj3XmnMtDceRKRaJ\n",
       "6bwAl3YX+ovxi8TzORMEuXSGYiVrX9neVL/oiI4bfTo9pOQgjgMZw/VYDJ8Ga+RD92K3OOoxa0Vi\n",
       "1/GcUmgb36GMenUhBgynW8wXkw6SwZvdoVxcokmu60YwHP3fv30Hp4MoKhjZnFZxScDlRuaA1pCO\n",
       "sQq73SS1g24QFleYgzk6QQ6ohBMC2Lnrp//3InOvP8C7EoCm+EuB19tBKKf7/Qv5uN5xNdd54er4\n",
       "3SwALZoTCY5/dz32QK/9tFNmma4BRUp/3Z/rgl6NDJG12t3Ly0v6LRRNFYgycGsxR0QHli/vDFo+\n",
       "2bc9iJ5kzjH/8r8tpd517dWOe9ZiAJmH8jhl7KwBXZaWNpY+afxoDc0GnEEhTcf32I14P9U/LGGA\n",
       "NMeinbDmjVHAJDdEBSFSol5pO5wYWk1M+yGTxpwj++gADNpkXoJMYUgI7o8dedkyGqCsFDhzk0FE\n",
       "kCwuZAET0R2SNYkniBeetZCRPu99vapTvrHz2H3XbW8v0pa7vZZK0EMUOourzCmma76qyWxYATJE\n",
       "rFO5ojkfRo5PyNxCG9fH7lWP/OticDAmtrIF5n4X6qBAAADjBp+Htc3cKOSIRrykWz1F/lvbi3kO\n",
       "6aGgbOXgmHBICUmMx6EKj5HeqWAgIOhhD54c9SnnNhFm0TDRGYVVvoV2F6S+eOvM2mbphy/lwyn3\n",
       "BVLExKmuX+d3ybr8BWdlGuVEONyV+C9StLyy0iSxBeCC2hySB8nnTJcAP2LGW0DXtrll+WkEWiek\n",
       "/WNDgJVdJtjyne0nm/iHzSBEsBbLWsG0j277qtmLcI+4r0g3uzggC/kOYC1x8Ru5CLTwf/p2hUHp\n",
       "Tpwmj6uNudGjDXbZ2kyy0Ks57GPntaeTHLz5mjx+/+V2t93jSpOWk0lInOv/gMGiEVpHR0YkN7K4\n",
       "UrEU/M0gw1KBfcf9ShoRiyoSzxRGLCB0CSAU4KUk75q+fUnN4c0ceVtDo/tgLaYlhFGnwOzofhru\n",
       "zAv6oRjfQp8LO/JyPeMQvfRscXgKR66PYnp4w/9bs23xjA56cNHqaxDLqcBazCR85CT3T3FPRAl3\n",
       "3PH/LnOrZTBEjh87v8cJHLLbnp/v5FbzfWjPSnVG7b6LPXSRs1GEGitg4u1UH5WqeAx6CvVEPamB\n",
       "tv/2PNF/u3EZmVLJQkz8/lNWKwbyjOE54nAlvgAZhGdouB4oAjkVMTaaRJDERYABWmu22dby3PdA\n",
       "GDYLTWytKhbm60ol/kqqZupDqVF6RO8oKabYafdZQd7Wxyujn7KVy+FfIwr88Sf28Z/GFTp7km/+\n",
       "rx/euzrTZETQxV9oYlMLpqX705GeYLIvq/jvUBbhluIFYg7uUquVrfnabLhm+XtamdPMA3t4TxHM\n",
       "hCKDcpNPkWY5Q/UEf2Z2Dk4eMpJBCCnsxWM5f6z0rZV5htUJnZ1ENGB94xXXOkgAmiMCNxXU+QJq\n",
       "SJv5yOPiZ2jBxjnAqUGiqQEf+auiMh/Pgj1oXJN2S/0YiCtNmhuP+zSLhx2FhVN/UFDZ/jYQHWwg\n",
       "oaXrzYQEVXzS6nuXwGe7S8DoqAOiRy/LUBMKFVNb3Coorr4xo5C1NAQN/zaIdv7hEGVNBI3rP/XX\n",
       "CjgS0YypctBOx5pApsFGGV5pfB3012GSgwFTSg4sxly3/yUFcuVvOM2RuTqqERW+L3hVzUbQlw17\n",
       "PKDRFYAPoubhYCWBo/6y0hUb6yz/Kru2L7toQ3GA9ueh9T15PZ6hfWByo9gOaTBR4IrS9g9UKBki\n",
       "ZvnIjVtu9LrdQ7f+tvHeVHNgXWQNueByUI8ML4HZEBB1sPl9GEo85A4Y9K+4wF9GeAXz8e2WwBO/\n",
       "4MDnRwxlxCDop7Qomsx6JZNnlKH4JiQnjYlLnHPfiPr5uIyWBRt46NoPTiMX8/JiFj36p9fk/85J\n",
       "uzjd+1d7m8b8zIZyjsTXk736/cRFXv2WqgtwuBJSRlyh/nhq8zjwO+AnagQZYeLU/mUE8cHgoR18\n",
       "mBwLa73Y5b471RztcJ64TlxK7Q1UlYkqeapvgRKHKTfdHNc1jl/l5QrVku4Fpj0sJkztuw/ACNV+\n",
       "1bj4OJbrVseY2g748Lj2yyazemTuljrmFty8LYBKi1bcw2h+F+lrgWSZmNZRqwR3h5BnXB/ErtK8\n",
       "GyX3FByFR5JCC6LifgBIR2j+5J8db5WXZn1COiyxWrWHwaZ9DqPYBwBF7w23scpw7t0/XypVgYvG\n",
       "8QIRp9mrxUxL8P6n5FzuvAGJOL3F3o4C1HExVGY1QNxev+p2W9mh7NregHmNQUlq5fTnkRuVVLGI\n",
       "lw/DPSMdWu+Mt1riWcsdvVR2ImG4DoeRRTmCrha2j/plste7+slS4z58fG3tIgbtDSA25GlkOBrW\n",
       "2IXOi7wg74nr33oZGxfJDvyAksP1l6llQ/9G7RELRIzsZ38G+4rNt6BU5t6JNHb+E4QrQYYyKnIG\n",
       "/1OFJlhOsj65l8TOGX4S1TaJS6vnu0nxlSdRw52oUlaxzrloPJcXMu81DuSLc0ZN1aq3WYL20cUz\n",
       "FC/asEPqwv+SLwHaPXRtFC55jFewYGEWW1+SeX57MUBiRN5wC7D0T+UfOKtdgfbtIl0s54zInpdj\n",
       "MAyGObXzQ4lRVG1BrrjZZf93Ca4d8M0bK2Ngo//V6lwJ4IHfm35PXeYAOIPd2Rx5UgVidE1OGHOe\n",
       "Qt+oUibtyJwNsUV9KJR43Ll/2Ajr3cf4/zTwpEZJKO23OCL0zBhRWhUuTeF1o+Y+o9voNE/KaaU5\n",
       "hJSWYERSvw8mRJFyk8iftosWK9AhZjSl7aQouDS+w2kNJsqX2uaKKx+rooTEJRzJHgksWuobeSRX\n",
       "H0n9mhuXWwu4ZAx0QV/BixJa33PQCTN3SCSwq/nYVP9m0z0Fwr75nFR554SG4jnANIGaSNC2gZk7\n",
       "+GAjWZ6TuUuAICdkUlW/SCEB6hP/Gh5PqQZJ9YkXZiu6j4NBWhSW9PBK74nIZ+1DNgOag6sfRc5o\n",
       "htAPkMmDS1hj8adLVGUTvF0QqZh1JhaGHiGMsk9GV2iMOmbSK55wNJD8G/CYlbmZXMijv+g90ikF\n",
       "H2g+1aKVN7R+geXHeDYcFPsM2+dIR3QKUnC2+dbAUhvOY6r7FR6U2zJcv+FGSEdNIwZiSS/JVh2r\n",
       "dWXU6RnFrT9qe97tky9ExYjndvWHGrCc2SiESYjn0yr45t19z9btHDhd0XnGtjrm/mObKgVU61oN\n",
       "6qpuYn+uBKjJn7IvtApxNtSnb+slEEEd/fjP7VDseH6JoB7FKZjtzhUJOKXjD2b6kljcEhKO92IW\n",
       "1nUAL8emw9l3NY4FqhgMoHGSGGZ/D2M/9RkjRD8EomGEF0+59xWe4JmK6fRToCd9/LLOSvs8Uiv0\n",
       "g0JxLFQvC38ABU9MSkJp+r5xkHBQL0nPbUqWpZHt0zPt1NHPchdBYJeJH4epv/xAPVdY3t94hb0x\n",
       "X1680IVcUlc5nBOIEJoEUjHW1ONMZZXh6ZNl36wVmDgmspAZopZgpRjOZTOVPLwsMIcIpeWQmSx2\n",
       "gCSjoXxd/7kfyK62PIDFHrD1CZb1H5xCW8CztAuIWFhUpnOrYyUBkyPg4Ur6vlOPpEhhCqU4WKMx\n",
       "4Nz9N3q+1XHE2igXS0bdEl9rmbqzxrDDPx1gWxFWDPR7WE1SxlJFBCyCEdypE12MEqiP7GRJS4iX\n",
       "i7KDKwdfUNswvrzfOuBkyakLMy6pjloGjlECPrazVSz+YWQai0fTre9Gj0rxSYsIMIUJ+laPq7Wa\n",
       "HgUKro1+InJtx1XS5Z66MnoCSQiixkQxhYuGKtX/xeBGjIrsyLIJU1dgXrAsY0gihTqyFTyvl34a\n",
       "0kQL6F3plQGTOY+ere11Xcp7aJY0cUJMkp/afMASdLOFqX7UhIaRU2b6fQhL/m9DthJcaJ8PbGVv\n",
       "vOqdJ1wzBmobgiwqUC3rIGH29Z009RFhAixfM+QD7450UOZatKd2llSJ3JDnPS77qXHeY6M4nRa5\n",
       "7LvLVO0Ydvh0hUy7LpN4bqCprSqDjgsRkbBaJzmIqwHMLmAPR89ysD0aZ9kX6CwQCDfWb8aWx19D\n",
       "7w7+ShtPH0NWpI/UxWTK+LGqi9MJSZ6uyn7GR9T/PqjE/cl0glU2TFTzbf0+rTOxuBsNoFMSt9yS\n",
       "cplOY+8gCUt0FdSwziowoy55HxoxOVFVbL1q0QkcVwNA9Ba7Nnj20mmeLQUBcAYZoy2plQHAjDTR\n",
       "Xv3eYS68K9K3CzGKIAM96l7nbMeEgAAK1iLU2F8zU/TRUK1MX+FZL9k5cfnc4G3OEPoGTvyEBiH4\n",
       "aj62t3CDK2qbA7VWp29VTBk4vLB2vA318Np9G8raKMYfJtCNhxMiUXFVji2zRql0a1YXgIrnSIgp\n",
       "TBRaiGVTYMliNfIAALmBAAAD20GaIWxBH/61K8ALW0AAEJW5kb+4XUaJ3tESSiyUy/1Uv5yAPCU3\n",
       "ShfoDaLckj7ouQBsxtMOPCRq9LeGBUgQUWLuvsSSvYRG5gW3ovh9bXCea9M4wxkpY/35s9VfAgxv\n",
       "zy2Fkv22AmY1PMSxbdRYqOB0Kv5Tzu2wt288Q8WQpycEPm1GsNXLjeYaqMmtQjvulqjhD5XTsBX1\n",
       "FeOsxke7JaTgTLZ9AJxwSNllVZ7y5IZZgMfbkiWb1oTBoESycqlY9Mz8Q17aiiq/xwQiBvIpOvcA\n",
       "BqsCFFEglMMUAyweFAgUA55+CI49T7j6f4SE7oacHcusgKXql06b6EMU00zNHuaekVogpJ7Ptlhc\n",
       "lMzTgvaIfrXclihb1cyQtZfwIC8xKfPUP6SHYzomPFEH4wQ60E3Gz77Rf/xQvMbxFpKlDxFaYZDP\n",
       "yAu00f4NrgeTVMYy8MOyk0gDoCADQWWCl7PdGcmIdMgwnuC3qae0mS9l+znAjDSL7I9f7MV7hlyR\n",
       "/xSmlcg13hjLj26NilNDUkn4hwktoUB4x0Ud0TCpq2D44kZASGMd/H/WK/ocO9RTo1HZkJrMU/Pi\n",
       "kYnlEBSmdduGP+T+SI2Hxm/vw6e8+z/sYKFrK42Q50Gb/TafS/JlwxJlhi9R3IUQ25efICESxW4y\n",
       "dbBvcUQvDfkQd2j0oWZ4jN95KqMgcWtp7G7kchXkjIn4YThy+Eku8FcMxeAOUo9dkVmLgBvMLysO\n",
       "F+ZJdeN4Z7G/R1myFmshB0L08fXUsqW27/ChA/xiezywVu+RvjSy966oG+3rAdbLHZ82Ka17XG8o\n",
       "9QpT30sipYFFT4sG/P5RpqqQJhICK/nqWQnN6QnRK/T26kdM4q1ZeCUlcADeC6ThNV5ZEXN9VVmx\n",
       "gE/zITyUa+h7Qgo9YIdZ70i4zA8azVVnK4oILAoRS/mOMh4BLZKpWwAxkVJ8ycbnU7NYRhp/FgvW\n",
       "GFV6wvYIBPh5pXs5Ya4yIE4wfxWbJvhbhYo4N9/7B91hI9nWasdT5fnP+/FT9DEBZFcbCw0WFSkU\n",
       "DgtrYrDqi15Zwu4gKhV46cgpxoGUw/x/0cIkfWHSMVjXd01TVmsc3cTDU7z6e5X0E9q+ZUJiXk0F\n",
       "m5XO3n0tNS+cZNKCqISbutZHvIm9ZfcLpEw88WEmeJ6Fmf5jrd+oFRlN47cQdrDbfSSUMNMCmL2O\n",
       "w3iEh0QdXk2jpO9YmODzSH427f7cqJXbZYK0XGEme27+Oud0huW3DnUMSTMzfWxcB4xuD5fezMnY\n",
       "ar33+AAdP7x6nPztEnD7tm6sRmybb6uOOHhRi3rxlOCFsobaogAABGNBmkQ8IZMphBH//rUrxmVk\n",
       "ADtL0yXBQ6ZRaG0d6+75e2kTiy/6Nn5PWBeFmA5mOzzCY+Z63yXHUcwC40nXZ6PvY6LKS+W3EjJK\n",
       "1vmRQ87V5vHhXhanIGQUesiNpPVBGyNXAkAdB4r9OV4bo1qvyi2KomD/cCXzRUbVTs/R/+zV+W3j\n",
       "zqaUhVb65y37lWbbkiVcnOSkQbDcdk1e5KEWkuO8cK8pnDyXGW8Dg5OuZ8uCZ5ohLSEyicvmZuSa\n",
       "F/idujfzf45zKafnbzhdsxkr7T2/PfBj+dGKQ4HCB84QeobipUzCahTgas8jBcSkEi632xTO1tkv\n",
       "XJq/EJR7+DTzjGr1KMyu6UmUgc/bIb1Ypw+e7yV9HLOcnDEQb3vudFjFrqhImIT9+Qk6JifnGWpP\n",
       "oxgHn3gO8jvsrOrMpfMkIyzJop7OM6A1TQ+W92dIPyGeOS0ha/NB7M4uKq99LHQ8ab50XPUpLyk/\n",
       "+B05kyiF5T0hnmppYumY8JSxIwFKOy3vR9TTXEaaox/cPXHxKcbKxydv2Dr9Rt7pF58J7YzJ/G6v\n",
       "q4u7ynUr5COEyCkkksE0medJezjy/TFHi187g5R57PDmce7VaB4u2qLg+4e0CrdXxfzu6BzI+ksD\n",
       "lKdSEpOvqft9DMqXjtZQ/rwWogTTFETVXzD4uaqSxFVoR86NZSAKcqhyMHafntt8UYRIC4wR+Q9t\n",
       "yok8+lFBK9vUq+mp0jWpjVK2EaK5V2Yo7lHQKJ/6RgbBiilWm+qTKTdaqdMGUl+7lv4bu4K7Y7nz\n",
       "pFB3AzEAwjE//Es2a+KXJanlgTl4pcbPsQIm3TJBA7UcuOheT6NfX/Olg7G5c/Yd4Rb+hLXg6Va4\n",
       "OtPlhWFlSgR/O0BRy1Otc0Tqs4hEs2Pq14szqrTbqHTfK8SEMYB3c/XQj82io48C/dE8isR8vODu\n",
       "qtQIQM79Bw99iZHmW4sRwm6TK4MFvXQv0UzyAwvA0J4v/FzD5Yf/lwBf9d7qT3TLuf3F4fMmGMWE\n",
       "dlgdH+cWdHQluk2T84sWgi8TfaIgYoo+49fqLvGnOkvhd2gCi8cCAbKdmpAC8Us9tkb0Bb1OHzjM\n",
       "8RjOI+APX//lIKFKtz/3Kq6H8Tmq12D8offmcIHX12YnwVsfzN0ICdf92XjLw6uaP1PE3YlffikE\n",
       "dDemam9v6B+LNayX08FkmcFNbpm0B2HclzZWg5Bq5BglvKWYaOS7Q32yWT2MP4jCvN3dZAybOrlD\n",
       "Pm9UtGeB+tPPzBUupVDcKMuo6w5lgCc+b4JIBoorHyY24w2WAfF96ll+Lu8FwIH1kslC5IbkJczn\n",
       "Q3inETBSYekMxRb+wGCRkj4DGa+PTZxgjpQcM23Qw3eA4le7sudhpXg4ejiM2ahSy2DPdWAKISxB\n",
       "LoDgBG0fWfbm/ku8VIJRcV4C0fuaxtP9z3iaqetNoEkEFm/rFgHKoleRyMI/qnmIc5BUHdtDgiHm\n",
       "398g4zvEJ9W2PjUbalM3cQHcieBIIylpAAABYkGeYmpTw38HC+Vg8AJqzhxXpA6tAwI9X2OOG9nz\n",
       "xr5dar21b0sSCOWsyqyXFH5WYw5luygSXcBUJVvG1MYQ8NmfTuFMTpPlgO3ehcVFNYIwbBuQTi9p\n",
       "mbnFV32oNia8uW8rxvgIK94wNLd60tk+g0IiYVhCeUumuUb3UJ9A77T34nn+iS7WSD3gJfeMJG1e\n",
       "KcQcHLCfsXF3Gi/fqhI/ztJNhtNAw+4ZDoGQwUXVEYWi0YrEotLNb2PTP5zWNbsBEqUsFSylcjS2\n",
       "RgJXhK+vYHUQgn5LEXFyJnT1GNl3LjRdw/kI2M6EJhMzmCci+lno78YUD05sKt076S0nyc60zzgH\n",
       "Jgy9O92RxorjTgV0NiwPktc+NblNrnSx7SJCUZuypXvdkO2YMvo6wzsxtk9AEk/UzsPff9M8SUmU\n",
       "EOJozdRM9VlpolVqFTNeiXoE+QBGUzf4SQE/2sdYrduEtPSwWspMuAAAAQcBnoNqQ38GuNLIANqL\n",
       "0px2mSmmY/0VnPNkG+FGYK3580RIbtVik7DA9lRod7E6GQlX8ttxqceQwegpbOYKUtnVZ2/Pp0Y9\n",
       "JBhnVDPF0vYXMaMHqrJ+C5CQ47DdgKOBKOJIMZrhwqexamapkkaxayueHnZc48eN7dMlcivGpANW\n",
       "5jm6eproXjNm71O25Sau6YPG7KN0rq6buEguYGGgBObNBxynE9lY8WVqjW2L/aQ/BoqsxviAXI5p\n",
       "zSUtS5wzr/5Og6ZlHDhC1WfbsJQUGG5LN1fPM58phQZ6Tn14lxjgfkYYb6GGDbgAds7y7LKjkdYC\n",
       "EO0JXr8HlkhOp5Ol0ZZjOZut0XIHpQAAA8VBmohJqEFomUwII//+tSveLMAABapGsXN5f3zgNb6A\n",
       "AWwoZQEFkvoTqI+k/WW4RFm21GK+UV+lBTBKk37VoUGQ32V+Hyh0EJHjt79viXHRjgJswiI9RgXv\n",
       "PxKqT3Fo1ukgGAiMyEy1oE6H6b3rGPY9xHhYkSKZQ1OifUNP/ceDrF3j/LB+HWQe51LX80IPP73K\n",
       "WMPQuE8WE1z5LKkTsk3Pv8KIuUolj4USXu5WG/RvF2XQEjgWK8Q2LxxuSiSxeXFrn0FqcklN1vOx\n",
       "470YeplXNtCNafE/qDSgKE8CZdSN1hSjsvYWffNXi5alrS30x/xhc/px0wg6NCo0jOG57YNCvRo6\n",
       "Y5C+kW/MDnmurReOMgf0MsZs/1eOQxMhSgDLa04dGsLhvyKnQg1MzvHop3dPDlyH5yglK0lj4VQz\n",
       "dgA7RQYJQrcwY/koSipfi8/4cHNQAf2pmvTUW2NrkOXGMhBjKaJ8pmbCEFPnoKHb0t51hiTLOFp+\n",
       "xl8S1UGrwvpDS7iV9eYMnKuE6jeu5/+lKfPpeYDA2j7uhXVwHn6Uhs1vSVrp4mIo1Z2Gabjamk4k\n",
       "kAz7d4vAEN46OIoOLoVueDYZ90N3MyDiMeh1V46MJ1D6pZDb6cgLosrYyz6OHX3x3OdxZ4YmidBI\n",
       "dg+PVbTHP+zROj0/67JNtL3jPJ1/Ks16jVfkgT0K+w6Udk6ifcR4HKqJM5TD2WVPhUzdEe7oo4ck\n",
       "TN8adkx+jXGnAfEk1OMJQqfJ9RjzjzdDZETysz3sS3C49CQUARHLZSOUAS9B/1TDwYgpzIKufUb/\n",
       "bThnP4dM5+4S3G1s2qO18lif1SM+phr/y3mcYc/YDwnHjpVeZP7+/A3sPjs9u0Ws5tOxea8E5EAb\n",
       "ciTy9cX7GL9r+GCAQGP0G4dQpU5thSvfq37Bp+1xk5+P/SSfCZBA7ZQEcmdBho7t8oVNhRil4r2S\n",
       "3vE7jwdIuZZ6vvRPlDDVKA7Q/f6HGtuZwoVIzKCCQfz+/hg4BZ1Y74N6zAAwnd+7g8j1Ymm4mFV7\n",
       "ThIcEjdS/W23+NMR4QjRDThGIZVsga/qYRm1jl4AxwA62i61ZNTGAP15F9Jnb1FpwnO+eiQpJj6/\n",
       "k46c5e+mYb9QYu4ABpizWaBIv2uEP6jt5xqj/85p3YcWmMIUPiI7ZWOVUs/K8l1tJ+/ToxxI1Bgu\n",
       "WRuBRQ60O/w7zCcgoP8KMCtS6q8GO8041IOI462FruY/+cjRpTDNTuAs/sUAPgpW7ysxBFuQNZU8\n",
       "Vh7JyL1OM97juWMsNtL+SgDlqR3R6QAAAUtBnqZFESw7/wWDdbrsAIQLvggDNI9vgmsJr5sDB3xF\n",
       "0iZwtmmzs19RmHVI55Xi4NqAavZBW4CUpFa+pXMOazdN5nEafZoWv0uwZhiXNeZ62yYfYPAEUlcg\n",
       "0UjwOxISf7q/DfVvy8A8c/GN7vhoabd3U6ZZ31biFy1J55qUPQelhGhUACaMfUhi2d3SWz/g9Web\n",
       "dVa6wGt1N5as0HjBkK1MIinuLYcdnoNbb/Tbj6lzvk18N2cplNJ93ldIIWBTatwhOKdM4NwDfGNe\n",
       "7wncLMTdxL7cmuMdQZ7+ak49XlNm/6e6hQTWv5fTqocZobGvoCc97sTUI/snWUaKeevAXPRQrWMu\n",
       "cm6YitR4DI4VySWzP9Ppn8k7nrdKzTt0gtWRNDdDM3DxNczcrc86zzAjLKMFN4S5PrCEBqmzCQ7N\n",
       "ufK8OUWYAyme5wv5JZPTAAAA8wGexXRDfwdEt2QAbVcl1iXIpFqS6o3SL+IHHGHZnHuBL9jFgW3B\n",
       "EAM9KXJvLN6NTq3uG8twYg9aNnApDEos+NpJwU/FifFftztwfsv37lY5P1ouJegMDXloSVZ9WYHQ\n",
       "P18dkuq4QHLA5utExs59OfjBQTePBK+topEHWcyTlwxpI2rLbXzU9pnsdD0skal7X9+CP0WZBunh\n",
       "O5qbzUM5eqiK+NjUumEDdBzgS6ArDClB9iLyqSOG7gXUe4RY2AjfXZ5r2D8HDAu9+woaWiMpHqUs\n",
       "tHIQq1JjeolSYspr7Wv3USNhIDwDgGk/qh5ffBsT8R8EXQAAANoBnsdqQ38HSzwiAEKez/FmIyBM\n",
       "aYIBhOI0t3uoyOTNfxREiHaNmdW9HlyfR/67nsW6/5/pzGA5JIeAPe5cN+EOQzZp9uVhPxc2kACb\n",
       "DHmyb1qIirvGjAyKqL+7JMiyhPFCgkUtewSW3VCbrSf1quepW7lgIbw8BrAy6mJtedYX07JK3a6X\n",
       "nK52sKEVV/Ar6Mct7+4d5RW//LuKEWYInDX9zTzOgoUtl61s49QOGrzNvtTn/dnTcDJ6z1DH2489\n",
       "60JFEAz1jhtPvYHVui2TF2Yxe/Za7j0bzZA6oAAAA05BmsxJqEFsmUwIIf/+qlfLKQ+EC/MAC6UW\n",
       "qTSu+murzRTCb7TvRi30IWE7Pwcgh8B541plF0/YfwkJowg//UIAJ9HdTxNq6CZcz9bCuO/PTXYS\n",
       "cLaPfiloY/dwxml0r2QV1uok7B+Srax8yvx7WDYRqs8FdertTrZ4f8SaNfsEl8ZcjjZET92l0G1a\n",
       "OwtyQ4l0F/W66j4u5u16xymrjGGoPCF2m1INSVgDlbxp0eryVX7OtleFuLWRz0iz7WVcLDrvvm5q\n",
       "UUuQePpArPcbZNe/F36NDUelUrqzyy+ABUeYD4nMOmBunVTWZ3QDoemDFUFhCd0xZX1sPbh9PUN9\n",
       "h3vjOfvz3vjEZgbPLYl+FuKq6113rEi4KA/vVqL5uoH9UUiTe8lFlswynaeLMyNKwJTM3xHygCID\n",
       "qIV5O3qwnBeXI2mto09ZKl14VcfdQwg+YmPNMCB/kKOtLQgM4epMUcuJG7TzgrLxiHkdth1NUPD7\n",
       "irx/SPkx2JVQ7cPpzlAJKB84PtYO20pImP8vEUUDtUVnTdG3u8CniJ+WI+RzGZJ2Cv7ijut5BwYp\n",
       "4/WukMYRq6BIrXa+CFj1l04pNMSlXN3DUlGs8Dh4qSH4Zn16xuF5+KQFKVfCx10gY1st5x5EBIHN\n",
       "0zoaw3iLCvTBG1/eIjmcD9iYjWMHiZFfMLSeLtuXwipbaUw16iLdlvNHsgSW2IUceUQ8F/ad+39n\n",
       "CttAZ9RvjXIxtXBewKOT3vVs4TPvYWd/OMrXQ8VBzz/nh49D+F+QeT31EcbzOVNDbqblQ9J5Fcm6\n",
       "Vix3QxGBdadP8vOCUeYcsvWu9RI0f1luFpn/8vZYp6NpwVdxmZrEXSeJ3zD1m1HgX1enb9utaw0K\n",
       "0PRl4iZxrSwyQd9WV5L0ksDzukBdJnDAcfSo97oY0qTwlzzRYJRqHS0+J2N/YsEaqOO7t/hnP/Xu\n",
       "LKZmdkyP6XPXSS2IuVfdk2dlGOtX5bzInIPH46Ovmw0UPAUV4kz2WFvpacZ1AeTzxPKpXsGlFxLo\n",
       "SG5UtOn501VRQsrCVYOceBW4J/mfV0oBd5ygZvf6x4mbbPg1nCJmoeWBnHPmVFKmynErChognUW3\n",
       "M8ht//57+XoREBWARXVUAqVgqBtUzIAAAAEiQZ7qRRUsO/8FGmdOiMzOPG12AEGAPdNnRWqw3T7L\n",
       "ptNkaAjrcZzmbHsQMSlOzpcF4WXyNvVIrJtX+DXKpGB7/5Ede5mmcGpTBcLsLfwXINxK39I5qkBS\n",
       "GtjzN+UDMZi7Wg9hmMav6Md2d6F78J3fTn+fPvnsG/4a9/l2V/bMh0XkJ3SMqalM9wmbaNyKnPT5\n",
       "Yf2FXMard+R8C25WgVtev9KW8uaf+uUOUpeDSyuG6bQs5CnFD3xox2L8ZAXgI4hgndmhiYCd2NzI\n",
       "tIkQ/U//R2YufHfxfDvy5hxY0/WHbl98CmjznDP/3UJC8vp5tVGl+cduAK7EjatBGGdlPW7KtaAy\n",
       "mz+wvSTZC+EHqQjCw+jh8YfaDJj9e3xQQUR1qCRodxEAAACZAZ8JdEN/B0prRAAdcXpT8tWHXN0b\n",
       "oAb+w+DozGoBPb+CcHyek0clBavzllq3sO7tPRoLAULyjLbAS+aCOuRg2HSnEZPDa/M2PDWd5g32\n",
       "S5ljIDc4W6S1juUjd4yiS6OPqMHRxCx1twqvB7MbpRV+M21AB64BQGgKYf8VyCvIxSRj9HFJyIgV\n",
       "U2pGPzB6X0X1+gdVcSCrcoiQAAAAnQGfC2pDfwas4LC137iADWzj7XR80RFiuELM3QdjSgoNFtwa\n",
       "dy6NXA696GMjjeVI3afHbsdlVatN7DxWLEjVUt5FNYxMuuxmvD3BWPlbNaUd49SJ/fLA74nxWZqZ\n",
       "FroGgMsBHgWV8X1JRNn9alCjKUhQbG/PN/IJ4MYG+1QMa6ANSP3csaW9Es3v+RrwZJhpQo7roJoB\n",
       "iG3wdmlhAjgAAAJRQZsPSahBbJlMCCH//qpXhQzAAP6RS7TuwfZlN8iJ8bdc0bXiB5TAt6tWuWEe\n",
       "uFqSs0sLJ87BwyhV5MyrJvxheMvfFxbgAgWpFJu7xMbIYe/hLh919A6TSwgN1kjNvAU03g9oyHm2\n",
       "1hTlRDGMNAiyl7C3xCrGf/qwYj9sv0N+bVeEz4T/uJiNIQ/coVEvzeTCPAqEfzuYOG9Pyrp2KfjA\n",
       "iCYileW7+r9le6H+TXkLDwilYIlRJL+x8nVxj3R2EB6Fellw+2/G32C+xByXRcgzSkKicUNy/QM4\n",
       "++48iL9Y2Bam1HBsq9aBl9mKpDKSlBDkNN/f5qmQEMC2OHVSkqrFVKN0JXHgDRxANWex4F5lRc5r\n",
       "gR+ElieBtjSQgYDKXqu1kGYvIn0T2qoVESZj9UgWBOYIzGy3Kf0Fn1N1o6Z03g1pCp+sCxvVHXbp\n",
       "x+S1Ta9QPjx57InpnO8PDYf8TwMC8E4Z42N3YCbMKWg4ZO576tQSKBjUddhF1x8Wq8ItrLXvQjpV\n",
       "Or/qNj+/7X+EQzwzrW3+kn8MJwmo7mOrAfL/LLxQfYuTsLyXY/L/sSZqxu9DzO4977HE9w7yXlKh\n",
       "W4aQ10ZDkBB6gsNyrzaldpcmxp3uEyzWaVXbrl0XiA4R6/4RZTqpYP3t7F7eeG+IfgwdMpiRyxK+\n",
       "IPXJOAsOt/bU3mlvOSha4I8+fZtNeSREml6KKPrB1oFalBMlA3utsp5+Rd5C8c653jNPkVyo1cKs\n",
       "UGtK42ojxGELIm0F64nhDz8rZ/urHyq5uAopCErpiEi/vy0AAACmQZ8tRRUsN/8GqURXM3dwpXeX\n",
       "UAH5w7np5C/MZC5f/zbeTjyEfDrZ0oSJ/hJAJN0fkpZeoD+mjOqTzXaFiGcRKBh/kkc6+ys4ZVU7\n",
       "V7ictzG5IGLLWFHShviGoH3Cr58R89/WXklyydQ7E7+Bqqt6+AlrDfxlbG30Y+QqZ3f98CoTQmx8\n",
       "Je5bVtv3lLslY9nIYCfn1dbEMpqibgwyXLZ4Ar9sa9TtQQAAAN0Bn05qQ38GutsMwkACG/Ltq8y6\n",
       "gEtzr+1jnP+SMQzh1u1xe4ddte53TaxZLBwfemvwCWcXO/LfEHqoI/Jux2CtNGwR8Mihe5ikV8MN\n",
       "zojFzYdyzCOiYtUd/4wjCEuulr/HfX+4eXgz7jffo0FgSSvKPotqSbdchqFzdv5lfzif1VCtCino\n",
       "yL8G+gSUfrXngqMq/8+aVp4Sj7iODp4+lFAaa9SY8+WpFmqJDmqXqGlp9DC5gACbUd325kBypJdJ\n",
       "X0fNW8KOQNKQF1mioT7I65prAs5uKzNgaRs3PjgScQAAAYNBm1NJqEFsmUwIb//+p44fX+iwq7cQ\n",
       "AbG53jaD0u8yAefFx6EcSL+JwhpPWQJjSPzwN083z9zI5LwqUEN/upDzXwh2+aN/2V8IYtAdDJLE\n",
       "Vq9/OyvaotaAOzNS9EIsnBU/27n6x5gDRI2vqQL7cD1SF8xSocU4opdhSNvxlw/u1O96dW+0gCSS\n",
       "NC+vhOsDzGksiglEB7lLbDxSZ8lMQkOQ4DYW0EPb7noZmOg5GjXF+CT8VXNDUXbv7rR0TWyZf4/7\n",
       "PaJiQU3Kznh+kMx8NInkgqkiqWkSx9gVrYf0rgIl3jGpAKU3IpGKpP9LUgScF1iQ9J32E/Ut9hoj\n",
       "bkOuMMpji4BGuxFCWB7+wJPPqzHiodAEf8BC+JfHjZlTAMd+1IdxmOclidDDJ3KVH6NGAA7nYXj0\n",
       "CsNN9jgfSc5cKzcd62iEZt477oOb+ENork/b72Fv9yjvm79esFbIxN4MveOu46jHTEeeV6NCWg2w\n",
       "oDIZ37MNyJtdVyZ/8CfDQS+3jEpqBOUAAAEmQZ9xRRUsO/8FHasATCvAAvpoYeRK/YBcPcI7PYt1\n",
       "/1V4FKZALlw1zsU9k9VGgOreaIO6q+RZJHyox2BpiyjPo3FUe7ZstZsEBlQcJSoaUHajpcQXdanN\n",
       "w649vYvCQa+WUWfWmZ0Gj1AgPgJkfF9//gp5cc/G8rTYdH0thGJHWb8NQqTJZgh84OZY9G7VT4lA\n",
       "PQQHJaDEzjqobgfytIOzTj6fzQhq6aVd0PfIBz6M1cOEB8RmoHge8lOXHMi8wFHzq/gXcFD6tqvu\n",
       "lkYq+ZBK5v0en+JwXiVuDd+s/6yjxHZ350ZHp7nZaXWY8jz1d1MYjjONDRRD1qv1dgHXdLYS7daq\n",
       "iAJ0mEvbYNr74T5YkGYpnWeIkrQgZSq8MLOnVSCUNqip59mAAAAAtAGfkHRDfwatHTkYuIhv7cQA\n",
       "bJqqw/GDuQdhAN3bYboDjIVhzuPFpmZ6Q6+zvyNNdY2u/xsKZANkcIiMU16c3T3PSDs/kBpirvrG\n",
       "dZ9USg0Jeq2dY1G3Yko1U9v0suM4OMRPMXaoqsdGGiYX1FxTRT3gS/zqJrpJayRU1AAACBPlVCWN\n",
       "rSPV5SiMAu8ZXu+ckNvIyFbp1QjFqfxbCL7EnpAGRnA5AvnzZen9XMqhud/ArXoRswAAAKQBn5Jq\n",
       "Q38GrSSH3o3EAGyAAjFSEbAbjgWq32wjJ4sZcWSrq4fsr1EZIPj3hH3OW6YaqN8TU+n9e2KiIHRp\n",
       "UroVJ3nXsbzLpRcG6T/rZS5lL/XEESyCCfNyFDKb9ZikK16s6YhcFF/EMAS30SeC8j0QQ+hYWB3c\n",
       "5wEO5arcRM9VH/u+N4l3kR0UjL07rxHlv+bMAXa/s90mF6p0qigsjgvgSb4MWAAABAZtb292AAAA\n",
       "bG12aGQAAAAAAAAAAAAAAAAAAAPoAAAH0AABAAABAAAAAAAAAAAAAAAAAQAAAAAAAAAAAAAAAAAA\n",
       "AAEAAAAAAAAAAAAAAAAAAEAAAAAAAAAAAAAAAAAAAAAAAAAAAAAAAAAAAAAAAAACAAADMHRyYWsA\n",
       "AABcdGtoZAAAAAMAAAAAAAAAAAAAAAEAAAAAAAAH0AAAAAAAAAAAAAAAAAAAAAAAAQAAAAAAAAAA\n",
       "AAAAAAAAAAEAAAAAAAAAAAAAAAAAAEAAAAABsAAAASAAAAAAACRlZHRzAAAAHGVsc3QAAAAAAAAA\n",
       "AQAAB9AAAAgAAAEAAAAAAqhtZGlhAAAAIG1kaGQAAAAAAAAAAAAAAAAAACgAAABQAFXEAAAAAAAt\n",
       "aGRscgAAAAAAAAAAdmlkZQAAAAAAAAAAAAAAAFZpZGVvSGFuZGxlcgAAAAJTbWluZgAAABR2bWhk\n",
       "AAAAAQAAAAAAAAAAAAAAJGRpbmYAAAAcZHJlZgAAAAAAAAABAAAADHVybCAAAAABAAACE3N0YmwA\n",
       "AACzc3RzZAAAAAAAAAABAAAAo2F2YzEAAAAAAAAAAQAAAAAAAAAAAAAAAAAAAAABsAEgAEgAAABI\n",
       "AAAAAAAAAAEAAAAAAAAAAAAAAAAAAAAAAAAAAAAAAAAAAAAAAAAAAAAY//8AAAAxYXZjQwFkABX/\n",
       "4QAYZ2QAFazZQbCWhAAAAwAEAAADAFA8WLZYAQAGaOvjyyLAAAAAHHV1aWRraEDyXyRPxbo5pRvP\n",
       "AyPzAAAAAAAAABhzdHRzAAAAAAAAAAEAAAAUAAAEAAAAABRzdHNzAAAAAAAAAAEAAAABAAAAmGN0\n",
       "dHMAAAAAAAAAEQAAAAIAAAgAAAAAAQAAEAAAAAACAAAEAAAAAAEAABQAAAAAAQAACAAAAAABAAAA\n",
       "AAAAAAEAAAQAAAAAAQAAFAAAAAABAAAIAAAAAAEAAAAAAAAAAQAABAAAAAABAAAQAAAAAAIAAAQA\n",
       "AAAAAQAAFAAAAAABAAAIAAAAAAEAAAAAAAAAAQAABAAAAAAcc3RzYwAAAAAAAAABAAAAAQAAABQA\n",
       "AAABAAAAZHN0c3oAAAAAAAAAAAAAABQAABTRAAAD3wAABGcAAAFmAAABCwAAA8kAAAFPAAAA9wAA\n",
       "AN4AAANSAAABJgAAAJ0AAAChAAACVQAAAKoAAADhAAABhwAAASoAAAC4AAAAqAAAABRzdGNvAAAA\n",
       "AAAAAAEAAAAsAAAAYnVkdGEAAABabWV0YQAAAAAAAAAhaGRscgAAAAAAAAAAbWRpcmFwcGwAAAAA\n",
       "AAAAAAAAAAAtaWxzdAAAACWpdG9vAAAAHWRhdGEAAAABAAAAAExhdmY1Ny44My4xMDA=\n",
       "\">\n",
       "  Your browser does not support the video tag.\n",
       "</video>"
      ],
      "text/plain": [
       "<IPython.core.display.HTML object>"
      ]
     },
     "execution_count": 31,
     "metadata": {},
     "output_type": "execute_result"
    }
   ],
   "source": [
    "# Display the video.\n",
    "HTML(anim.to_html5_video())"
   ]
  },
  {
   "cell_type": "markdown",
   "metadata": {},
   "source": [
    "---\n",
    "\n",
    "###### The cell below loads the style of the notebook."
   ]
  },
  {
   "cell_type": "code",
   "execution_count": 13,
   "metadata": {},
   "outputs": [
    {
     "data": {
      "text/html": [
       "<link href='http://fonts.googleapis.com/css?family=Alegreya+Sans:100,300,400,500,700,800,900,100italic,300italic,400italic,500italic,700italic,800italic,900italic' rel='stylesheet' type='text/css'>\n",
       "<link href='http://fonts.googleapis.com/css?family=Arvo:400,700,400italic' rel='stylesheet' type='text/css'>\n",
       "<link href='http://fonts.googleapis.com/css?family=PT+Mono' rel='stylesheet' type='text/css'>\n",
       "<link href='http://fonts.googleapis.com/css?family=Shadows+Into+Light' rel='stylesheet' type='text/css'>\n",
       "<link href='http://fonts.googleapis.com/css?family=Nixie+One' rel='stylesheet' type='text/css'>\n",
       "<link href='https://fonts.googleapis.com/css?family=Source+Code+Pro' rel='stylesheet' type='text/css'>\n",
       "<style>\n",
       "\n",
       "@font-face {\n",
       "    font-family: \"Computer Modern\";\n",
       "    src: url('http://mirrors.ctan.org/fonts/cm-unicode/fonts/otf/cmunss.otf');\n",
       "}\n",
       "\n",
       "#notebook_panel { /* main background */\n",
       "    background: rgb(245,245,245);\n",
       "}\n",
       "\n",
       "div.cell { /* set cell width */\n",
       "    width: 750px;\n",
       "}\n",
       "\n",
       "div #notebook { /* centre the content */\n",
       "    background: #fff; /* white background for content */\n",
       "    width: 1000px;\n",
       "    margin: auto;\n",
       "    padding-left: 0em;\n",
       "}\n",
       "\n",
       "#notebook li { /* More space between bullet points */\n",
       "    margin-top:0.8em;\n",
       "}\n",
       "\n",
       "/* draw border around running cells */\n",
       "div.cell.border-box-sizing.code_cell.running { \n",
       "    border: 1px solid #111;\n",
       "}\n",
       "\n",
       "/* Put a solid color box around each cell and its output, visually linking them*/\n",
       "div.cell.code_cell {\n",
       "    background-color: rgb(256,256,256); \n",
       "    border-radius: 0px; \n",
       "    padding: 0.5em;\n",
       "    margin-left:1em;\n",
       "    margin-top: 1em;\n",
       "}\n",
       "\n",
       "div.text_cell_render{\n",
       "    font-family: 'Alegreya Sans' sans-serif;\n",
       "    line-height: 140%;\n",
       "    font-size: 125%;\n",
       "    font-weight: 400;\n",
       "    width:600px;\n",
       "    margin-left:auto;\n",
       "    margin-right:auto;\n",
       "}\n",
       "\n",
       "\n",
       "/* Formatting for header cells */\n",
       ".text_cell_render h1 {\n",
       "    font-family: 'Nixie One', serif;\n",
       "    font-style:regular;\n",
       "    font-weight: 400;    \n",
       "    font-size: 45pt;\n",
       "    line-height: 100%;\n",
       "    color: rgb(0,51,102);\n",
       "    margin-bottom: 0.5em;\n",
       "    margin-top: 0.5em;\n",
       "    display: block;\n",
       "}\n",
       "\n",
       ".text_cell_render h2 {\n",
       "    font-family: 'Nixie One', serif;\n",
       "    font-weight: 400;\n",
       "    font-size: 30pt;\n",
       "    line-height: 100%;\n",
       "    color: rgb(0,51,102);\n",
       "    margin-bottom: 0.1em;\n",
       "    margin-top: 0.3em;\n",
       "    display: block;\n",
       "}\t\n",
       "\n",
       ".text_cell_render h3 {\n",
       "    font-family: 'Nixie One', serif;\n",
       "    margin-top:16px;\n",
       "    font-size: 22pt;\n",
       "    font-weight: 600;\n",
       "    margin-bottom: 3px;\n",
       "    font-style: regular;\n",
       "    color: rgb(102,102,0);\n",
       "}\n",
       "\n",
       ".text_cell_render h4 {    /*Use this for captions*/\n",
       "    font-family: 'Nixie One', serif;\n",
       "    font-size: 14pt;\n",
       "    text-align: center;\n",
       "    margin-top: 0em;\n",
       "    margin-bottom: 2em;\n",
       "    font-style: regular;\n",
       "}\n",
       "\n",
       ".text_cell_render h5 {  /*Use this for small titles*/\n",
       "    font-family: 'Nixie One', sans-serif;\n",
       "    font-weight: 400;\n",
       "    font-size: 16pt;\n",
       "    color: rgb(163,0,0);\n",
       "    font-style: italic;\n",
       "    margin-bottom: .1em;\n",
       "    margin-top: 0.8em;\n",
       "    display: block;\n",
       "}\n",
       "\n",
       ".text_cell_render h6 { /*use this for copyright note*/\n",
       "    font-family: 'PT Mono', sans-serif;\n",
       "    font-weight: 300;\n",
       "    font-size: 9pt;\n",
       "    line-height: 100%;\n",
       "    color: grey;\n",
       "    margin-bottom: 1px;\n",
       "    margin-top: 1px;\n",
       "}\n",
       "\n",
       ".CodeMirror{\n",
       "    font-family: \"Source Code Pro\";\n",
       "    font-size: 90%;\n",
       "}\n",
       "\n",
       ".alert-box {\n",
       "    padding:10px 10px 10px 36px;\n",
       "    margin:5px;\n",
       "}\n",
       "\n",
       ".success {\n",
       "    color:#666600;\n",
       "    background:rgb(240,242,229);\n",
       "}\n",
       "</style>\n",
       "\n",
       "<script>\n",
       "    MathJax.Hub.Config({\n",
       "                        TeX: {\n",
       "                            extensions: [\"AMSmath.js\"],\n",
       "                            equationNumbers: { autoNumber: \"AMS\", useLabelIds: true}\n",
       "                            },\n",
       "                        tex2jax: {\n",
       "                            inlineMath: [ ['$','$'], [\"\\\\(\",\"\\\\)\"] ],\n",
       "                            displayMath: [ ['$$','$$'], [\"\\\\[\",\"\\\\]\"] ]\n",
       "                            },\n",
       "                        displayAlign: 'center', // Change this to 'center' to center equations.\n",
       "                        \"HTML-CSS\": {\n",
       "                            styles: {'.MathJax_Display': {\"margin\": 4}}\n",
       "                            }\n",
       "                        });\n",
       "    MathJax.Hub.Queue(\n",
       "                      [\"resetEquationNumbers\", MathJax.InputJax.TeX],\n",
       "                      [\"PreProcess\", MathJax.Hub],\n",
       "                      [\"Reprocess\", MathJax.Hub]\n",
       "                     );\n",
       "</script>\n"
      ],
      "text/plain": [
       "<IPython.core.display.HTML object>"
      ]
     },
     "execution_count": 13,
     "metadata": {},
     "output_type": "execute_result"
    }
   ],
   "source": [
    "from IPython.core.display import HTML\n",
    "css_file = '../../styles/numericalmoocstyle.css'\n",
    "HTML(open(css_file, 'r').read())"
   ]
  }
 ],
 "metadata": {
  "kernelspec": {
   "display_name": "Python 3",
   "language": "python",
   "name": "python3"
  },
  "language_info": {
   "codemirror_mode": {
    "name": "ipython",
    "version": 3
   },
   "file_extension": ".py",
   "mimetype": "text/x-python",
   "name": "python",
   "nbconvert_exporter": "python",
   "pygments_lexer": "ipython3",
   "version": "3.7.3"
  }
 },
 "nbformat": 4,
 "nbformat_minor": 1
}
